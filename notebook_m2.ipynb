{
 "cells": [
  {
   "cell_type": "code",
   "execution_count": 19,
   "metadata": {},
   "outputs": [],
   "source": [
    "import matplotlib.pyplot as plt\n",
    "import pandas as pd\n",
    "import json\n",
    "import re"
   ]
  },
  {
   "cell_type": "code",
   "execution_count": 2,
   "metadata": {},
   "outputs": [
    {
     "data": {
      "text/html": [
       "<div>\n",
       "<style scoped>\n",
       "    .dataframe tbody tr th:only-of-type {\n",
       "        vertical-align: middle;\n",
       "    }\n",
       "\n",
       "    .dataframe tbody tr th {\n",
       "        vertical-align: top;\n",
       "    }\n",
       "\n",
       "    .dataframe thead th {\n",
       "        text-align: right;\n",
       "    }\n",
       "</style>\n",
       "<table border=\"1\" class=\"dataframe\">\n",
       "  <thead>\n",
       "    <tr style=\"text-align: right;\">\n",
       "      <th></th>\n",
       "      <th>category_cc</th>\n",
       "      <th>join_date</th>\n",
       "      <th>channel</th>\n",
       "      <th>name_cc</th>\n",
       "      <th>subscribers_cc</th>\n",
       "      <th>videos_cc</th>\n",
       "      <th>subscriber_rank_sb</th>\n",
       "      <th>weights</th>\n",
       "    </tr>\n",
       "  </thead>\n",
       "  <tbody>\n",
       "    <tr>\n",
       "      <th>0</th>\n",
       "      <td>Gaming</td>\n",
       "      <td>2010-04-29</td>\n",
       "      <td>UC-lHJZR3Gqxm24_Vd_AJ5Yw</td>\n",
       "      <td>PewDiePie</td>\n",
       "      <td>101000000</td>\n",
       "      <td>3956</td>\n",
       "      <td>3.0</td>\n",
       "      <td>2.0870</td>\n",
       "    </tr>\n",
       "    <tr>\n",
       "      <th>1</th>\n",
       "      <td>Education</td>\n",
       "      <td>2006-09-01</td>\n",
       "      <td>UCbCmjCuTUZos6Inko4u57UQ</td>\n",
       "      <td>Cocomelon - Nursery ...</td>\n",
       "      <td>60100000</td>\n",
       "      <td>458</td>\n",
       "      <td>7.0</td>\n",
       "      <td>2.0870</td>\n",
       "    </tr>\n",
       "    <tr>\n",
       "      <th>2</th>\n",
       "      <td>Entertainment</td>\n",
       "      <td>2006-09-20</td>\n",
       "      <td>UCpEhnqL0y41EpW2TvWAHD7Q</td>\n",
       "      <td>SET India</td>\n",
       "      <td>56018869</td>\n",
       "      <td>32661</td>\n",
       "      <td>8.0</td>\n",
       "      <td>2.0870</td>\n",
       "    </tr>\n",
       "    <tr>\n",
       "      <th>3</th>\n",
       "      <td>Howto &amp; Style</td>\n",
       "      <td>2016-11-15</td>\n",
       "      <td>UC295-Dw_tDNtZXFeAPAW6Aw</td>\n",
       "      <td>5-Minute Crafts</td>\n",
       "      <td>60600000</td>\n",
       "      <td>3591</td>\n",
       "      <td>9.0</td>\n",
       "      <td>2.0870</td>\n",
       "    </tr>\n",
       "    <tr>\n",
       "      <th>4</th>\n",
       "      <td>Sports</td>\n",
       "      <td>2007-05-11</td>\n",
       "      <td>UCJ5v_MCY6GNUBTO8-D3XoAg</td>\n",
       "      <td>WWE</td>\n",
       "      <td>48400000</td>\n",
       "      <td>43421</td>\n",
       "      <td>11.0</td>\n",
       "      <td>2.0870</td>\n",
       "    </tr>\n",
       "    <tr>\n",
       "      <th>...</th>\n",
       "      <td>...</td>\n",
       "      <td>...</td>\n",
       "      <td>...</td>\n",
       "      <td>...</td>\n",
       "      <td>...</td>\n",
       "      <td>...</td>\n",
       "      <td>...</td>\n",
       "      <td>...</td>\n",
       "    </tr>\n",
       "    <tr>\n",
       "      <th>136465</th>\n",
       "      <td>Music</td>\n",
       "      <td>2016-10-06</td>\n",
       "      <td>UCuM-9AajUOwKw6ipOzu2DRQ</td>\n",
       "      <td>GONE.Fludd - Topic</td>\n",
       "      <td>10128</td>\n",
       "      <td>105</td>\n",
       "      <td>1008139.0</td>\n",
       "      <td>53.1435</td>\n",
       "    </tr>\n",
       "    <tr>\n",
       "      <th>136466</th>\n",
       "      <td>People &amp; Blogs</td>\n",
       "      <td>2013-10-17</td>\n",
       "      <td>UCtW9jp5TH0YrgYpwiRf9t-Q</td>\n",
       "      <td>saidthestory</td>\n",
       "      <td>10100</td>\n",
       "      <td>352</td>\n",
       "      <td>1008644.0</td>\n",
       "      <td>53.1435</td>\n",
       "    </tr>\n",
       "    <tr>\n",
       "      <th>136467</th>\n",
       "      <td>Gaming</td>\n",
       "      <td>2015-05-08</td>\n",
       "      <td>UCTsxFTIUs8vFDzGccDm6i7Q</td>\n",
       "      <td>Omni H</td>\n",
       "      <td>10000</td>\n",
       "      <td>475</td>\n",
       "      <td>1009505.0</td>\n",
       "      <td>53.1435</td>\n",
       "    </tr>\n",
       "    <tr>\n",
       "      <th>136468</th>\n",
       "      <td>Music</td>\n",
       "      <td>2011-04-13</td>\n",
       "      <td>UC1HOArgRCMGPjlcmkThERwA</td>\n",
       "      <td>TĀLĀ</td>\n",
       "      <td>10000</td>\n",
       "      <td>15</td>\n",
       "      <td>1025119.0</td>\n",
       "      <td>53.1435</td>\n",
       "    </tr>\n",
       "    <tr>\n",
       "      <th>136469</th>\n",
       "      <td>People &amp; Blogs</td>\n",
       "      <td>2006-11-11</td>\n",
       "      <td>UCITKvry4fW50iU4FSw9WERQ</td>\n",
       "      <td>Tangleblog</td>\n",
       "      <td>10000</td>\n",
       "      <td>159</td>\n",
       "      <td>1030844.0</td>\n",
       "      <td>53.1435</td>\n",
       "    </tr>\n",
       "  </tbody>\n",
       "</table>\n",
       "<p>136470 rows × 8 columns</p>\n",
       "</div>"
      ],
      "text/plain": [
       "           category_cc   join_date                   channel  \\\n",
       "0               Gaming  2010-04-29  UC-lHJZR3Gqxm24_Vd_AJ5Yw   \n",
       "1            Education  2006-09-01  UCbCmjCuTUZos6Inko4u57UQ   \n",
       "2        Entertainment  2006-09-20  UCpEhnqL0y41EpW2TvWAHD7Q   \n",
       "3        Howto & Style  2016-11-15  UC295-Dw_tDNtZXFeAPAW6Aw   \n",
       "4               Sports  2007-05-11  UCJ5v_MCY6GNUBTO8-D3XoAg   \n",
       "...                ...         ...                       ...   \n",
       "136465           Music  2016-10-06  UCuM-9AajUOwKw6ipOzu2DRQ   \n",
       "136466  People & Blogs  2013-10-17  UCtW9jp5TH0YrgYpwiRf9t-Q   \n",
       "136467          Gaming  2015-05-08  UCTsxFTIUs8vFDzGccDm6i7Q   \n",
       "136468           Music  2011-04-13  UC1HOArgRCMGPjlcmkThERwA   \n",
       "136469  People & Blogs  2006-11-11  UCITKvry4fW50iU4FSw9WERQ   \n",
       "\n",
       "                        name_cc  subscribers_cc  videos_cc  \\\n",
       "0                     PewDiePie       101000000       3956   \n",
       "1       Cocomelon - Nursery ...        60100000        458   \n",
       "2                     SET India        56018869      32661   \n",
       "3               5-Minute Crafts        60600000       3591   \n",
       "4                           WWE        48400000      43421   \n",
       "...                         ...             ...        ...   \n",
       "136465       GONE.Fludd - Topic           10128        105   \n",
       "136466             saidthestory           10100        352   \n",
       "136467                   Omni H           10000        475   \n",
       "136468                     TĀLĀ           10000         15   \n",
       "136469               Tangleblog           10000        159   \n",
       "\n",
       "        subscriber_rank_sb  weights  \n",
       "0                      3.0   2.0870  \n",
       "1                      7.0   2.0870  \n",
       "2                      8.0   2.0870  \n",
       "3                      9.0   2.0870  \n",
       "4                     11.0   2.0870  \n",
       "...                    ...      ...  \n",
       "136465           1008139.0  53.1435  \n",
       "136466           1008644.0  53.1435  \n",
       "136467           1009505.0  53.1435  \n",
       "136468           1025119.0  53.1435  \n",
       "136469           1030844.0  53.1435  \n",
       "\n",
       "[136470 rows x 8 columns]"
      ]
     },
     "metadata": {},
     "output_type": "display_data"
    }
   ],
   "source": [
    "#histogram of number of subwcribers\n",
    "\n",
    "channels = pd.read_csv(\"data/df_channels_en.tsv\", sep = \"\\t\")\n",
    "display(channels)\n"
   ]
  },
  {
   "cell_type": "code",
   "execution_count": 3,
   "metadata": {},
   "outputs": [
    {
     "data": {
      "text/plain": [
       "(array([1.34028e+05, 1.48600e+03, 4.24000e+02, 1.82000e+02, 1.08000e+02,\n",
       "        6.50000e+01, 4.90000e+01, 2.80000e+01, 2.70000e+01, 2.00000e+01,\n",
       "        1.00000e+01, 1.20000e+01, 8.00000e+00, 4.00000e+00, 1.00000e+00,\n",
       "        5.00000e+00, 1.00000e+00, 2.00000e+00, 1.00000e+00, 1.00000e+00,\n",
       "        2.00000e+00, 1.00000e+00, 0.00000e+00, 0.00000e+00, 1.00000e+00,\n",
       "        0.00000e+00, 1.00000e+00, 1.00000e+00, 0.00000e+00, 0.00000e+00,\n",
       "        0.00000e+00, 0.00000e+00, 0.00000e+00, 0.00000e+00, 0.00000e+00,\n",
       "        0.00000e+00, 0.00000e+00, 0.00000e+00, 0.00000e+00, 0.00000e+00,\n",
       "        0.00000e+00, 0.00000e+00, 0.00000e+00, 0.00000e+00, 0.00000e+00,\n",
       "        1.00000e+00, 0.00000e+00, 0.00000e+00, 0.00000e+00, 1.00000e+00]),\n",
       " array([1.00000000e+04, 2.25258926e+06, 4.49517852e+06, 6.73776778e+06,\n",
       "        8.98035704e+06, 1.12229463e+07, 1.34655356e+07, 1.57081248e+07,\n",
       "        1.79507141e+07, 2.01933033e+07, 2.24358926e+07, 2.46784819e+07,\n",
       "        2.69210711e+07, 2.91636604e+07, 3.14062496e+07, 3.36488389e+07,\n",
       "        3.58914282e+07, 3.81340174e+07, 4.03766067e+07, 4.26191959e+07,\n",
       "        4.48617852e+07, 4.71043745e+07, 4.93469637e+07, 5.15895530e+07,\n",
       "        5.38321422e+07, 5.60747315e+07, 5.83173208e+07, 6.05599100e+07,\n",
       "        6.28024993e+07, 6.50450885e+07, 6.72876778e+07, 6.95302671e+07,\n",
       "        7.17728563e+07, 7.40154456e+07, 7.62580348e+07, 7.85006241e+07,\n",
       "        8.07432134e+07, 8.29858026e+07, 8.52283919e+07, 8.74709811e+07,\n",
       "        8.97135704e+07, 9.19561597e+07, 9.41987489e+07, 9.64413382e+07,\n",
       "        9.86839274e+07, 1.00926517e+08, 1.03169106e+08, 1.05411695e+08,\n",
       "        1.07654284e+08, 1.09896874e+08, 1.12139463e+08]),\n",
       " <BarContainer object of 50 artists>)"
      ]
     },
     "execution_count": 3,
     "metadata": {},
     "output_type": "execute_result"
    },
    {
     "data": {
      "image/png": "[encoded data removed]",
      "text/plain": [
       "<Figure size 640x480 with 1 Axes>"
      ]
     },
     "metadata": {},
     "output_type": "display_data"
    }
   ],
   "source": [
    "plt.hist(channels['subscribers_cc'], log=True, bins= 50)"
   ]
  },
  {
   "cell_type": "code",
   "execution_count": 34,
   "metadata": {},
   "outputs": [],
   "source": [
    "import string\n",
    "\n",
    "def is_collab(text):\n",
    "    keywords = [\"collab\", \"collaboration\", \"ft.\", \"feat\", \"featuring\"]\n",
    "    # Split the text into words and handle punctuation\n",
    "    text = text.lower()\n",
    "    words_in_text = text.translate(str.maketrans('', '', string.punctuation)).split()\n",
    "    \n",
    "    \n",
    "    for word in keywords:\n",
    "        if word in words_in_text:\n",
    "            return True\n",
    "    return False"
   ]
  },
  {
   "cell_type": "code",
   "execution_count": 8,
   "metadata": {},
   "outputs": [
    {
     "name": "stdout",
     "output_type": "stream",
     "text": [
      "Defaulting to user installation because normal site-packages is not writeable\n",
      "Requirement already satisfied: pyspark in /home/agatha/.local/lib/python3.10/site-packages (3.5.0)\n",
      "Requirement already satisfied: py4j==0.10.9.7 in /home/agatha/.local/lib/python3.10/site-packages (from pyspark) (0.10.9.7)\n"
     ]
    }
   ],
   "source": [
    "import numpy as np\n",
    "!pip install pyspark"
   ]
  },
  {
   "cell_type": "code",
   "execution_count": 9,
   "metadata": {},
   "outputs": [
    {
     "name": "stderr",
     "output_type": "stream",
     "text": [
      "23/11/10 18:01:56 WARN Utils: Your hostname, agatha-IdeaPad-Slim-5-14IRL8 resolves to a loopback address: 127.0.1.1; using 192.168.1.29 instead (on interface wlp0s20f3)\n",
      "23/11/10 18:01:56 WARN Utils: Set SPARK_LOCAL_IP if you need to bind to another address\n",
      "Setting default log level to \"WARN\".\n",
      "To adjust logging level use sc.setLogLevel(newLevel). For SparkR, use setLogLevel(newLevel).\n",
      "23/11/10 18:01:57 WARN NativeCodeLoader: Unable to load native-hadoop library for your platform... using builtin-java classes where applicable\n"
     ]
    }
   ],
   "source": [
    "from pyspark import SparkContext\n",
    "sc = SparkContext()\n",
    "\n",
    "file_path = \"data/yt_metadata_en.jsonl\"\n",
    "raw_data = sc.textFile(file_path)\n",
    "\n",
    "dataset = raw_data.map(lambda x: json.loads(x))\n",
    "#dataset.persist()\n",
    "\n"
   ]
  },
  {
   "cell_type": "code",
   "execution_count": 10,
   "metadata": {},
   "outputs": [
    {
     "name": "stderr",
     "output_type": "stream",
     "text": [
      "                                                                                \r"
     ]
    }
   ],
   "source": [
    "total_count = dataset.count()"
   ]
  },
  {
   "cell_type": "code",
   "execution_count": 11,
   "metadata": {},
   "outputs": [
    {
     "data": {
      "text/plain": [
       "[{'categories': 'Film & Animation',\n",
       "  'channel_id': 'UCzWrhkg9eK5I8Bm3HfV-unA',\n",
       "  'crawl_date': '2019-10-31 20:19:26.270363',\n",
       "  'description': 'Lego City Police Lego Firetruck Cartoons about Lego City Movie for kids with a nice long video to keep the kids entertained while learning and having fun with the Lego City characters from Lego City undercover. Thanks for watching!',\n",
       "  'dislike_count': 1.0,\n",
       "  'display_id': 'SBqSc91Hn9g',\n",
       "  'duration': 1159,\n",
       "  'like_count': 8.0,\n",
       "  'tags': 'lego city,lego police,lego city police,lego city episodes,videos de lego city,lego policia,lego bomberos,lego fire truck,lego firetruck,lego police chase,lego robbers,lego cartoons,lego movies,lego videos for kids',\n",
       "  'title': 'Lego City Police Lego Firetruck Cartoons about Lego City Movie for kids Episodes',\n",
       "  'upload_date': '2016-09-28 00:00:00',\n",
       "  'view_count': 1057.0}]"
      ]
     },
     "execution_count": 11,
     "metadata": {},
     "output_type": "execute_result"
    }
   ],
   "source": [
    "dataset.take(1)"
   ]
  },
  {
   "cell_type": "markdown",
   "metadata": {},
   "source": [
    "TESTING"
   ]
  },
  {
   "cell_type": "code",
   "execution_count": 39,
   "metadata": {},
   "outputs": [],
   "source": [
    "filtered_dataset_descr = dataset.filter(lambda x:is_collab(x.get(\"description\", \"\")))\n",
    "filtered_dataset_title = dataset.filter(lambda x:is_collab(x.get(\"title\", \"\")))"
   ]
  },
  {
   "cell_type": "code",
   "execution_count": 40,
   "metadata": {},
   "outputs": [
    {
     "name": "stderr",
     "output_type": "stream",
     "text": [
      "                                                                                \r"
     ]
    }
   ],
   "source": [
    "colab_count_descr = filtered_dataset_descr.count()\n",
    "colab_count_title = filtered_dataset_title.count()"
   ]
  },
  {
   "cell_type": "code",
   "execution_count": 41,
   "metadata": {},
   "outputs": [
    {
     "name": "stdout",
     "output_type": "stream",
     "text": [
      "2.083314763974513\n",
      "0.5777568600330911\n"
     ]
    }
   ],
   "source": [
    "print(colab_count_descr/total_count * 100)\n",
    "print(colab_count_title/total_count * 100)"
   ]
  },
  {
   "cell_type": "code",
   "execution_count": 42,
   "metadata": {},
   "outputs": [
    {
     "data": {
      "text/plain": [
       "[{'categories': 'Film & Animation',\n",
       "  'channel_id': 'UCzWrhkg9eK5I8Bm3HfV-unA',\n",
       "  'crawl_date': '2019-10-31 20:19:32.717921',\n",
       "  'description': \"The Amazing Spider-Man 2 is a 2014 action-adventure video game that will coincide with the release of the film of the same name featuring the Marvel Comics superhero Spider-Man. It is being developed by Beenox, developer of the previous games Spider-Man: Shattered Dimensions, Spider-Man: Edge of Time and The Amazing Spider-Man, and published by Activision.\\n\\nThe game takes place alongside the events of the film, as Spider-Man searches for Uncle Ben's killer. The game will feature an all-star villain cast from Spider-Man's universe, and will feature both new and old characters. The game will feature prominent villains such as Kraven the Hunter, Electro, Kingpin, Black Cat, Green Goblin, Chameleon, Carnage, and Shocker.\\nEnjoy this Spiderman The Amazing Spider-Man 2 cut scenes movie from the game part 1\",\n",
       "  'dislike_count': 0.0,\n",
       "  'display_id': 'evnxtBrBY0s',\n",
       "  'duration': 1979,\n",
       "  'like_count': 11.0,\n",
       "  'tags': 'spiderman,amazing spiderman,spiderman español,spider-man,spiderman movie,venom,lego spiderman,lego toys,lego español,spiderman vs,spiderman real life',\n",
       "  'title': 'The Amazing Spider-Man 2 movie scene',\n",
       "  'upload_date': '2016-02-01 00:00:00',\n",
       "  'view_count': 1152.0},\n",
       " {'categories': 'Film & Animation',\n",
       "  'channel_id': 'UCzWrhkg9eK5I8Bm3HfV-unA',\n",
       "  'crawl_date': '2019-10-31 20:19:35.517438',\n",
       "  'description': 'Subscribe for more: https://goo.gl/JI78Ak\\nNew videos everyday!\\n\\n-- Check out these awesome videos --\\n\\nImaginext Batman Batdog Ace Superheroes chase The Penguin and his canon http://www.youtube.com/watch?v=zemgu2Q4Yd4\\n\\nSpider-man Imaginext Playskool Heroes Spiderman Battles the Green Goblin http://www.youtube.com/watch?v=B9FuMg-JcMk\\n\\nSpider-man Playskool heroes Spiderman vs. Green Goblin superhero marvel http://www.youtube.com/watch?v=5vCqQVVLJCM\\n\\nMarvel Incredible HULK Origins Increíble Hulk Imaginext DC superheroes http://www.youtube.com/watch?v=tRhF1reIpmk\\n\\nLego Marvel Super Heroes Spider-Man Hulk Iron-Man Dc Captain America http://www.youtube.com/watch?v=uZjuisBAi4I\\n\\nImaginext Playskool Spider-man Captain America Green Goblin wake Spiderman up Marvel http://www.youtube.com/watch?v=hZMBSB9M_o0\\n\\nImaginext Playskool Spider-man Batman Hulk Superman Joker Bane Riddler Marvel http://www.youtube.com/watch?v=iQcvs_Zm1yA\\n\\nLego city Fireman Marvel surprise egg Ironman kinder superheroes http://www.youtube.com/watch?v=dVY-k8tpzRI\\n\\nDisney Pixar Cars 2 racers collection all cars long video for kids  http://www.youtube.com/watch?v=ikPgqOPXiAw\\n\\nLego city police lego cars firetruck Lego fireman Lego city http://www.youtube.com/watch?v=4eOJQ-zGSFk\\n\\nLego Junior Quest Story police chase robber fireman city cop duplo lego policia bombero ladrones http://www.youtube.com/watch?v=j1plTifI4i4\\n\\nLego city police fireman bank robber boat race car motorcycle Lego policia http://www.youtube.com/watch?v=VZ6_wQxKVSI\\n\\nLego city police firetruck race car Lego firman for kids long video http://www.youtube.com/watch?v=lepXEdv1Udc\\n\\nSuperman Pirate hulk batman imaginext hulk Car as dc héroes superheroes superman wants to become a pirata and hunt for treasures\\n\\n\\n\\n\\nSpiderman (Carnage) is a fictional comic book supervillain appearing in books published by Marvel Comics, usually as an enemy of Spider-Man\\n\\nVenom, or the Venom Symbiote, is a fictional character appearing in books published by Marvel Comics, usually those featuring Spider-Man.\\n\\nHe is granted with all the powers of its first known host, Spider-Man. Venom is able to greatly enhance physical attributes of its current host with Superhuman strength, ability to change form.\\n\\nVenom is sometimes known as Black Spiderman.\\n\\nSpiderman with Spiderman car check out this cool car by Spiderman\\nSpiderman real life aventures\\n\\nWe also enjoy unwrapping Surprise eggs and inside can be found with the different cartoons like Dora the explorer, Pocoyo, Thomas, Dora, Monsters University, Monsters Inc, Smurfs, Disney Pixar Cars 2, SpongeBob, Spider Man, and many more\\n\\nStay tuned for more Kinder Surprise Chocolates unboxing\\nOn a separate note in other languages it is known as Kinder Sorpresa, Kinder Joy, Kinder Überraschung, Kinder Ovo e Киндер Сюрприз, Kinderegg, Kinderüberraschung, Verrassingsei, Kinder Surpresa, Kinderschokolade, Kinderueberraschung, Kinderoverraskelse, Kinder Niespodzianka, Kinder-yllätys, Kinderägg, Kinder Meglepetés, & キンダーサプライズ.\\n\\nJust in case you didnt know this, Cars 2 is a animated film by Pixar Animation Studios released by Walt Disney Pictures. The film is directed by John Lasseter.\\n\\nsuch as Delayed Speech have all found Videos a Great Teaching Resource to Improve Young Learners\\' Development.\\n\\nThis is a child and family oriented channel reviewing and playing with toys, such as Play-Doh, Frozen Dolls, Disney Cars, Caillou toys,Thomas & Friends, Monsters University, Disney Planes, Sesame Street Elmo & Cookie Monster, The Smurfs, Playskool Imaginext Batman, Robin, Mr. Freeze, Penguin, Riddler, Cat Woman, Bane, \"Justice League\" Justice League, Lightning McQueen, \"Lightning McQueen\", Mater, Ramone, Sarge, Sally, and \"Disney cars\" Disney cars, \"Custom Disney cars\" Custom Disney cars Rescue Bots Lego Duplo Lego police Lego fireman and lots more!Lego cars race police firetruck race car playmobil\\nLEGO Minifigures has all the figures all together to make the kids enjoy.\\nThis is a child and family oriented channel reviewing and playing with toys, such as Play-Doh, Frozen Dolls, Disney Cars, Caillou toys,Thomas & Friends, Monsters University, Disney Planes, Sesame Street Elmo & Cookie Monster, The Smurfs, Playskool Imaginext Batman, Robin, Mr. Freeze, Penguin, Riddler, Cat Woman, Bane, \"Justice League\" Justice League, Lightning McQueen, \"Lightning McQueen\", Mater, Ramone, Sarge, Sally, and \"Disney cars\" Disney cars, \"Custom Disney cars\" Custom Disney cars Rescue Bots Lego Duplo Lego police Lego fireman and lots more!',\n",
       "  'dislike_count': 0.0,\n",
       "  'display_id': 'K4VWJfZatu4',\n",
       "  'duration': 259,\n",
       "  'like_count': 10.0,\n",
       "  'tags': 'superman spuerman vs batman,batman,imaginext,fisher price,real life spiderman,batman hulk,hulk real life,superman,superman vs batman,Hulk (Comic Book Character)',\n",
       "  'title': 'Superman wants to be a pirate hulk batman imaginext hulk Car dc heroes',\n",
       "  'upload_date': '2015-12-06 00:00:00',\n",
       "  'view_count': 410.0}]"
      ]
     },
     "execution_count": 42,
     "metadata": {},
     "output_type": "execute_result"
    }
   ],
   "source": [
    "filtered_dataset_descr.take(2)"
   ]
  },
  {
   "cell_type": "code",
   "execution_count": 44,
   "metadata": {},
   "outputs": [
    {
     "data": {
      "text/plain": [
       "[{'categories': 'Gaming',\n",
       "  'channel_id': 'UCzWfqsjlvzAOUozsGFR3kbg',\n",
       "  'crawl_date': '2019-10-31 15:41:37.422090',\n",
       "  'description': \"CHECKOUT LENA'S CHANNEL! https://www.youtube.com/user/TheDangerousThing\\nhttp://www.youtube.com/watch?v=1LFsNiwpLpM\\n\\nMusic background: Monstercat\\n[Electronic] - Laszlo - Law Of The Jungle [Monstercat EP Release]\\nhttp://www.youtube.com/watch?v=zMHvZXirECc\\n\\nhttp://www.youtube.com/watch?v=zMHvZXirECc\\n\\nFREE DIAMONDS AND GEMS HERE!\\nStep by Step Guide:\\n1. Go to http://m.freemyapps.com/share/url/BootrampGames\\n2. Install the profile\\n3. Download the free apps, run them for 30 seconds, go back to FreeMyApps and get points!\\n4. Redeem the points for ITunes giftcards and have fun with your gems!\\nHope this helps you guys get some Diamonds.\\n\\n\\n\\n\\nIntro song: [Hard Dance] - Stonebank - The Pressure [Monstercat Release] link: http://youtu.be/45eSOGguEew\\n\\n\\n\\n\\nIntro made by OwlArtz link: http://youtu.be/8yFwj82g8jw.\\n\\nFOLLOW ME ON TWITTER : BootrampGames\\nFIND ME ON INSTAGRAM : bootrampyoutube\\nSECCOND CHANNEL : www.youtube.com/cocgeneral\\n\\n\\nClash Of Clans\\nClash of Clans is an addictive mixture of strategic planning and competitive fast-paced combats. Raise an army of Barbarians, War Wizards, Dragons and other mighty fighters. Join a clan of players and rise through the ranks, or create your own Clan to contest ownership of the Realm. Driving back the goblins is just the first step - your quest isn't over until your clan reigns supreme over all others!\\n\\nCategory: Games\\nUpdated: 10 June 2014\\nVersion: 6.108.5\\nSize: 53.3 MB\\nLanguages: English, Japanese, Korean, Simplified Chinese, Traditional Chinese\\nDeveloper: Supercell Oy\\n© 2012 Supercell\\nRated 9+ for the following:\\nInfrequent/Mild Cartoon or Fantasy Violence\\nCompatibility: Requires iOS 4.3 or later. Compatible with iPhone, iPad, and iPod touch. This app is optimized for iPhone 5.\\n\\n\\nBoom Beach:\\n\\nStorm the beach and win the day! Boom Beach is a combat strategy game where you fight an epic war against the evil Blackguard. Take your expeditionary force to beautiful paradise islands invaded by the enemy. Fight for every beachhead, free enslaved islanders and explore the uncharted archipelago. The fight becomes a race to harness the ancient powers hidden on the islands. Are you ready for the BOOM?\\n\\nCategory: Games\\nUpdated: 02 June 2014\\nVersion: 16.5.1\\nSize: 83.2 MB\\nLanguages: English, Dutch, French, German, Italian, Japanese, Korean, Portuguese, Russian, Simplified Chinese, Spanish, Turkish\\nDeveloper: Supercell Oy\\n© 2013 Supercell\\nRated 9+ for the following:\\nInfrequent/Mild Cartoon or Fantasy Violence\\nCompatibility: Requires iOS 7.0 or later. Compatible with iPhone,iPad, and iPod touch. This app is optimized for iPhone 5\",\n",
       "  'dislike_count': 61.0,\n",
       "  'display_id': '1cavVvCzJDo',\n",
       "  'duration': 713,\n",
       "  'like_count': 517.0,\n",
       "  'tags': 'Boom Beach,all gril raid,boom beach girl,boom,beach,Video Game (Industry),Supercell (Video Game Developer),boom beach diamonds,diamond,boom beach gameplay,zooka,heavy,iphone,IOS,bootramp,boom beach general,boom beach base,attack,boom beach attacks,boom beach tips,tips,boom beach strategy,strategy',\n",
       "  'title': 'ALL GIRL RAID | Boom Beach | ATTACK TIPS AND STRATEGY COLLAB',\n",
       "  'upload_date': '2015-07-26 00:00:00',\n",
       "  'view_count': 21918.0},\n",
       " {'categories': 'Music',\n",
       "  'channel_id': 'UCzWfqsjlvzAOUozsGFR3kbg',\n",
       "  'crawl_date': '2019-10-31 15:41:52.783564',\n",
       "  'description': \"Thank you Nordic Screens Norway for giving me the oppurtunity to   meet alot of great people! BOOM BOOM BOOOOOM!\\n---------------------------------------------------------------------------------------------------------------------------------------------------------\\n\\nMusic Producer : Kim\\nKosteOfficial https://www.youtube.com/user/kosteofficial\\n\\nVideo Producer / Crew : Rolf Ørjan Høgset / Trine Merete Olsen\\nhttps://www.youtube.com/user/rolfie6515\\n\\nNORDIC SCREEN NORWAY\\n\\nNeed Free Diamonds?  [ Clash Of Clans - Boom Beach ]\\nWORKS ON: Iphone, Android, iPad\\n\\nGo to this page! http://m.freemyapps.com/share/url/BootrampGames\\n\\nStep by Step Guide:\\n1. Go to http://m.freemyapps.com/share/url/BootrampGames\\n2. Install the profile\\n3. Download the free apps, run them for 30 seconds, go back to FreeMyApps and get points!\\n4. Redeem the points for ITunes giftcards and have fun with your gems!\\nHope this helps you guys get some Diamonds\\n\\nNorsk / Norwegian gamer BOOM!\\n\\nFOLLOW ME ON TWITTER : BootrampGames\\nFIND ME ON INSTAGRAM : Boom_Beach_General BOOTRAMP\\nSECCOND CHANNEL : www.youtube.com/cocgeneral\\n\\n\\nClash Of Clans\\n\\nClash of Clans is an addictive mixture of strategic planning and competitive fast-paced combats. Raise an army of Barbarians, War Wizards, Dragons and other mighty fighters. Join a clan of players and rise through the ranks, or create your own Clan to contest ownership of the Realm. Driving back the goblins is just the first step - your quest isn't over until your clan reigns supreme over all others!\\n\\nCategory: Games\\nUpdated: 10 June 2014\\nVersion: 6.108.5\\nSize: 53.3 MB\\nLanguages: English, Japanese, Korean, Simplified Chinese, Traditional Chinese\\nDeveloper: Supercell Oy\\n© 2012 Supercell\\nRated 9+ for the following:\\nInfrequent/Mild Cartoon or Fantasy Violence\\nCompatibility: Requires iOS 4.3 or later. Compatible with iPhone, iPad, and iPod touch. This app is optimized for iPhone 5.\\n\\n\\nBoom Beach:\\n\\nStorm the beach and win the day! Boom Beach is a combat strategy game where you fight an epic war against the evil Blackguard. Take your expeditionary force to beautiful paradise islands invaded by the enemy. Fight for every beachhead, free enslaved islanders and explore the uncharted archipelago. The fight becomes a race to harness the ancient powers hidden on the islands. Are you ready for the BOOM?\\n\\nCategory: Games\\nUpdated: 02 June 2014\\nVersion: 16.5.1\\nSize: 83.2 MB\\nLanguages: English, Dutch, French, German, Italian, Japanese, Korean, Portuguese, Russian, Simplified Chinese, Spanish, Turkish\\nDeveloper: Supercell Oy\\n© 2013 Supercell\\nRated 9+ for the following:\\nInfrequent/Mild Cartoon or Fantasy Violence\\nCompatibility: Requires iOS 7.0 or later. Compatible with iPhone, iPad, and iPod touch. This app is optimized for iPhone 5.\",\n",
       "  'dislike_count': 112.0,\n",
       "  'display_id': 'O0N0fH41wGw',\n",
       "  'duration': 140,\n",
       "  'like_count': 1193.0,\n",
       "  'tags': 'official,music,boom beach,boom beach song,boom beach general,brave,johnson,rifleman,rifleman johnson,norwegian gamer boom,need free diamonds,mild cartoon,bootrampgames,mobile strategy game,graphic art,graphic design,internet,super,how,stock,diamonds,diamond,cloud,move,voice,actor,general,the general,troops,clash of clans,hd,norsk,norwegian,norway,supercell,song,music video,boom beach brave,Strategy Video Game (Video Game Genre),Video Game (Industry)',\n",
       "  'title': 'BRAVE | Boom Beach | Bootramp feat Kosteofficial',\n",
       "  'upload_date': '2015-01-05 00:00:00',\n",
       "  'view_count': 41416.0}]"
      ]
     },
     "execution_count": 44,
     "metadata": {},
     "output_type": "execute_result"
    }
   ],
   "source": [
    "filtered_dataset_title.take(2)"
   ]
  },
  {
   "cell_type": "code",
   "execution_count": 47,
   "metadata": {},
   "outputs": [
    {
     "name": "stderr",
     "output_type": "stream",
     "text": [
      "                                                                                \r"
     ]
    }
   ],
   "source": [
    "sampled_dataset = dataset.sample(fraction = 0.001, withReplacement=False ,seed=42)\n",
    "\n",
    "json_data = sampled_dataset.collect()\n",
    "\n",
    "with open(\"data/sampled_dataset.json\", \"w\") as f:\n",
    "    json.dump(json_data, f)"
   ]
  }
 ],
 "metadata": {
  "kernelspec": {
   "display_name": "ADAenv",
   "language": "python",
   "name": "python3"
  },
  "language_info": {
   "codemirror_mode": {
    "name": "ipython",
    "version": 3
   },
   "file_extension": ".py",
   "mimetype": "text/x-python",
   "name": "python",
   "nbconvert_exporter": "python",
   "pygments_lexer": "ipython3",
   "version": "3.10.12"
  }
 },
 "nbformat": 4,
 "nbformat_minor": 2
}

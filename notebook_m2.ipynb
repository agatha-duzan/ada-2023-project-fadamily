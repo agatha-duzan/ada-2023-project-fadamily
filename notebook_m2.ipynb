{
 "cells": [
  {
   "cell_type": "code",
   "execution_count": 1,
   "metadata": {},
   "outputs": [
    {
     "data": {
      "text/plain": [
       "'import matplotlib.pyplot as plt\\nimport pandas as pd\\nimport json\\nimport re'"
      ]
     },
     "execution_count": 1,
     "metadata": {},
     "output_type": "execute_result"
    }
   ],
   "source": [
    "\"\"\"import matplotlib.pyplot as plt\n",
    "import pandas as pd\n",
    "import json\n",
    "import re\"\"\""
   ]
  },
  {
   "cell_type": "code",
   "execution_count": 2,
   "metadata": {},
   "outputs": [
    {
     "data": {
      "text/plain": [
       "'#histogram of number of subwcribers\\n\\nchannels = pd.read_csv(\"data/df_channels_en.tsv\", sep = \"\\t\")\\ndisplay(channels)'"
      ]
     },
     "execution_count": 2,
     "metadata": {},
     "output_type": "execute_result"
    }
   ],
   "source": [
    "\"\"\"#histogram of number of subwcribers\n",
    "\n",
    "channels = pd.read_csv(\"data/df_channels_en.tsv\", sep = \"\\t\")\n",
    "display(channels)\"\"\"\n"
   ]
  },
  {
   "cell_type": "code",
   "execution_count": 3,
   "metadata": {},
   "outputs": [
    {
     "data": {
      "text/plain": [
       "\"plt.hist(channels['subscribers_cc'], log=True, bins= 50)\""
      ]
     },
     "execution_count": 3,
     "metadata": {},
     "output_type": "execute_result"
    }
   ],
   "source": [
    "\"\"\"plt.hist(channels['subscribers_cc'], log=True, bins= 50)\"\"\""
   ]
  },
  {
   "cell_type": "code",
   "execution_count": 4,
   "metadata": {},
   "outputs": [
    {
     "data": {
      "text/plain": [
       "'import string\\n\\ndef is_collab(text):\\n    keywords = [\"collab\", \"collaboration\", \"ft.\", \"feat\", \"featuring\"]\\n    # Split the text into words and handle punctuation\\n    text = text.lower()\\n    words_in_text = text.translate(str.maketrans(\\'\\', \\'\\', string.punctuation)).split()\\n    \\n    \\n    for word in keywords:\\n        if word in words_in_text:\\n            return True\\n    return False'"
      ]
     },
     "execution_count": 4,
     "metadata": {},
     "output_type": "execute_result"
    }
   ],
   "source": [
    "\"\"\"import string\n",
    "\n",
    "def is_collab(text):\n",
    "    keywords = [\"collab\", \"collaboration\", \"ft.\", \"feat\", \"featuring\"]\n",
    "    # Split the text into words and handle punctuation\n",
    "    text = text.lower()\n",
    "    words_in_text = text.translate(str.maketrans('', '', string.punctuation)).split()\n",
    "    \n",
    "    \n",
    "    for word in keywords:\n",
    "        if word in words_in_text:\n",
    "            return True\n",
    "    return False\"\"\""
   ]
  },
  {
   "cell_type": "code",
   "execution_count": 5,
   "metadata": {},
   "outputs": [
    {
     "data": {
      "text/plain": [
       "'import numpy as np\\n!pip install pyspark'"
      ]
     },
     "execution_count": 5,
     "metadata": {},
     "output_type": "execute_result"
    }
   ],
   "source": [
    "\"\"\"import numpy as np\n",
    "!pip install pyspark\"\"\""
   ]
  },
  {
   "cell_type": "code",
   "execution_count": 6,
   "metadata": {},
   "outputs": [
    {
     "data": {
      "text/plain": [
       "'from pyspark import SparkContext\\nsc = SparkContext()\\n\\nfile_path = \"data/yt_metadata_en.jsonl\"\\nraw_data = sc.textFile(file_path)\\n\\ndataset = raw_data.map(lambda x: json.loads(x))\\n#dataset.persist()'"
      ]
     },
     "execution_count": 6,
     "metadata": {},
     "output_type": "execute_result"
    }
   ],
   "source": [
    "\"\"\"from pyspark import SparkContext\n",
    "sc = SparkContext()\n",
    "\n",
    "file_path = \"data/yt_metadata_en.jsonl\"\n",
    "raw_data = sc.textFile(file_path)\n",
    "\n",
    "dataset = raw_data.map(lambda x: json.loads(x))\n",
    "#dataset.persist()\"\"\"\n",
    "\n"
   ]
  },
  {
   "cell_type": "code",
   "execution_count": 7,
   "metadata": {},
   "outputs": [
    {
     "data": {
      "text/plain": [
       "'total_count = dataset.count()'"
      ]
     },
     "execution_count": 7,
     "metadata": {},
     "output_type": "execute_result"
    }
   ],
   "source": [
    "\"\"\"total_count = dataset.count()\"\"\""
   ]
  },
  {
   "cell_type": "code",
   "execution_count": 8,
   "metadata": {},
   "outputs": [
    {
     "data": {
      "text/plain": [
       "'dataset.take(1)'"
      ]
     },
     "execution_count": 8,
     "metadata": {},
     "output_type": "execute_result"
    }
   ],
   "source": [
    "\"\"\"dataset.take(1)\"\"\""
   ]
  },
  {
   "cell_type": "markdown",
   "metadata": {},
   "source": [
    "TESTING"
   ]
  },
  {
   "cell_type": "code",
   "execution_count": 9,
   "metadata": {},
   "outputs": [
    {
     "data": {
      "text/plain": [
       "'filtered_dataset_descr = dataset.filter(lambda x:is_collab(x.get(\"description\", \"\")))\\nfiltered_dataset_title = dataset.filter(lambda x:is_collab(x.get(\"title\", \"\")))'"
      ]
     },
     "execution_count": 9,
     "metadata": {},
     "output_type": "execute_result"
    }
   ],
   "source": [
    "\"\"\"filtered_dataset_descr = dataset.filter(lambda x:is_collab(x.get(\"description\", \"\")))\n",
    "filtered_dataset_title = dataset.filter(lambda x:is_collab(x.get(\"title\", \"\")))\"\"\""
   ]
  },
  {
   "cell_type": "code",
   "execution_count": 10,
   "metadata": {},
   "outputs": [
    {
     "data": {
      "text/plain": [
       "'colab_count_descr = filtered_dataset_descr.count()\\ncolab_count_title = filtered_dataset_title.count()'"
      ]
     },
     "execution_count": 10,
     "metadata": {},
     "output_type": "execute_result"
    }
   ],
   "source": [
    "\"\"\"colab_count_descr = filtered_dataset_descr.count()\n",
    "colab_count_title = filtered_dataset_title.count()\"\"\""
   ]
  },
  {
   "cell_type": "code",
   "execution_count": 11,
   "metadata": {},
   "outputs": [
    {
     "data": {
      "text/plain": [
       "'print(colab_count_descr/total_count * 100)\\nprint(colab_count_title/total_count * 100)'"
      ]
     },
     "execution_count": 11,
     "metadata": {},
     "output_type": "execute_result"
    }
   ],
   "source": [
    "\"\"\"print(colab_count_descr/total_count * 100)\n",
    "print(colab_count_title/total_count * 100)\"\"\""
   ]
  },
  {
   "cell_type": "code",
   "execution_count": 12,
   "metadata": {},
   "outputs": [
    {
     "data": {
      "text/plain": [
       "'filtered_dataset_descr.take(2)'"
      ]
     },
     "execution_count": 12,
     "metadata": {},
     "output_type": "execute_result"
    }
   ],
   "source": [
    "\"\"\"filtered_dataset_descr.take(2)\"\"\""
   ]
  },
  {
   "cell_type": "code",
   "execution_count": 13,
   "metadata": {},
   "outputs": [],
   "source": [
    "#filtered_dataset_title.take(2)"
   ]
  },
  {
   "cell_type": "code",
   "execution_count": 14,
   "metadata": {},
   "outputs": [
    {
     "data": {
      "text/plain": [
       "'sampled_dataset = dataset.sample(fraction = 0.001, withReplacement=False ,seed=42)\\n\\njson_data = sampled_dataset.collect()\\n\\nwith open(\"data/sampled_dataset.json\", \"w\") as f:\\n    json.dump(json_data, f)'"
      ]
     },
     "execution_count": 14,
     "metadata": {},
     "output_type": "execute_result"
    }
   ],
   "source": [
    "\"\"\"sampled_dataset = dataset.sample(fraction = 0.001, withReplacement=False ,seed=42)\n",
    "\n",
    "json_data = sampled_dataset.collect()\n",
    "\n",
    "with open(\"data/sampled_dataset.json\", \"w\") as f:\n",
    "    json.dump(json_data, f)\"\"\""
   ]
  },
  {
   "cell_type": "code",
   "execution_count": 15,
   "metadata": {},
   "outputs": [],
   "source": [
    "#!pip install pyspark\n",
    "import matplotlib.pyplot as plt\n",
    "import pandas as pd\n",
    "import json\n",
    "import re\n",
    "import string"
   ]
  },
  {
   "cell_type": "code",
   "execution_count": 16,
   "metadata": {},
   "outputs": [
    {
     "name": "stderr",
     "output_type": "stream",
     "text": [
      "23/11/11 14:31:03 WARN Utils: Your hostname, MacBook-Pro-de-Paul-2.local resolves to a loopback address: 127.0.0.1; using 192.168.1.33 instead (on interface en0)\n",
      "23/11/11 14:31:03 WARN Utils: Set SPARK_LOCAL_IP if you need to bind to another address\n",
      "Setting default log level to \"WARN\".\n",
      "To adjust logging level use sc.setLogLevel(newLevel). For SparkR, use setLogLevel(newLevel).\n",
      "23/11/11 14:31:04 WARN NativeCodeLoader: Unable to load native-hadoop library for your platform... using builtin-java classes where applicable\n"
     ]
    }
   ],
   "source": [
    "from pyspark import SparkContext\n",
    "sc = SparkContext()\n",
    "\n",
    "file_path = \"data/sampled_dataset.jsonl\" #\"data/yt_metadata_en.jsonl\"\n",
    "raw_data = sc.textFile(file_path)\n",
    "\n",
    "dataset = raw_data.map(lambda x: json.loads(x))"
   ]
  },
  {
   "cell_type": "code",
   "execution_count": 17,
   "metadata": {},
   "outputs": [
    {
     "name": "stderr",
     "output_type": "stream",
     "text": [
      "[Stage 0:>                                                          (0 + 3) / 3]\r"
     ]
    },
    {
     "name": "stdout",
     "output_type": "stream",
     "text": [
      "Number of rows:  72602\n"
     ]
    },
    {
     "name": "stderr",
     "output_type": "stream",
     "text": [
      "                                                                                \r"
     ]
    }
   ],
   "source": [
    "total_count = dataset.count()\n",
    "print(\"Number of rows: \", total_count)"
   ]
  },
  {
   "cell_type": "code",
   "execution_count": 18,
   "metadata": {},
   "outputs": [
    {
     "data": {
      "text/plain": [
       "[{'categories': 'Film & Animation',\n",
       "  'channel_id': 'UCzWrhkg9eK5I8Bm3HfV-unA',\n",
       "  'crawl_date': '2019-10-31 20:19:30.784552',\n",
       "  'description': 'Lego City Police Lego Fireman Firetruck Cartoons about Lego for Children with a nice long video to keep the little ones entertained while learning and having fun. Thanks for watching!',\n",
       "  'dislike_count': 31.0,\n",
       "  'display_id': 'HNg8_Zzz5A8',\n",
       "  'duration': 1539,\n",
       "  'like_count': 114.0,\n",
       "  'tags': 'Lego city police,lego police,lego city,lego fireman,bomberos para niños,policia niños,lego movies,lego movies ofr kids,lego kids,cartoons about lego,lego cartoons',\n",
       "  'title': 'Lego City Police Lego Fireman Firetruck Cartoons about Lego for Children',\n",
       "  'upload_date': '2016-08-19 00:00:00',\n",
       "  'view_count': 167221.0}]"
      ]
     },
     "execution_count": 18,
     "metadata": {},
     "output_type": "execute_result"
    }
   ],
   "source": [
    "dataset.take(1)"
   ]
  },
  {
   "cell_type": "code",
   "execution_count": 44,
   "metadata": {},
   "outputs": [],
   "source": [
    "\n",
    "def text_is_collab(text) -> bool:\n",
    "    keywords = [\"collab\", \"collaboration\", \"ft.\", \"feat\", \"featuring\"]\n",
    "    # Split the text into words and handle punctuation\n",
    "    text = text.lower()\n",
    "    words_in_text = text.translate(str.maketrans('', '', string.punctuation)).split()\n",
    "    \n",
    "    for word in keywords:\n",
    "        if word in words_in_text: \n",
    "            return True\n",
    "    return False\n",
    "\n",
    "def video_is_collab(video) -> bool:\n",
    "    return (text_is_collab(video['title']) or text_is_collab(video['description']))\n",
    "\n",
    "def find_collab(text: str)->list[str]:\n",
    "    #print(\"good\")\n",
    "    pattern = r'@(\\w+)'\n",
    "    matches = re.findall(pattern, text) #what about ., !, ?\n",
    "    return matches\n",
    "\n",
    "def add_collab_ids(video):\n",
    "    vid_= video\n",
    "    #print(vid_)\n",
    "    vid_['collabs'] = set(find_collab(video['title']) + find_collab(video['description']))\n",
    "    #print(vid_)\n",
    "    #print(vid_['collabs'])\n",
    "    return vid_"
   ]
  },
  {
   "cell_type": "code",
   "execution_count": 20,
   "metadata": {},
   "outputs": [
    {
     "name": "stderr",
     "output_type": "stream",
     "text": [
      "[Stage 2:===================>                                       (1 + 2) / 3]\r"
     ]
    },
    {
     "name": "stdout",
     "output_type": "stream",
     "text": [
      "Number of rows after first filtering: 1717  i.e  2.3649486240048483 %\n"
     ]
    },
    {
     "name": "stderr",
     "output_type": "stream",
     "text": [
      "                                                                                \r"
     ]
    }
   ],
   "source": [
    "filtered_collab_dataset = dataset.filter(video_is_collab)\n",
    "filtered_collab_count = filtered_collab_dataset.count()\n",
    "\n",
    "print(\"Number of rows after first filtering:\", filtered_collab_count, \" i.e \", filtered_collab_count/total_count * 100, \"%\")"
   ]
  },
  {
   "cell_type": "code",
   "execution_count": 45,
   "metadata": {},
   "outputs": [
    {
     "name": "stderr",
     "output_type": "stream",
     "text": [
      "[Stage 15:===================>                                      (1 + 2) / 3]\r"
     ]
    },
    {
     "name": "stdout",
     "output_type": "stream",
     "text": [
      "Number of rows after second filtering: 1717  i.e  0.5357979119032533 %\n"
     ]
    },
    {
     "name": "stderr",
     "output_type": "stream",
     "text": [
      "                                                                                \r"
     ]
    }
   ],
   "source": [
    "dataset_with_collab = filtered_collab_dataset.map(add_collab_ids).filter(lambda x : bool(x['collabs']))\n",
    "with_collab_count = dataset_with_collab.count()\n",
    "\n",
    "print(\"Number of rows after second filtering:\", filtered_collab_count, \" i.e \", with_collab_count/total_count * 100, \"%\")"
   ]
  },
  {
   "cell_type": "code",
   "execution_count": 48,
   "metadata": {},
   "outputs": [
    {
     "data": {
      "text/plain": [
       "[{'categories': 'Music',\n",
       "  'channel_id': 'UCriUmtdWuCqqKteYOkDxrYQ',\n",
       "  'crawl_date': '2019-10-30 23:05:39.913015',\n",
       "  'description': 'http://hipkreyol.com\\n(509) 37213120, 37834185\\nFollow us on twitter: @hipkreyol @MarvensCompere @djzoenas @ljaythebest @laurentjobsonn @pitafhipk\\nlike our page: https://www.facebook.com/hipkreyolcom',\n",
       "  'dislike_count': 3.0,\n",
       "  'display_id': 'OJWa93Se9-w',\n",
       "  'duration': 239,\n",
       "  'like_count': 19.0,\n",
       "  'tags': 'miah,mrj,fe m depale,depale,lyrics,fem,fem depale,Song,New',\n",
       "  'title': 'Miah feat MRJ - Fe m depale [video Lyrics]',\n",
       "  'upload_date': '2014-04-10 00:00:00',\n",
       "  'view_count': 2427,\n",
       "  'collabs': {'MarvensCompere',\n",
       "   'djzoenas',\n",
       "   'hipkreyol',\n",
       "   'laurentjobsonn',\n",
       "   'ljaythebest',\n",
       "   'pitafhipk'}},\n",
       " {'categories': 'Gaming',\n",
       "  'channel_id': 'UCrSXejhO-twJnKCm_k4ZMyQ',\n",
       "  'crawl_date': '2019-11-03 00:05:13.571822',\n",
       "  'description': \"Dekar Rengar Montage - NA Rengar Main - League of Legends\\n\\nAll plays belong to Dekar . Check him out for more:\\nhttps://www.twitch.tv/dekar173\\n▬▬▬▬▬▬▬▬▬▬▬▬▬▬▬▬▬▬\\n\\n* Subscribe to me: : https://goo.gl/2xLicp\\n* Facebook: https://www.facebook.com/TheLegendsLoL\\n* Twitter :  https://twitter.com/TheLegendsLOL\\n* Email Contact : kevinpro84@gmail.com\\n\\n▬▬▬▬▬▬▬▬▬▬▬▬▬▬▬▬▬▬\\n\\nPlaylits :\\n\\n- Top Lane Montage : http://bit.ly/TopLaneMontage\\n- Jungle Montage : http://bit.ly/JungleMontage\\n- Mid Lane Montage :  http://bit.ly/MidLaneMontage\\n- AD Carry Montage : http://bit.ly/ADCarryMontage\\n- Support Montage : http://bit.ly/SupportMontage\\n- Riven Montage : http://bit.ly/RivenMontage\\n- Zed Montage : http://bit.ly/ZedMontage\\n- Yasuo Montage :  http://bit.ly/YasuoMontage\\n\\n▬▬▬▬▬▬▬▬▬▬▬▬▬▬▬▬▬▬\\nThumnail : https://wyawy.deviantart.com/art/Rengar-the-Pridestalker-453589129\\n\\nMusic :\\n\\nSong: 2BAD - Primal Carnage\\nWatch: https://youtu.be/I2EgYn0jRxY\\n\\nSong: Cartoon feat. Jüri Pootsmann - I Remember U (Xilent Remix) [NCS Release]\\nMusic provided by NoCopyrightSounds.\\nWatch:\\n\\nSong: [Trap] - Muzzy - Insignia [Monstercat Release]\\nWatch:\\n▬▬▬▬▬▬▬▬▬▬▬▬▬▬▬▬▬▬\\n\\nIf you like this video, don't forget to press the like button, comment and share . Thanks For Watching!\",\n",
       "  'dislike_count': 89.0,\n",
       "  'display_id': '0q4FEBlpIDk',\n",
       "  'duration': 645,\n",
       "  'like_count': 1727.0,\n",
       "  'tags': 'Dekar Rengar Montage,Rengar Main,Rengar Montage,Montage Rengar,Rengar,Dekar',\n",
       "  'title': 'Dekar Rengar Montage - NA Rengar Main',\n",
       "  'upload_date': '2018-06-05 00:00:00',\n",
       "  'view_count': 163675.0,\n",
       "  'collabs': {'gmail'}},\n",
       " {'categories': 'Music',\n",
       "  'channel_id': 'UCrG8mytOLrC_t5vu7To4ajA',\n",
       "  'crawl_date': '2019-11-20 07:32:14.964560',\n",
       "  'description': 'Nightcore: This Love [Monstercat Release]\\nOriginal Artist(s): LVTHER feat. Savoi\\n\\n⏤⏤⏤⏤⏤⏤⏤⏤⏤⏤⏤⏤⏤⏤⏤⏤⏤⏤⏤⏤⏤⏤⏤⏤⏤⏤\\n► ⎸ Support the Original Artist(s) ⎸ ◄\\n\\n~ Monstercat\\n- http://www.youtube.com/Monstercat\\n- http://monster.cat/1hGrCWk\\n- http://facebook.com/Monstercat\\n- http://twitter.com/Monstercat\\n- http://soundcloud.com/Monstercat\\n\\n~ LVTHER\\n- https://www.youtube.com/LVTHER\\n- https://soundcloud.com/lvther\\n- https://twitter.com/LVTHER\\n- https://www.facebook.com/LVTHER\\n\\n~ Savoi\\n- https://www.facebook.com/savoimusic\\n- https://soundcloud.com/savoi-1\\n\\n⏤⏤⏤⏤⏤⏤⏤⏤⏤⏤⏤⏤⏤⏤⏤⏤⏤⏤⏤⏤⏤⏤⏤⏤⏤⏤⏤\\n► ⎸ Support me | Social Links Below ↓ ⎸ ◄\\n\\nOfficial Website: http://www.cherriexin.com/\\nSide Channel: https://www.youtube.com/channel/UCiB1lsAvlRh_cIYx21qexUw\\nSoundcloud: https://soundcloud.com/cherriexin\\nTwitter: https://twitter.com/Cherriexinn\\nDiscord: https://discord.gg/AM2qAt\\nFacebook: https://www.facebook.com/LittleCherryy\\n\\nSupport my Husband too (Zero.Miz-kun) ^^\\n~ https://www.youtube.com/user/MizTheBrotherZeroKun\\n\\n⏤⏤⏤⏤⏤⏤⏤⏤⏤⏤⏤⏤⏤⏤⏤⏤⏤⏤⏤⏤⏤⏤⏤⏤⏤⏤⏤\\n► ⎸ Download Links ⎸ ◄\\n\\n(Anime: Darling In The Franxx)\\n~ Original Artist: Not found. If anyone knows do let me know so I can credit them properly. Thanks.\\n\\n⏤⏤⏤⏤⏤⏤⏤⏤⏤⏤⏤⏤⏤⏤⏤⏤⏤⏤⏤⏤⏤⏤⏤⏤⏤⏤⏤\\n♦ Lyrics ♦\\n\\n-\\n\\n⏤⏤⏤⏤⏤⏤⏤⏤⏤⏤⏤⏤⏤⏤⏤⏤⏤⏤⏤⏤⏤⏤⏤⏤⏤⏤⏤\\n\\nSubscribe for more ^-^\\n\\nThank you ^-^\\n\\n⏤⏤⏤⏤⏤⏤⏤⏤⏤⏤⏤⏤⏤⏤⏤⏤⏤⏤⏤⏤⏤⏤⏤⏤⏤⏤⏤\\n~ Business Enquire ~\\nFor any submissions/enquiries please email us at Cherry@ZMKRecords.com ~',\n",
       "  'dislike_count': 45.0,\n",
       "  'display_id': '4xhqW9r_VpQ',\n",
       "  'duration': 157,\n",
       "  'like_count': 2142.0,\n",
       "  'tags': 'nightcore,LVTHER,Savoi,Monstercat,Monstercat Release,LVTHER feat. Savoi - This Love,electronic music,electro,electronic,edm,must,dance,nightcore this love',\n",
       "  'title': 'Nightcore - This Love',\n",
       "  'upload_date': '2018-04-23 00:00:00',\n",
       "  'view_count': 55858.0,\n",
       "  'collabs': {'ZMKRecords'}},\n",
       " {'categories': 'Sports',\n",
       "  'channel_id': 'UCr1lbOmn3etpKrzBRJA0FPA',\n",
       "  'crawl_date': '2019-11-19 17:13:54.210278',\n",
       "  'description': \"There's nothing better on an off day at the EHF EURO 2016 than watching loads of funny videos on Youtube. And this is exactly what we did with the Netherlands. Laugh with them!\\n___\\n\\nThis is the official EHF EURO YouTube channel, featuring exclusive behind-the-scenes reports, interviews, highlight videos, historic reviews and much more from the European Handball Federation’s flagship national team event.\\n\\nWebsite: http://www.ehf-euro.com\\nFacebook: http://www.facebook.com/ehfeuro\\nInstagram: http://www.instagram.com/ehfeuro\\nOfficial YouTube channel: http://www.youtube.com/ehfeuro\\nAll matches are streamed live on: http://www.ehfTV.com\\nFollow us on Twitter: @EHFEURO\\nFollow us Snapchat: ehf_live\",\n",
       "  'dislike_count': 0.0,\n",
       "  'display_id': 'y_YtttG6-F8',\n",
       "  'duration': 144,\n",
       "  'like_count': 35.0,\n",
       "  'tags': \"ehf,euro,2016,ehf euro,European Handball Federation,2016 European Women's Handball Championship,Handball (Sport),Player (Profession),Stockholm,Gothenburg,Kristianstad,Sweden,Helsingborg\",\n",
       "  'title': \"Netherlands reacts to Youtube's funniest videos | EHF EURO 2016\",\n",
       "  'upload_date': '2016-12-08 00:00:00',\n",
       "  'view_count': 4724.0,\n",
       "  'collabs': {'EHFEURO'}},\n",
       " {'categories': 'Sports',\n",
       "  'channel_id': 'UCr1lbOmn3etpKrzBRJA0FPA',\n",
       "  'crawl_date': '2019-11-19 17:14:28.793873',\n",
       "  'description': \"25-year-old Nathalie Hagman has been one of the key players in the Swedish national team for the past two years. Despite her team's quarter-final exit at the Rio 2016 Games, she was named the women's handball tournament's All-star right wing, and all eyes will be again on her come the Women's EHF EURO 2016.\\n\\n___\\n\\nThis is the official EHF EURO YouTube channel, featuring exclusive behind-the-scenes reports, interviews, highlight videos, historic reviews and much more from the European Handball Federation’s flagship national team event.\\n\\nWebsite: www.ehf-euro.com\\nFacebook: www.facebook.com/ehfeuro\\nInstagram: www.instagram.com/ehfeuro\\nOfficial YouTube channel: www.youtube.com/ehfeuro\\nAll matches are streamed live on: www.ehfTV.com\\nFollow us on Twitter: @EHFEURO\\nFollow us Snapchat: ehf_live\",\n",
       "  'dislike_count': 0.0,\n",
       "  'display_id': '8jWfoKfEJbk',\n",
       "  'duration': 79,\n",
       "  'like_count': 34.0,\n",
       "  'tags': \"ehf,euro,2016,ehf euro,European Handball Federation,2016 European Women's Handball Championship,Handball (Sport),Player (Profession),Stockholm,Gothenburg,Kristianstad,Sweden,Helsingborg,nathalie hagman,hagman,key player,key players\",\n",
       "  'title': \"Nathalie Hagman, Sweden's key to success | EHF EURO 2016\",\n",
       "  'upload_date': '2016-11-10 00:00:00',\n",
       "  'view_count': 6926.0,\n",
       "  'collabs': {'EHFEURO'}},\n",
       " {'categories': 'Entertainment',\n",
       "  'channel_id': 'UCqn6IMEa8WtY4_ZhJqjZn8Q',\n",
       "  'crawl_date': '2019-11-19 02:18:19.442109',\n",
       "  'description': 'Download the app now and share it with all the asli fans\\nhttps://shemaroome.app.link/3bXPuCK9cX\\nGive a missed call on 18002665151\\nwww.shemaroome.com\\n\\nWatch the Audio and sing along to \\'Fantasy\\' feat Yo Yo Honey Singh & Alfaaz from Jatt Airways.\\n\\nBuy this on iTunes - https://itunes.apple.com/in/album/jatt-airways/id686267344\\n\\nWatch the Official Video of \"Fantasy\" HERE - http://www.youtube.com/watch?v=MwcL3_9u07E\\n\\nWatch the Making of \"Fantasy\" HERE - http://www.youtube.com/watch?v=STNHV5tlwUs\\n\\nSong -- Fantasy\\nSinger -- Alfaaz , Honey Singh\\nMusic - Yo Yo Honey Singh\\n\\nSong Lyrics\\n\\nDaaru peeke tight ho gaya\\nLeft jaana si right ho gaya (x2)\\n\\nSone mukh te flat ho gaya gal mein tenu kehni si\\nOh baby you are my fantasy, you are my fantasy,\\nTenu ek gal kehni si ke tu hai meri fantasy,\\nYou are my fantasy\\nTenu ek gal kehni si tu hai meri fantasy\\n\\nDekhiya tenu pehli baari main ta kudi ee flat ho gaya.. (x2)\\n\\nTere ishq de ranga de wich,\\nMain toh pura paint ho gaya,\\nRaanjhe wangu saint ho gaya,\\nGal mein tenu kehni si....\\n\\nOh baby you are my fantasy,\\nYou are my fantasy,\\nTenu ek gal kehni si ke tu hai meri fantasy,\\nYou are my fantasy,\\nYou are my fantasy,\\nTenu ek gal kehni si ke tu hai meri fantasy...\\n\\nOye daaru hogi bahar di\\nAaj mere chote bhai di\\nGussa na kari gal dilde ni laayi di\\nMummy daddy nu bhi\\nOh bottle pita daily pher keda enu sambhe\\nGhar nu banada deka sarkari\\nBanda hai changa bus daaru ee di maadi\\nTenu gal samjava ee waaro wari\\nBach ke rahi jatt di tere te garari\\n\\nSo rab di lagdi hain menu,\\nTu badi hot kude.. (x2)\\n\\nEk daffe tu haami bhai de lag jaunga jackpot kude,\\nHaan kar de on the spot kude,\\nGal mein tenu kehni si..\\n\\nOh baby you are my fantasy,\\nYou are my fantasy,\\nTenu ek gal kehni si ke tu hai meri fantasy,\\nYou are my fantasy,\\nYou are my fantasy,\\nTenu ek gal kehni si ke tu hai meri fantasy.. (x2)\\n\\nWatch Mehak Chahal\\'s Item song \\' Ok Report\\' - http://www.youtube.com/watch?v=MlnJjRPKA38\\n\\nWatch Romantic song \\'Kalliyan Kalliyan \\' - http://www.youtube.com/watch?v=4YWBjEsyHRo\\n\\nWatch \\'Jatt Airways Title song\\' - http://www.youtube.com/watch?v=zLPmZ4dvUdw\\n\\nWatch \\'Ok Report Remix \\'song - http://www.youtube.com/watch?v=7ozQ9cT_LTU\\n\\nWatch \\'Sanu hai teri lorh\\' song - http://www.youtube.com/watch?v=uH6qA0ErIbQ\\n\\nTo watch more Punjabi Videos, visit us at http://www.youtube.com/user/shemaroopunjabi\\n\\n\\n\\n\\nConnect with us on :-\\n\\nFacebook - https://www.facebook.com/jattairways\\nFacebook - http://www.Facebook.com/Shemaroo.Entertainment.Ltd\\n\\n\\n\\n\\nTwitter - http://Twitter.com/BollyFilmVideos\\nWebsite - http://visionindiaproductions.com/\\nWebsite - http://www.shemaroo.com/ .\\n\\nPunjabi Non Stop is a compilation of Love Hits, Sad Hits, Dance and Pop Hits. Click on the link and Download the app now:\\nhttps://play.google.com/store/apps/details?id=com.shemaroo.punjabinonstop\\n\\n\\nSign up for Free and get daily updates on New Videos, exclusive Web Shows, contests & much more\\nhttp://youtube.shemaroo.com/default.aspx\\n\\nSend us your feedback and suggestions at : connect@shemaroo.com',\n",
       "  'dislike_count': 8.0,\n",
       "  'display_id': 'yZmTZJ-hw-Y',\n",
       "  'duration': 180,\n",
       "  'like_count': 71.0,\n",
       "  'tags': 'Punjabi Song,Jatt Airways,Yo Yo honey singh,yo yo honey singh songs,honey singh songs,honey singh hits,best Punjabi songs 2013,best of honey singh,jatt airways songs,Latest Punjabi Movie,alfaaz songs,brown rang,high heels,alfaaz feat honey singh,alfaaz hit songs,hip hop songs,honey singh latest songs,honey singh new songs,fantasy song,you are my fantasy,audio,audio song,fantasy honey singh,honey singh fantasy',\n",
       "  'title': '\" Fantasy \" Full Song (Audio) - feat Yo Yo Honey Singh & Alfaaz - Jatt Airways',\n",
       "  'upload_date': '2013-08-25 00:00:00',\n",
       "  'view_count': 20701,\n",
       "  'collabs': {'shemaroo'}},\n",
       " {'categories': 'Howto & Style',\n",
       "  'channel_id': 'UCqlQEovBUMwBPuk2IBo-6TA',\n",
       "  'crawl_date': '2019-11-02 02:52:40.689790',\n",
       "  'description': \"Wondering what you might not know about pregnancy? Click this video!\\n\\n5 THINGS NO ONE TELLS YOU ABOUT PREGNANCY – What Being Pregnant Is Really Like | Faith Drew\\n\\nHello everyone! Today I am sharing with you the top five things I was unprepared for going into pregnancy. These were things that totally caught me off guard while being pregnant, that hopefully will help you if you are early on in your pregnancy or thinking about getting pregnant. Even if you have a great support system around you helping you get through your pregnancy, there will always be surprises along the way that you may not have expected to happen! Seeing as this is my first pregnancy, I was definitely not prepared for some of the changes that would happen and how I would feel emotionally. Let me know if you are currently pregnant, or planning to become pregnant so that we can go on this journey together! Also, let me know what other pregnancy related videos you would like to see from me! Love, Faith.\\n\\nThis video is in collaboration with Cara Lanelle! Go check out her video here: https://youtu.be/lfLGDEDjOfs\\n\\nSubscribe to Cara Lanelle’s Channel!\\nhttps://www.youtube.com/channel/UCFFvZXT9e0lporYRuhAGNNQ\\n\\nWATCH MORE OF MY PREGNANCY VIDEOS\\nMy Pregnancy Playlist: https://www.youtube.com/playlist?list=PLZkzS2rq4yUUj9uW5bf9ItheFjFkU6n-A\\n\\n#pregnancy #pregnancyvideo\\n\\n_________________________________________\\n\\nWe can hang out here too:\\n\\nInstagram: @faithdrew\\nSnapchat: @faithjentsch\\n\\n_________________________________________\\n\\nTHE JEWELRY I WEAR IN ALL MY VIDEOS:\\n\\nMIRANDA FRYE JEWELRY\\nhttps://mirandafrye.com/\\nUse the code FAITH for $$ off and free US shipping!\\n\\n_________________________________________\\n\\nDISCOUNT CODES & LINKS\\n\\nMY FAVORITE MAKEUP BRUSHES: SIGMA BRUSHES\\nhttps://goo.gl/Wcfggc\\n\\nGERARD COSMETICS\\nhttps://gerardcosmetics.com/\\nUse the code FAITH30 for 30% off any order!\\n\\nMIRANDA FRYE JEWELRY\\nhttps://mirandafrye.com/\\nUse the code FAITH for 10% off and free US shipping!\\n\\nGLOSSIER\\nShop Glossier products through my link to receive 10% off and free shipping on orders $30+\\nhttp://glossier.com/reps/faith\\n\\nL’ANGE HAIR\\nhttp://langehair.com/\\nUse the code FAITH to receive 30% off a hair tool and free US shipping\\n\\nI do earn a small commission off of some affiliate codes and/or links which helps me continue my channel. Do not feel obligated to click on the links or use my codes if you do not want to. However I want you to know that I only work with companies that I love and trust! :)\\n\\n_________________________________________\\n\\nHi! My name is Faith Drew, and I started this channel to connect with fellow makeup, beauty and fashion lovers. I have been passionate about makeup for a very long time now, and so I decided to create this YouTube channel to share my love for makeup with others!\\n\\nOn my beauty channel you will find Affordable & Drugstore makeup tutorials, monthly favorites videos, hair tutorials as well as high-end makeup hauls and more! I love the YouTube beauty community.\\n\\nMy goal for this makeup and beauty channel is to produce inspiring content and provide a fun distraction from all the craziness in life!\\n\\nAnd if you've read this far and haven't subscribed to my channel... I mean... come on, smash that button!\\n\\nThis video is not sponsored.\",\n",
       "  'dislike_count': 2.0,\n",
       "  'display_id': '6kvnxCY7YYU',\n",
       "  'duration': 758,\n",
       "  'like_count': 144.0,\n",
       "  'tags': 'pregnancy,pregnancy video,pregnancy myths and facts,pregnancy myths,pregnancy vlog,pregnancy vlog 2019,maternity vlog,pregnant bloggers,pregnant vlog,what no one tells you about pregnancy,secrets about pregnancy,what its really like to be pregnant,what being pregnant is really like,pregnancy secrets,pregnancy secrets no one tells you,scared of pregnancy,pregnancy scare stories,pregnancy story time,pregnant bloggers 2019,pregnant vloggers,being pregnant',\n",
       "  'title': 'THE 5 THINGS NO ONE TELLS YOU ABOUT PREGNANCY – What Being Pregnant Is Really Like | Faith Drew',\n",
       "  'upload_date': '2019-04-17 00:00:00',\n",
       "  'view_count': 1402,\n",
       "  'collabs': {'faithdrew', 'faithjentsch'}},\n",
       " {'categories': 'Gaming',\n",
       "  'channel_id': 'UCqXaa8xupCrUijNNnx6DQHg',\n",
       "  'crawl_date': '2019-10-31 09:59:16.875762',\n",
       "  'description': \"► ✉️ Submit your Clip - Get featured:     http://bit.ly/SamuraiClips\\n\\n► Thanks for who was a part of this video:\\nCredits:\\ndizzyu: Reddit.com/user/dizzyu\\nYvesSalntLeBron: Reddit.com/user/YvesSalntLeBron\\ndefraged: Reddit.com/user/defraged\\nkuzner: Reddit.com/user/kuzner\\nER4S0R: Reddit.com/user/ER4S0R\\nMikeDulaimi: Reddit.com/user/MikeDulaimi\\nFlluxor: Reddit.com/user/Flluxor\\nSypherPK: Twitch.tv/sypherpk\\nTimTheTatman: Twitch.tv/timthetatman\\nNinja: Twitch.tv/ninja\\nH1ghSky1: twitch.tv/h1ghsky1\\nNateHill: Twitch.tv/natehill\\nKingRichard: Twitch.tv/kingrichard\\nChap: Twitch.tv/chap\\n\\nHave a great day and be positive, don't make little things take you down or make you sad, life is short. FACTS!\\n\\n*IMPORTANT*:\\nI use clips of streamers or people who send me their clips, for entertainment featuring them, if that was unaccepted for you and you want to remove a music or a clip, please contact me at: ClipToSamurai@gmail.com\\nWe will solve that :)\\n\\n- Guys, I can't be thankful! it's not enough for such a great support.\\nYour lovely comments, and more, WE'RE GETTING BIGGER WITH YOU !!\\n\\n- For you, you loved the content, for us It means way harder\\nwork.\\n\\nMuch appreciation,\\nSAMURAI Clips.\\n\\n===========================================\\n------------------------------------------------------------------------------------\\n===========================================\\n\\nStreamers Tags:\\nninja, tsm_myth, grimmmz, summit1g, cdnthe3rd, highdistortion, dakotaz, drlupo, kingrichard, tsm_hamlinz, lirik, tsm_daequan, Avxry, Typical Gamer, AlmightySneaky, Bewitching, AlexRamiGaming, Fortnite, Vikkstar123, Upshall, noahj456, adrive, carnifexed, darkness429, oficialheitorgames, izakooo, lolitofdez, iijeriichoii, squeezielive, jasonr, kinggothalion, hutch, wishyouluckk, Zedryn, real_aragon, chicalive, thebouncyfatkid, grandpanippers, alanzoka, hysteria, xaryulol, opsct, enviosity, sarahdope, sypherpk, scoksc2, cheefin_tv, jemalki, skyrroztv, stormen, m3p0, starke2k, duendepablo, barcode_ow, lestream, cheatbanned, gamesager, theonemanny, b3arodactyl, hedrymas, timthetatman, psicadelix, jaketherazvy, theghostlydragon, spacelyon, cloakzy, sandyravage, cizzorz, terroriser, leopard, wadu, havokgaming_tv, kenjutsu228, parallaxg, deviil_d, valkyrae, avajaijai, mooncloud3, mastirias, aimbotcalvin, teosgame, requiemslaps, jonjonuzumaki, valstirk, jeremyworst, swaggerleetv, joewatermelon, iclickbuttons, yzeco, weirdjack, gernaderjake, imdavegaming, realjameskii, tsm_camills, shroud, chefstrobel, tfue, pokimane, myth, tfue reacts, myth reacts, myth vs, nick eh 30,\\n\\nTags: Season 7 Moments You Will Rarely See It - Ninja Sad For No Skin For Him Yet\",\n",
       "  'dislike_count': 293.0,\n",
       "  'display_id': 'XVQqkdwD2q4',\n",
       "  'duration': 627,\n",
       "  'like_count': 4000.0,\n",
       "  'tags': 'samurai clips,samurai,fortnite funny,fortnite moments,ninja reacts to epic,season 7 best moments,tfue,fortnite funny moments,bcc trolling,epic moments',\n",
       "  'title': 'Season 7 Moments You Will Rarely See - Ninja Sad For Not Having A Skin Yet',\n",
       "  'upload_date': '2018-12-07 00:00:00',\n",
       "  'view_count': 321316,\n",
       "  'collabs': {'gmail'}},\n",
       " {'categories': 'Entertainment',\n",
       "  'channel_id': 'UCqU9ZWMLmEtj1UFGsbEyjGw',\n",
       "  'crawl_date': '2019-10-31 20:21:12.570241',\n",
       "  'description': 'The last song we finished for this album... ADI\\'s oddish but beautiful voice made it the cherry on top of the cream for this album\" - Michael Fakesch und Chris de Luca (Funkstörung)\\n\\ntaken from Funkstörung\\'s upcoming album \"Funkstörung\"\\n(MTR059)\\n\\nRelease date: June 26, 2015\\nPre-order here: http://www.monkeytownrecords.com/releases/view/144/funkst-rung/monkeytown059-funkst-rung\\n\\nwww.facebook.com/funkstorungofficial\\ntwitter.com/Funkstorung\\ninstagram.com/funkstorungofficial\\n@funkstorung\\nwww.funkstorung.com/\\n\\nmonkeytownrecords.com/\\nfacebook.com/MonkeytownBerlin\\ntwitter.com/monkeytownrec\\ninstagram.com/monkeytown_record',\n",
       "  'dislike_count': 0.0,\n",
       "  'display_id': 'sYEfKEnyVaM',\n",
       "  'duration': 45,\n",
       "  'like_count': 21.0,\n",
       "  'tags': 'Funkstörung (Musical Group),ADI,Monkeytown Records',\n",
       "  'title': 'Funkstörung  - Who is Who (feat. ADI)',\n",
       "  'upload_date': '2015-05-26 00:00:00',\n",
       "  'view_count': 3734.0,\n",
       "  'collabs': {'funkstorung'}},\n",
       " {'categories': 'Music',\n",
       "  'channel_id': 'UCqTwKvjbTENZDGbz2si47ag',\n",
       "  'crawl_date': '2019-10-31 15:31:56.147157',\n",
       "  'description': '🚨 SUBSCRIBE: http://bit.ly/GRMsubscribe\\n\\n📰 VISIT: http://grmdaily.com/\\n\\n✅ DOWNLOAD THE GRM APP FOR iPHONE & iPAD NOW: https://itunes.apple.com/us/app/grm-daily/id1170798576\\n\\n▶ DOWNLOAD FOR ANDROID NOW: https://play.google.com/store/apps/details?id=com.grmdaily.grmdaily\\n\\nWWW.GRMDAILY.COM\\n@GRMDAILY\\n\\nTWITTER : http://www.twitter.com/grmdaily\\nFACEBOOK : http://www.facebook.com/grmdaily\\nINSTAGRAM : https://www.instagram.com/grmdaily\\n\\n-~-~~-~~~-~~-~-\\nCheck out J Styles - Daily Duppy\\n\\nhttp://www.youtube.com/watch?v=KToXKXWscJ0\\n-~-~~-~~~-~~-~-',\n",
       "  'dislike_count': 22.0,\n",
       "  'display_id': 'e_0DZGG6dBI',\n",
       "  'duration': 245,\n",
       "  'like_count': 150.0,\n",
       "  'tags': 'Music,GRM,GRM Daily,Video',\n",
       "  'title': 'Penghu feat Proud - Thor [Music Video] | GRM Daily',\n",
       "  'upload_date': '2018-05-19 00:00:00',\n",
       "  'view_count': 7951.0,\n",
       "  'collabs': {'GRMDAILY'}}]"
      ]
     },
     "execution_count": 48,
     "metadata": {},
     "output_type": "execute_result"
    }
   ],
   "source": [
    "dataset_with_collab.take(10)"
   ]
  }
 ],
 "metadata": {
  "kernelspec": {
   "display_name": "ADAenv",
   "language": "python",
   "name": "python3"
  },
  "language_info": {
   "codemirror_mode": {
    "name": "ipython",
    "version": 3
   },
   "file_extension": ".py",
   "mimetype": "text/x-python",
   "name": "python",
   "nbconvert_exporter": "python",
   "pygments_lexer": "ipython3",
   "version": "3.11.5"
  }
 },
 "nbformat": 4,
 "nbformat_minor": 2
}

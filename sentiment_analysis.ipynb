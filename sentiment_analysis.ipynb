{
 "cells": [
  {
   "cell_type": "code",
   "execution_count": 1,
   "outputs": [],
   "source": [
    "import pandas as pd\n",
    "from tqdm import tqdm\n",
    "import os\n",
    "from src.sentiment_analysis import SentimentAnalysis\n",
    "import time"
   ],
   "metadata": {
    "collapsed": false,
    "ExecuteTime": {
     "end_time": "2023-12-09T19:58:26.298465527Z",
     "start_time": "2023-12-09T19:58:24.403537939Z"
    }
   },
   "id": "7df523e06136a9e3"
  },
  {
   "cell_type": "code",
   "execution_count": 2,
   "outputs": [],
   "source": [
    "file_path = \"data/climate_videos.jsonl\"\n",
    "df = pd.read_json(file_path, lines=True)\n",
    "data = df.copy()\n",
    "data.set_index('display_id', inplace=True)\n",
    "titles = data['title'].iloc[:3000]"
   ],
   "metadata": {
    "collapsed": false,
    "ExecuteTime": {
     "end_time": "2023-12-09T19:58:30.944666432Z",
     "start_time": "2023-12-09T19:58:26.301032449Z"
    }
   },
   "id": "7e29ca106c181ecf"
  },
  {
   "cell_type": "code",
   "execution_count": 3,
   "outputs": [],
   "source": [
    "file_name = 'data/video_title_sentiment_analysis.csv'\n",
    "\n",
    "def save_new_title_sentiments(sentiment_res: pd.DataFrame):\n",
    "    if not os.path.isfile(file_name):\n",
    "        sentiment_res.to_csv(file_name)\n",
    "    else:\n",
    "        old_data = pd.read_csv(file_name, index_col=0)\n",
    "        new_data = pd.concat([old_data, sentiment_res])\n",
    "        new_data.to_csv(file_name)"
   ],
   "metadata": {
    "collapsed": false,
    "ExecuteTime": {
     "end_time": "2023-12-09T19:58:30.952241087Z",
     "start_time": "2023-12-09T19:58:30.946652894Z"
    }
   },
   "id": "41db511b82b158d3"
  },
  {
   "cell_type": "markdown",
   "source": [
    "# Perform sentiment analysis on titles"
   ],
   "metadata": {
    "collapsed": false
   },
   "id": "ad9b1e1a859ea323"
  },
  {
   "cell_type": "code",
   "execution_count": 4,
   "outputs": [
    {
     "name": "stderr",
     "output_type": "stream",
     "text": [
      "Sentiment Analysis: 100%|██████████| 3/3 [02:04<00:00, 41.43s/it]\n"
     ]
    }
   ],
   "source": [
    "sa = SentimentAnalysis()\n",
    "sentiment_res = pd.DataFrame(columns=sa.sentiment_names)\n",
    "\n",
    "batch_size = 1000\n",
    "last_iter = 0\n",
    "for i in tqdm(range(last_iter * batch_size, len(titles), batch_size), desc='Sentiment Analysis'):\n",
    "    batch = titles.iloc[i:i+batch_size]\n",
    "    sentiment_res[sa.sentiment_names] = batch.apply(sa.get_scores).apply(pd.Series)\n",
    "    save_new_title_sentiments(sentiment_res)\n",
    "    sentiment_res = pd.DataFrame(columns=sa.sentiment_names)    "
   ],
   "metadata": {
    "collapsed": false,
    "ExecuteTime": {
     "end_time": "2023-12-09T20:00:37.177528128Z",
     "start_time": "2023-12-09T19:58:30.955766656Z"
    }
   },
   "id": "1db587dc9136e4ff"
  },
  {
   "cell_type": "markdown",
   "source": [
    "# Analyze sentiment results"
   ],
   "metadata": {
    "collapsed": false
   },
   "id": "27d63295074ab27b"
  },
  {
   "cell_type": "code",
   "execution_count": 5,
   "outputs": [
    {
     "data": {
      "text/plain": "             positive   neutral  negative\ndisplay_id                               \nXPSYzLZ7xKU  0.722696  0.152849  0.124455\n8riq9piAdiE  0.488949  0.181014  0.330037\nyeVLjOTThEM  0.285087  0.257673  0.457240\n-fNCUzVRcL4  0.416952  0.178746  0.404303\n-3YhFNs1XNY  0.230002  0.170134  0.599864",
      "text/html": "<div>\n<style scoped>\n    .dataframe tbody tr th:only-of-type {\n        vertical-align: middle;\n    }\n\n    .dataframe tbody tr th {\n        vertical-align: top;\n    }\n\n    .dataframe thead th {\n        text-align: right;\n    }\n</style>\n<table border=\"1\" class=\"dataframe\">\n  <thead>\n    <tr style=\"text-align: right;\">\n      <th></th>\n      <th>positive</th>\n      <th>neutral</th>\n      <th>negative</th>\n    </tr>\n    <tr>\n      <th>display_id</th>\n      <th></th>\n      <th></th>\n      <th></th>\n    </tr>\n  </thead>\n  <tbody>\n    <tr>\n      <th>XPSYzLZ7xKU</th>\n      <td>0.722696</td>\n      <td>0.152849</td>\n      <td>0.124455</td>\n    </tr>\n    <tr>\n      <th>8riq9piAdiE</th>\n      <td>0.488949</td>\n      <td>0.181014</td>\n      <td>0.330037</td>\n    </tr>\n    <tr>\n      <th>yeVLjOTThEM</th>\n      <td>0.285087</td>\n      <td>0.257673</td>\n      <td>0.457240</td>\n    </tr>\n    <tr>\n      <th>-fNCUzVRcL4</th>\n      <td>0.416952</td>\n      <td>0.178746</td>\n      <td>0.404303</td>\n    </tr>\n    <tr>\n      <th>-3YhFNs1XNY</th>\n      <td>0.230002</td>\n      <td>0.170134</td>\n      <td>0.599864</td>\n    </tr>\n  </tbody>\n</table>\n</div>"
     },
     "execution_count": 5,
     "metadata": {},
     "output_type": "execute_result"
    }
   ],
   "source": [
    "sentiment_res = pd.read_csv(file_name, index_col=0)\n",
    "sentiment_res.head()"
   ],
   "metadata": {
    "collapsed": false,
    "ExecuteTime": {
     "end_time": "2023-12-09T20:00:37.204650209Z",
     "start_time": "2023-12-09T20:00:37.175982443Z"
    }
   },
   "id": "f02a6ca7ddc99e45"
  },
  {
   "cell_type": "markdown",
   "source": [
    "# Sanity check"
   ],
   "metadata": {
    "collapsed": false
   },
   "id": "df92cd4ed373a3d8"
  },
  {
   "cell_type": "code",
   "execution_count": 8,
   "outputs": [
    {
     "name": "stdout",
     "output_type": "stream",
     "text": [
      "positive\n",
      "display_id\n",
      "pes8_eAAmpw    It's The Best Time In History To Be Alive and ...\n",
      "Udm2Uz64G9Y                                    Thank you, Emily!\n",
      "FCmVP-ionLo                  Jordan Peterson: I LOVE Rock Music!\n",
      "V4ZCSEhMgbk        ROBLOX SURVIVING THE BIGGEST TORNADO EVER!! 🌪\n",
      "Udm2Uz64G9Y                                    Thank you, Emily!\n",
      "pes8_eAAmpw    It's The Best Time In History To Be Alive and ...\n",
      "bmKM2_mK8qQ     Pope Francis receives jubilant welcome in Maputo\n",
      "giUuitZd_Ww    Bon Appetit Resident Evil 2 Remake Trophy / Ac...\n",
      "Mb_-rhZzX74                3 Amazing Things To Do After You Die!\n",
      "jXkGAerJFfg    Gotcha! Resident Evil 2 Remake Trophy / Achiev...\n",
      "Name: title, dtype: object\n",
      "\n",
      "\n",
      "neutral\n",
      "display_id\n",
      "vaPRpbyY-xk    Video Interview: Max Entman Interviews Joseph ...\n",
      "Sn16VcrGktg          Tropical Storm Pabuk Hits Northern Thailand\n",
      "1y9e-ArgLHc     The Banyan Tree Leadership Forum with Wayne Swan\n",
      "sepkwzt4Ay8    Decking/Sheeting for Patio Roof Construction  ...\n",
      "lVfo4daWff4    Window Box Frame, Main Post & Planning Outdoor...\n",
      "fkfwrJTQAeY             Jordan Peterson & Sam Harris Trade Shoes\n",
      "sa27RdOw8e8    2011 PIELC Keynote: Congressman Earl Blumenaue...\n",
      "yywkF0eMhWg    2011 PIELC Keynote: Lynn Henning & Matt Briggs...\n",
      "1REsLe7gzHU    BLACK NOVEMBER Trailer (Mickey Rourke, AKON, K...\n",
      "xL8xL0tfJrk    Rajeev Khandelwal & Sushma Reddy at Saini Johr...\n",
      "Name: title, dtype: object\n",
      "\n",
      "\n",
      "negative\n",
      "display_id\n",
      "pnRcXJlZxYM    The U.S. Government is the Worst Polluter on t...\n",
      "UWm30yDbgGU              What the eff is wrong with our weather?\n",
      "QcbBFd8erLg              This is Why Floodwater is SO DANGEROUS!\n",
      "Kl09aLpUTBg    These Crazy CLIMATE CHANGE Protesters Are Full...\n",
      "3eiSs9eA2tw              Pollution Kills 9 Million People a Year\n",
      "OgkuD6suG2E    Atheists are like cockroaches and defy all for...\n",
      "ftImSjyOQhY    Forget straws and plastic bags, this item is a...\n",
      "zjNqr4VltAc          Why Do We Waste $1 Trillion Of Food A Year?\n",
      "Bt3LW_fxQt8    Light pollution - the Silent killer that is ki...\n",
      "l0zDQmuOX1Y           All of the Fish Died... Pollution in China\n",
      "Name: title, dtype: object\n",
      "\n"
     ]
    }
   ],
   "source": [
    "for label in SentimentAnalysis.sentiment_names:\n",
    "    indexes = sentiment_res[label].sort_values(ascending=False).head(10)\n",
    "    print(label)\n",
    "    print(data.loc[indexes.index]['title'])\n",
    "    print('\\n')"
   ],
   "metadata": {
    "collapsed": false,
    "ExecuteTime": {
     "end_time": "2023-12-09T20:05:35.587761181Z",
     "start_time": "2023-12-09T20:05:35.540219519Z"
    }
   },
   "id": "b728a29fea19c0eb"
  },
  {
   "cell_type": "code",
   "execution_count": 7,
   "outputs": [
    {
     "data": {
      "text/plain": "             positive   neutral  negative  \\\ndisplay_id                                  \nXPSYzLZ7xKU  0.722696  0.152849  0.124455   \n8riq9piAdiE  0.488949  0.181014  0.330037   \nyeVLjOTThEM  0.285087  0.257673  0.457240   \n-fNCUzVRcL4  0.416952  0.178746  0.404303   \n-3YhFNs1XNY  0.230002  0.170134  0.599864   \n...               ...       ...       ...   \nTtjcELcNH1E  0.065040  0.760044  0.174916   \nvvJ412PxHR0  0.021138  0.374240  0.604621   \nCexQmFFtoTw  0.042206  0.629392  0.328403   \ns4AczmNQByY  0.033923  0.498165  0.467912   \nQL2wHRV3CI4  0.183428  0.680858  0.135714   \n\n                                                         title  \ndisplay_id                                                      \nXPSYzLZ7xKU  Transforming Air Into Pure Drinking Water Is F...  \n8riq9piAdiE  Could Injecting Carbon Into the Earth Save Our...  \nyeVLjOTThEM  The Amazon Rainforest Doesn’t Produce 20% of O...  \n-fNCUzVRcL4  Glaciers Are Collapsing, Here's Why We Need a ...  \n-3YhFNs1XNY  Why Scientists Are Exploring Earth’s Dangerous...  \n...                                                        ...  \nTtjcELcNH1E  Accelerating Sea-Level Rise with Increase in E...  \nvvJ412PxHR0  Arctic-Sea Ice Collapse: Greenland Vulnerabili...  \nCexQmFFtoTw  Greenland Vulnerability to BOE and Acceleratin...  \ns4AczmNQByY  Arctic Wildfires and Peat Fires Darken Arctic ...  \nQL2wHRV3CI4  Global Aviation Impact on Climate System Chang...  \n\n[6000 rows x 4 columns]",
      "text/html": "<div>\n<style scoped>\n    .dataframe tbody tr th:only-of-type {\n        vertical-align: middle;\n    }\n\n    .dataframe tbody tr th {\n        vertical-align: top;\n    }\n\n    .dataframe thead th {\n        text-align: right;\n    }\n</style>\n<table border=\"1\" class=\"dataframe\">\n  <thead>\n    <tr style=\"text-align: right;\">\n      <th></th>\n      <th>positive</th>\n      <th>neutral</th>\n      <th>negative</th>\n      <th>title</th>\n    </tr>\n    <tr>\n      <th>display_id</th>\n      <th></th>\n      <th></th>\n      <th></th>\n      <th></th>\n    </tr>\n  </thead>\n  <tbody>\n    <tr>\n      <th>XPSYzLZ7xKU</th>\n      <td>0.722696</td>\n      <td>0.152849</td>\n      <td>0.124455</td>\n      <td>Transforming Air Into Pure Drinking Water Is F...</td>\n    </tr>\n    <tr>\n      <th>8riq9piAdiE</th>\n      <td>0.488949</td>\n      <td>0.181014</td>\n      <td>0.330037</td>\n      <td>Could Injecting Carbon Into the Earth Save Our...</td>\n    </tr>\n    <tr>\n      <th>yeVLjOTThEM</th>\n      <td>0.285087</td>\n      <td>0.257673</td>\n      <td>0.457240</td>\n      <td>The Amazon Rainforest Doesn’t Produce 20% of O...</td>\n    </tr>\n    <tr>\n      <th>-fNCUzVRcL4</th>\n      <td>0.416952</td>\n      <td>0.178746</td>\n      <td>0.404303</td>\n      <td>Glaciers Are Collapsing, Here's Why We Need a ...</td>\n    </tr>\n    <tr>\n      <th>-3YhFNs1XNY</th>\n      <td>0.230002</td>\n      <td>0.170134</td>\n      <td>0.599864</td>\n      <td>Why Scientists Are Exploring Earth’s Dangerous...</td>\n    </tr>\n    <tr>\n      <th>...</th>\n      <td>...</td>\n      <td>...</td>\n      <td>...</td>\n      <td>...</td>\n    </tr>\n    <tr>\n      <th>TtjcELcNH1E</th>\n      <td>0.065040</td>\n      <td>0.760044</td>\n      <td>0.174916</td>\n      <td>Accelerating Sea-Level Rise with Increase in E...</td>\n    </tr>\n    <tr>\n      <th>vvJ412PxHR0</th>\n      <td>0.021138</td>\n      <td>0.374240</td>\n      <td>0.604621</td>\n      <td>Arctic-Sea Ice Collapse: Greenland Vulnerabili...</td>\n    </tr>\n    <tr>\n      <th>CexQmFFtoTw</th>\n      <td>0.042206</td>\n      <td>0.629392</td>\n      <td>0.328403</td>\n      <td>Greenland Vulnerability to BOE and Acceleratin...</td>\n    </tr>\n    <tr>\n      <th>s4AczmNQByY</th>\n      <td>0.033923</td>\n      <td>0.498165</td>\n      <td>0.467912</td>\n      <td>Arctic Wildfires and Peat Fires Darken Arctic ...</td>\n    </tr>\n    <tr>\n      <th>QL2wHRV3CI4</th>\n      <td>0.183428</td>\n      <td>0.680858</td>\n      <td>0.135714</td>\n      <td>Global Aviation Impact on Climate System Chang...</td>\n    </tr>\n  </tbody>\n</table>\n<p>6000 rows × 4 columns</p>\n</div>"
     },
     "execution_count": 7,
     "metadata": {},
     "output_type": "execute_result"
    }
   ],
   "source": [
    "sentiment_res['title'] = data['title']\n",
    "sentiment_res"
   ],
   "metadata": {
    "collapsed": false,
    "ExecuteTime": {
     "end_time": "2023-12-09T20:00:37.335049993Z",
     "start_time": "2023-12-09T20:00:37.256799992Z"
    }
   },
   "id": "3920635be07f2eeb"
  }
 ],
 "metadata": {
  "kernelspec": {
   "display_name": "Python 3",
   "language": "python",
   "name": "python3"
  },
  "language_info": {
   "codemirror_mode": {
    "name": "ipython",
    "version": 2
   },
   "file_extension": ".py",
   "mimetype": "text/x-python",
   "name": "python",
   "nbconvert_exporter": "python",
   "pygments_lexer": "ipython2",
   "version": "2.7.6"
  }
 },
 "nbformat": 4,
 "nbformat_minor": 5
}

{
 "cells": [
  {
   "cell_type": "code",
   "execution_count": 13,
   "outputs": [],
   "source": [
    "import pandas as pd\n",
    "from tqdm import tqdm\n",
    "import os\n",
    "from src.sentiment_analysis import SentimentAnalysis\n",
    "import time"
   ],
   "metadata": {
    "collapsed": false,
    "ExecuteTime": {
     "end_time": "2023-12-11T12:50:51.962186588Z",
     "start_time": "2023-12-11T12:50:51.929127279Z"
    }
   },
   "id": "7df523e06136a9e3"
  },
  {
   "cell_type": "code",
   "execution_count": 14,
   "outputs": [],
   "source": [
    "file_path = \"data/climate_videos.jsonl\"\n",
    "df = pd.read_json(file_path, lines=True)\n",
    "data = df.copy()\n",
    "data.set_index('display_id', inplace=True)\n",
    "titles = data['title'] # .iloc[:3000]"
   ],
   "metadata": {
    "collapsed": false,
    "ExecuteTime": {
     "end_time": "2023-12-11T12:50:56.594638357Z",
     "start_time": "2023-12-11T12:50:51.948322803Z"
    }
   },
   "id": "7e29ca106c181ecf"
  },
  {
   "cell_type": "code",
   "execution_count": 15,
   "outputs": [],
   "source": [
    "file_name = 'data/video_title_sentiment_analysis.csv'\n",
    "\n",
    "def save_new_title_sentiments(sentiment_res: pd.DataFrame):\n",
    "    if not os.path.isfile(file_name):\n",
    "        sentiment_res.to_csv(file_name)\n",
    "    else:\n",
    "        old_data = pd.read_csv(file_name, index_col=0)\n",
    "        new_data = pd.concat([old_data, sentiment_res])\n",
    "        new_data.to_csv(file_name)"
   ],
   "metadata": {
    "collapsed": false,
    "ExecuteTime": {
     "end_time": "2023-12-11T12:50:56.605893227Z",
     "start_time": "2023-12-11T12:50:56.596759579Z"
    }
   },
   "id": "41db511b82b158d3"
  },
  {
   "cell_type": "markdown",
   "source": [
    "# Perform sentiment analysis on titles"
   ],
   "metadata": {
    "collapsed": false
   },
   "id": "ad9b1e1a859ea323"
  },
  {
   "cell_type": "code",
   "execution_count": 16,
   "outputs": [
    {
     "name": "stderr",
     "output_type": "stream",
     "text": [
      "Sentiment Analysis: 100%|██████████| 80/80 [1:01:34<00:00, 46.18s/it]\n"
     ]
    }
   ],
   "source": [
    "sa = SentimentAnalysis()\n",
    "sentiment_res = pd.DataFrame(columns=sa.sentiment_names)\n",
    "\n",
    "batch_size = 1000\n",
    "last_iter = 66 + 31\n",
    "for i in tqdm(range(last_iter * batch_size, len(titles), batch_size), desc='Sentiment Analysis'):\n",
    "    batch = titles.iloc[i:i+batch_size]\n",
    "    sentiment_res[sa.sentiment_names] = batch.apply(sa.get_scores).apply(pd.Series)\n",
    "    save_new_title_sentiments(sentiment_res)\n",
    "    sentiment_res = pd.DataFrame(columns=sa.sentiment_names)    "
   ],
   "metadata": {
    "collapsed": false,
    "ExecuteTime": {
     "end_time": "2023-12-11T13:52:32.302704616Z",
     "start_time": "2023-12-11T12:50:56.602408044Z"
    }
   },
   "id": "1db587dc9136e4ff"
  },
  {
   "cell_type": "markdown",
   "source": [
    "# Analyze sentiment results"
   ],
   "metadata": {
    "collapsed": false
   },
   "id": "27d63295074ab27b"
  },
  {
   "cell_type": "code",
   "execution_count": 17,
   "outputs": [
    {
     "data": {
      "text/plain": "             positive   neutral  negative\ndisplay_id                               \nXPSYzLZ7xKU  0.697066  0.298655  0.004279\n8riq9piAdiE  0.093576  0.765058  0.141366\nyeVLjOTThEM  0.014018  0.151829  0.834153\n-fNCUzVRcL4  0.039200  0.488308  0.472492\n-3YhFNs1XNY  0.038703  0.599564  0.361734",
      "text/html": "<div>\n<style scoped>\n    .dataframe tbody tr th:only-of-type {\n        vertical-align: middle;\n    }\n\n    .dataframe tbody tr th {\n        vertical-align: top;\n    }\n\n    .dataframe thead th {\n        text-align: right;\n    }\n</style>\n<table border=\"1\" class=\"dataframe\">\n  <thead>\n    <tr style=\"text-align: right;\">\n      <th></th>\n      <th>positive</th>\n      <th>neutral</th>\n      <th>negative</th>\n    </tr>\n    <tr>\n      <th>display_id</th>\n      <th></th>\n      <th></th>\n      <th></th>\n    </tr>\n  </thead>\n  <tbody>\n    <tr>\n      <th>XPSYzLZ7xKU</th>\n      <td>0.697066</td>\n      <td>0.298655</td>\n      <td>0.004279</td>\n    </tr>\n    <tr>\n      <th>8riq9piAdiE</th>\n      <td>0.093576</td>\n      <td>0.765058</td>\n      <td>0.141366</td>\n    </tr>\n    <tr>\n      <th>yeVLjOTThEM</th>\n      <td>0.014018</td>\n      <td>0.151829</td>\n      <td>0.834153</td>\n    </tr>\n    <tr>\n      <th>-fNCUzVRcL4</th>\n      <td>0.039200</td>\n      <td>0.488308</td>\n      <td>0.472492</td>\n    </tr>\n    <tr>\n      <th>-3YhFNs1XNY</th>\n      <td>0.038703</td>\n      <td>0.599564</td>\n      <td>0.361734</td>\n    </tr>\n  </tbody>\n</table>\n</div>"
     },
     "execution_count": 17,
     "metadata": {},
     "output_type": "execute_result"
    }
   ],
   "source": [
    "sentiment_res = pd.read_csv(file_name, index_col=0)\n",
    "sentiment_res.head()"
   ],
   "metadata": {
    "collapsed": false,
    "ExecuteTime": {
     "end_time": "2023-12-11T13:52:32.484159147Z",
     "start_time": "2023-12-11T13:52:32.305463153Z"
    }
   },
   "id": "f02a6ca7ddc99e45"
  },
  {
   "cell_type": "markdown",
   "source": [
    "# Sanity check"
   ],
   "metadata": {
    "collapsed": false
   },
   "id": "df92cd4ed373a3d8"
  },
  {
   "cell_type": "code",
   "execution_count": 18,
   "outputs": [
    {
     "name": "stdout",
     "output_type": "stream",
     "text": [
      "positive\n",
      "display_id\n",
      "mhK6AbNowLA                  Exciting updates! + bonus love read\n",
      "mPmW04toHIs    I'm SO Proud of the Climate Change Walkout Kid...\n",
      "cMj3INm3kCc    Happy Birthday is free at last! Song belongs t...\n",
      "TSGAXRk0XnM    We love the Kelp Forest at the Monterey Bay Aq...\n",
      "7K7JlxPAGi8       WELCOME TO SEPTEMBER!  THANK YOU FILM PATRONS!\n",
      "JDGgCLr3wYE          This is the greatest year in world history.\n",
      "X-pNSLaSl0I             Things I'm Currently Loving!  FAVORITES!\n",
      "hVEkgF7BBMg             The most beautiful day on earth 8-28-17.\n",
      "m7uy7QBMS1k    This is an awesome daddy daughter moment durin...\n",
      "qtNUkON082A    I love LA.  Los Angles new  Feed In Tariff.  Wow.\n",
      "Name: title, dtype: object\n",
      "\n",
      "\n",
      "neutral\n",
      "display_id\n",
      "oj6OU-TRVYE    Extreme Heat to Hit Phoenix Arizona on Friday ...\n",
      "en93y_-55cA    US Congress woman Tulsi Gabbard interacts at G...\n",
      "MbulPJYeKOQ    Delhi to conduct second round of odd-even from...\n",
      "4qsfahbWqxw    KHOU 11 News Top Headlines at 5 a.m. Friday, A...\n",
      "4EFiZLicMQ8    Alex and Ani Color Infusion Arizona Cardinals ...\n",
      "gT2qydvwL0w    KHOU 11 News Top Headlines at 6 a.m. Wednesday...\n",
      "9-vzj-G82oQ    Daniel Bryan Reveals New WWE Championship - Sm...\n",
      "2Ri3Xe-76DY    KHOU 11 News Top Headlines at 4:30 a.m Friday,...\n",
      "2zPAbfxIYMw    KHOU 11 News Top Headlines at 5 a.m. Wednesday...\n",
      "_8ffEmkv8Zk    KHOU 11 News Top Headlines at 6 a.m. Wednesday...\n",
      "Name: title, dtype: object\n",
      "\n",
      "\n",
      "negative\n",
      "display_id\n",
      "pnRcXJlZxYM    The U.S. Government is the Worst Polluter on t...\n",
      "5xFaH9qHi58            Delhi air pollution is the worst on earth\n",
      "vFV8ReIjnB0    China's pollution is killing 4,000 people a da...\n",
      "7DJnvG9pwVg                      Most DANGEROUS Animals On Earth\n",
      "6RlxySFrkIM            Food waste is the world's dumbest problem\n",
      "VdF2FSMoFpc          I HATE THE SEPTIC GUY! OUT HOUSES OFF GRID!\n",
      "Ax0u7SD26yE                            ScubaTube - Humans SUCK!!\n",
      "ILrXgFcSekY      Meet the most stupid ridiculous ignorant moron.\n",
      "KLQZTXq8_nw    A child dies every 20 seconds from diseases ca...\n",
      "tWktmO8B0_8                    Worst event I have ever attended.\n",
      "Name: title, dtype: object\n"
     ]
    }
   ],
   "source": [
    "for label in SentimentAnalysis.sentiment_names:\n",
    "    indexes = sentiment_res[label].sort_values(ascending=False).head(10)\n",
    "    print(label)\n",
    "    print(data.loc[indexes.index]['title'])\n",
    "    print('\\n')"
   ],
   "metadata": {
    "collapsed": false,
    "ExecuteTime": {
     "end_time": "2023-12-11T13:52:32.626779256Z",
     "start_time": "2023-12-11T13:52:32.477555423Z"
    }
   },
   "id": "b728a29fea19c0eb"
  },
  {
   "cell_type": "code",
   "execution_count": 19,
   "outputs": [
    {
     "data": {
      "text/plain": "             positive   neutral  negative  \\\ndisplay_id                                  \nXPSYzLZ7xKU  0.697066  0.298655  0.004279   \n8riq9piAdiE  0.093576  0.765058  0.141366   \nyeVLjOTThEM  0.014018  0.151829  0.834153   \n-fNCUzVRcL4  0.039200  0.488308  0.472492   \n-3YhFNs1XNY  0.038703  0.599564  0.361734   \n...               ...       ...       ...   \n66ltl9zJ4PM  0.032409  0.872051  0.095540   \nKTDp4-1BErQ  0.037866  0.816757  0.145378   \nzyOT2R9TIVw  0.081865  0.894380  0.023755   \nZgFdG7CA2Bs  0.065559  0.657118  0.277322   \nP8_fW6sv6_g  0.072438  0.907441  0.020120   \n\n                                                         title  \ndisplay_id                                                      \nXPSYzLZ7xKU  Transforming Air Into Pure Drinking Water Is F...  \n8riq9piAdiE  Could Injecting Carbon Into the Earth Save Our...  \nyeVLjOTThEM  The Amazon Rainforest Doesn’t Produce 20% of O...  \n-fNCUzVRcL4  Glaciers Are Collapsing, Here's Why We Need a ...  \n-3YhFNs1XNY  Why Scientists Are Exploring Earth’s Dangerous...  \n...                                                        ...  \n66ltl9zJ4PM  Shri Prakash Javadekar's reply on the Situatio...  \nKTDp4-1BErQ  Shri Prakash Javadekar moves the Situation ari...  \nzyOT2R9TIVw  Metro extended to 10 cities, Waterways operati...  \nZgFdG7CA2Bs  India's contribution to global warming has bee...  \nP8_fW6sv6_g  PM Shri Narendra Modi addresses UN Summit on c...  \n\n[145008 rows x 4 columns]",
      "text/html": "<div>\n<style scoped>\n    .dataframe tbody tr th:only-of-type {\n        vertical-align: middle;\n    }\n\n    .dataframe tbody tr th {\n        vertical-align: top;\n    }\n\n    .dataframe thead th {\n        text-align: right;\n    }\n</style>\n<table border=\"1\" class=\"dataframe\">\n  <thead>\n    <tr style=\"text-align: right;\">\n      <th></th>\n      <th>positive</th>\n      <th>neutral</th>\n      <th>negative</th>\n      <th>title</th>\n    </tr>\n    <tr>\n      <th>display_id</th>\n      <th></th>\n      <th></th>\n      <th></th>\n      <th></th>\n    </tr>\n  </thead>\n  <tbody>\n    <tr>\n      <th>XPSYzLZ7xKU</th>\n      <td>0.697066</td>\n      <td>0.298655</td>\n      <td>0.004279</td>\n      <td>Transforming Air Into Pure Drinking Water Is F...</td>\n    </tr>\n    <tr>\n      <th>8riq9piAdiE</th>\n      <td>0.093576</td>\n      <td>0.765058</td>\n      <td>0.141366</td>\n      <td>Could Injecting Carbon Into the Earth Save Our...</td>\n    </tr>\n    <tr>\n      <th>yeVLjOTThEM</th>\n      <td>0.014018</td>\n      <td>0.151829</td>\n      <td>0.834153</td>\n      <td>The Amazon Rainforest Doesn’t Produce 20% of O...</td>\n    </tr>\n    <tr>\n      <th>-fNCUzVRcL4</th>\n      <td>0.039200</td>\n      <td>0.488308</td>\n      <td>0.472492</td>\n      <td>Glaciers Are Collapsing, Here's Why We Need a ...</td>\n    </tr>\n    <tr>\n      <th>-3YhFNs1XNY</th>\n      <td>0.038703</td>\n      <td>0.599564</td>\n      <td>0.361734</td>\n      <td>Why Scientists Are Exploring Earth’s Dangerous...</td>\n    </tr>\n    <tr>\n      <th>...</th>\n      <td>...</td>\n      <td>...</td>\n      <td>...</td>\n      <td>...</td>\n    </tr>\n    <tr>\n      <th>66ltl9zJ4PM</th>\n      <td>0.032409</td>\n      <td>0.872051</td>\n      <td>0.095540</td>\n      <td>Shri Prakash Javadekar's reply on the Situatio...</td>\n    </tr>\n    <tr>\n      <th>KTDp4-1BErQ</th>\n      <td>0.037866</td>\n      <td>0.816757</td>\n      <td>0.145378</td>\n      <td>Shri Prakash Javadekar moves the Situation ari...</td>\n    </tr>\n    <tr>\n      <th>zyOT2R9TIVw</th>\n      <td>0.081865</td>\n      <td>0.894380</td>\n      <td>0.023755</td>\n      <td>Metro extended to 10 cities, Waterways operati...</td>\n    </tr>\n    <tr>\n      <th>ZgFdG7CA2Bs</th>\n      <td>0.065559</td>\n      <td>0.657118</td>\n      <td>0.277322</td>\n      <td>India's contribution to global warming has bee...</td>\n    </tr>\n    <tr>\n      <th>P8_fW6sv6_g</th>\n      <td>0.072438</td>\n      <td>0.907441</td>\n      <td>0.020120</td>\n      <td>PM Shri Narendra Modi addresses UN Summit on c...</td>\n    </tr>\n  </tbody>\n</table>\n<p>145008 rows × 4 columns</p>\n</div>"
     },
     "execution_count": 19,
     "metadata": {},
     "output_type": "execute_result"
    }
   ],
   "source": [
    "sentiment_res['title'] = data['title']\n",
    "sentiment_res"
   ],
   "metadata": {
    "collapsed": false,
    "ExecuteTime": {
     "end_time": "2023-12-11T13:52:32.660162487Z",
     "start_time": "2023-12-11T13:52:32.642231552Z"
    }
   },
   "id": "3920635be07f2eeb"
  }
 ],
 "metadata": {
  "kernelspec": {
   "display_name": "Python 3",
   "language": "python",
   "name": "python3"
  },
  "language_info": {
   "codemirror_mode": {
    "name": "ipython",
    "version": 2
   },
   "file_extension": ".py",
   "mimetype": "text/x-python",
   "name": "python",
   "nbconvert_exporter": "python",
   "pygments_lexer": "ipython2",
   "version": "2.7.6"
  }
 },
 "nbformat": 4,
 "nbformat_minor": 5
}

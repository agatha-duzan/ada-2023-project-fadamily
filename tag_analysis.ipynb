{
 "cells": [
  {
   "cell_type": "code",
   "execution_count": 92,
   "id": "initial_id",
   "metadata": {
    "ExecuteTime": {
     "end_time": "2023-12-12T16:45:43.133279508Z",
     "start_time": "2023-12-12T16:45:43.016090309Z"
    }
   },
   "outputs": [],
   "source": [
    "import pandas as pd\n",
    "import numpy as np\n",
    "import networkx as nx\n",
    "from collections import Counter\n",
    "import matplotlib.pyplot as plt\n",
    "from tqdm import tqdm\n",
    "import random\n",
    "from src.tag_grouper import TagGrouper"
   ]
  },
  {
   "cell_type": "markdown",
   "id": "23c012c2ba1105b6",
   "metadata": {},
   "source": [
    "# Import the data around COP21"
   ]
  },
  {
   "cell_type": "code",
   "execution_count": null,
   "id": "3185692004568db7",
   "metadata": {
    "is_executing": true,
    "ExecuteTime": {
     "start_time": "2023-12-12T16:45:43.137168166Z"
    }
   },
   "outputs": [
    {
     "data": {
      "text/plain": "            upload_date             categories                channel_id  \\\ndisplay_id                                                                 \njD-Xa_vpaeM  2015-12-01  Nonprofits & Activism  UCFnB6jXxfLsD3CmNIZ8iYCg   \nJ863_OEXZ74  2015-12-01        News & Politics  UC7fWeaHhqgM4Ry-RMpM2YYw   \n-cPFW7pIxzw  2015-12-01        News & Politics  UC9jj-YYSGUXvY2J2nYw9dNQ   \n_W4BtX5yRXI  2015-12-01        News & Politics  UC7fWeaHhqgM4Ry-RMpM2YYw   \nzGjIXBffIrY  2015-12-01        News & Politics  UC7fWeaHhqgM4Ry-RMpM2YYw   \n\n                             crawl_date  \\\ndisplay_id                                \njD-Xa_vpaeM  2019-10-30 07:17:46.166349   \nJ863_OEXZ74  2019-11-05 01:11:51.180884   \n-cPFW7pIxzw  2019-11-01 19:59:50.968433   \n_W4BtX5yRXI  2019-11-05 01:11:51.739916   \nzGjIXBffIrY  2019-11-05 01:11:53.792168   \n\n                                                   description  dislike_count  \\\ndisplay_id                                                                      \njD-Xa_vpaeM  One Young World delegate Tarek Yassine calls o...            1.0   \nJ863_OEXZ74                                                               0.0   \n-cPFW7pIxzw  More than 140 world leaders gathered for that ...            1.0   \n_W4BtX5yRXI  Turkey ‘to continue fight against Daesh’\\nPrim...            0.0   \nzGjIXBffIrY  Erdogan rejects Daesh oil accusations\\nPreside...            0.0   \n\n             duration  like_count  \\\ndisplay_id                          \njD-Xa_vpaeM       162         5.0   \nJ863_OEXZ74       201         3.0   \n-cPFW7pIxzw       184         7.0   \n_W4BtX5yRXI       151         3.0   \nzGjIXBffIrY       150         2.0   \n\n                                                          tags  \\\ndisplay_id                                                       \njD-Xa_vpaeM  Kuwait (Country),Call On COP,COP21,Gulf Region...   \nJ863_OEXZ74                                                      \n-cPFW7pIxzw  mashable,video,Climate Summit,United Nations (...   \n_W4BtX5yRXI                                                      \nzGjIXBffIrY  Recep Tayyip Erdoğan (Politician),Turkey (Coun...   \n\n                                                         title  view_count  \ndisplay_id                                                                  \njD-Xa_vpaeM                 #CallOnCOP - Tarek Yassine, Kuwait       407.0  \nJ863_OEXZ74  TRT World - Interview with Ibrahim Thiaw about...       348.0  \n-cPFW7pIxzw  The Most Powerful Climate Quotes From the Firs...       780.0  \n_W4BtX5yRXI  TRT World - World in Two Minutes, 2015, Decemb...       181.0  \nzGjIXBffIrY  TRT World - World in Two Minutes, 2015, Decemb...       262.0  ",
      "text/html": "<div>\n<style scoped>\n    .dataframe tbody tr th:only-of-type {\n        vertical-align: middle;\n    }\n\n    .dataframe tbody tr th {\n        vertical-align: top;\n    }\n\n    .dataframe thead th {\n        text-align: right;\n    }\n</style>\n<table border=\"1\" class=\"dataframe\">\n  <thead>\n    <tr style=\"text-align: right;\">\n      <th></th>\n      <th>upload_date</th>\n      <th>categories</th>\n      <th>channel_id</th>\n      <th>crawl_date</th>\n      <th>description</th>\n      <th>dislike_count</th>\n      <th>duration</th>\n      <th>like_count</th>\n      <th>tags</th>\n      <th>title</th>\n      <th>view_count</th>\n    </tr>\n    <tr>\n      <th>display_id</th>\n      <th></th>\n      <th></th>\n      <th></th>\n      <th></th>\n      <th></th>\n      <th></th>\n      <th></th>\n      <th></th>\n      <th></th>\n      <th></th>\n      <th></th>\n    </tr>\n  </thead>\n  <tbody>\n    <tr>\n      <th>jD-Xa_vpaeM</th>\n      <td>2015-12-01</td>\n      <td>Nonprofits &amp; Activism</td>\n      <td>UCFnB6jXxfLsD3CmNIZ8iYCg</td>\n      <td>2019-10-30 07:17:46.166349</td>\n      <td>One Young World delegate Tarek Yassine calls o...</td>\n      <td>1.0</td>\n      <td>162</td>\n      <td>5.0</td>\n      <td>Kuwait (Country),Call On COP,COP21,Gulf Region...</td>\n      <td>#CallOnCOP - Tarek Yassine, Kuwait</td>\n      <td>407.0</td>\n    </tr>\n    <tr>\n      <th>J863_OEXZ74</th>\n      <td>2015-12-01</td>\n      <td>News &amp; Politics</td>\n      <td>UC7fWeaHhqgM4Ry-RMpM2YYw</td>\n      <td>2019-11-05 01:11:51.180884</td>\n      <td></td>\n      <td>0.0</td>\n      <td>201</td>\n      <td>3.0</td>\n      <td></td>\n      <td>TRT World - Interview with Ibrahim Thiaw about...</td>\n      <td>348.0</td>\n    </tr>\n    <tr>\n      <th>-cPFW7pIxzw</th>\n      <td>2015-12-01</td>\n      <td>News &amp; Politics</td>\n      <td>UC9jj-YYSGUXvY2J2nYw9dNQ</td>\n      <td>2019-11-01 19:59:50.968433</td>\n      <td>More than 140 world leaders gathered for that ...</td>\n      <td>1.0</td>\n      <td>184</td>\n      <td>7.0</td>\n      <td>mashable,video,Climate Summit,United Nations (...</td>\n      <td>The Most Powerful Climate Quotes From the Firs...</td>\n      <td>780.0</td>\n    </tr>\n    <tr>\n      <th>_W4BtX5yRXI</th>\n      <td>2015-12-01</td>\n      <td>News &amp; Politics</td>\n      <td>UC7fWeaHhqgM4Ry-RMpM2YYw</td>\n      <td>2019-11-05 01:11:51.739916</td>\n      <td>Turkey ‘to continue fight against Daesh’\\nPrim...</td>\n      <td>0.0</td>\n      <td>151</td>\n      <td>3.0</td>\n      <td></td>\n      <td>TRT World - World in Two Minutes, 2015, Decemb...</td>\n      <td>181.0</td>\n    </tr>\n    <tr>\n      <th>zGjIXBffIrY</th>\n      <td>2015-12-01</td>\n      <td>News &amp; Politics</td>\n      <td>UC7fWeaHhqgM4Ry-RMpM2YYw</td>\n      <td>2019-11-05 01:11:53.792168</td>\n      <td>Erdogan rejects Daesh oil accusations\\nPreside...</td>\n      <td>0.0</td>\n      <td>150</td>\n      <td>2.0</td>\n      <td>Recep Tayyip Erdoğan (Politician),Turkey (Coun...</td>\n      <td>TRT World - World in Two Minutes, 2015, Decemb...</td>\n      <td>262.0</td>\n    </tr>\n  </tbody>\n</table>\n</div>"
     },
     "execution_count": 93,
     "metadata": {},
     "output_type": "execute_result"
    }
   ],
   "source": [
    "file_name = 'data/climate_videos.jsonl'\n",
    "df = pd.read_json(file_name, lines=True)\n",
    "df['upload_date'] = pd.to_datetime(df['upload_date'])\n",
    "df.set_index('upload_date', inplace=True)\n",
    "df.sort_index(inplace=True)\n",
    "df = df.loc['2015-12-01': '2015-12-31']\n",
    "\n",
    "df.reset_index(inplace=True)\n",
    "df.set_index('display_id', inplace=True)\n",
    "df.head()"
   ]
  },
  {
   "cell_type": "markdown",
   "id": "21ca8b9fd88c3e07",
   "metadata": {},
   "source": [
    "# Initial transformation and filtering on the tags"
   ]
  },
  {
   "cell_type": "code",
   "execution_count": null,
   "id": "fa3abad65b47dcd8",
   "metadata": {
    "is_executing": true
   },
   "outputs": [],
   "source": [
    "data = df['tags'].copy()\n",
    "tag_grouper = TagGrouper()\n",
    "\n",
    "tqdm.pandas()\n",
    "data = data.apply(lambda tags: tags.split(','))\n",
    "data = data.progress_apply(lambda tags: [tag_grouper.get(tag) for tag in tags if tag != ''])\n",
    "data = data[data.apply(lambda tags: len(tags) > 0)]\n",
    "data"
   ]
  },
  {
   "cell_type": "markdown",
   "id": "4cd60fe95525f887",
   "metadata": {},
   "source": [
    "# Take a look at the tag counts"
   ]
  },
  {
   "cell_type": "code",
   "execution_count": null,
   "id": "d1ebced9c2c9ebeb",
   "metadata": {
    "is_executing": true
   },
   "outputs": [],
   "source": [
    "tags_count = pd.Series(dict(Counter(tag for tags in data for tag in tags)))\n",
    "tags_count.sort_values(inplace=True, ascending=False)\n",
    "\n",
    "fig, ax = plt.subplots(1, 2, figsize=(20, 6))\n",
    "tags_count.plot(xlabel='tags', ylabel='count', ax=ax[0], logy=True, logx=False, grid=True)\n",
    "tags_count.plot(xlabel='tags', ylabel='count', ax=ax[1], logy=True, logx=True, grid=True)\n",
    "plt.show()\n",
    "tags_count"
   ]
  },
  {
   "cell_type": "markdown",
   "id": "65c7b1a685eb4727",
   "metadata": {},
   "source": [
    "# Only keep the top 90th percentile of tags "
   ]
  },
  {
   "cell_type": "code",
   "execution_count": null,
   "id": "6fe03baa76698b35",
   "metadata": {
    "is_executing": true
   },
   "outputs": [],
   "source": [
    "threshold = tags_count.quantile(0.9)\n",
    "common_tags_count = tags_count[tags_count > threshold]\n",
    "fig, ax = plt.subplots(1, 2, figsize=(20, 6))\n",
    "common_tags_count.plot(xlabel='tags', ylabel='count', ax=ax[0], logy=True, logx=False, grid=True)\n",
    "common_tags_count.plot(xlabel='tags', ylabel='count', ax=ax[1], logy=True, logx=True, grid=True)\n",
    "plt.show()\n",
    "common_tags_count"
   ]
  },
  {
   "cell_type": "markdown",
   "id": "e2f6025864a58a4e",
   "metadata": {},
   "source": [
    "# Filter the tags in the dataframe"
   ]
  },
  {
   "cell_type": "code",
   "execution_count": null,
   "id": "256fd377a629cac1",
   "metadata": {
    "is_executing": true
   },
   "outputs": [],
   "source": [
    "videos = list(data.index)\n",
    "common_tags = set(common_tags_count.index)\n",
    "data = data.apply(lambda x: [tag for tag in x if tag in common_tags])"
   ]
  },
  {
   "cell_type": "markdown",
   "id": "321f5c93600192b4",
   "metadata": {},
   "source": [
    "# Create the bipartite graph between videos and tags"
   ]
  },
  {
   "cell_type": "code",
   "execution_count": null,
   "id": "17440cc74e29b27",
   "metadata": {
    "is_executing": true
   },
   "outputs": [],
   "source": [
    "G = nx.Graph()\n",
    "G.add_nodes_from(common_tags, bipartite=0)\n",
    "G.add_nodes_from(videos, bipartite=1)\n",
    "\n",
    "for video, tags in tqdm(data.items(), total=len(data)):\n",
    "    for tag in tags:\n",
    "        G.add_edge(video, tag)\n",
    "print(G)"
   ]
  },
  {
   "cell_type": "markdown",
   "id": "448c94cf3c8a09ef",
   "metadata": {},
   "source": [
    "# Project the graph onto the videos"
   ]
  },
  {
   "cell_type": "code",
   "execution_count": null,
   "id": "cd048840",
   "metadata": {
    "is_executing": true
   },
   "outputs": [],
   "source": [
    "sub_videos = videos[8:11].copy()\n",
    "sub_tags = []\n",
    "for node in sub_videos:\n",
    "    sub_tags.extend(list(G.neighbors(node)))\n",
    "    \n",
    "sub_nodes = sub_videos + sub_tags\n",
    "subgraph = G.subgraph(sub_nodes)\n",
    "print(subgraph)\n",
    "pos = nx.bipartite_layout(subgraph, nodes=sub_videos, scale=1, aspect_ratio=4/3)  # Set the layout for bipartite graphs\n",
    "nx.draw(subgraph, with_labels=True, pos=pos, node_size=100, font_size=10, font_weight='bold')"
   ]
  },
  {
   "cell_type": "markdown",
   "source": [
    "# Project the graph onto the tags"
   ],
   "metadata": {
    "collapsed": false
   },
   "id": "b2638b782b6f8ebe"
  },
  {
   "cell_type": "code",
   "execution_count": null,
   "outputs": [],
   "source": [
    "print(\"Start\")\n",
    "tag_graph = nx.bipartite.weighted_projected_graph(G, common_tags, ratio=True)\n",
    "print(tag_graph)"
   ],
   "metadata": {
    "collapsed": false,
    "is_executing": true
   },
   "id": "1d3bdcef8da13835"
  },
  {
   "cell_type": "code",
   "execution_count": null,
   "outputs": [],
   "source": [
    "edges = tag_graph.edges.data('weight')\n",
    "threshold = np.percentile([w for _, _, w in edges], 99.5)\n",
    "filtered_edges = [(u, v, w) for u, v, w in edges if w > threshold]\n",
    "\n",
    "filtered_graph = nx.Graph()  \n",
    "filtered_graph.add_weighted_edges_from(filtered_edges)\n",
    "print(filtered_graph)"
   ],
   "metadata": {
    "collapsed": false,
    "is_executing": true
   },
   "id": "6a20fe37d03660ba"
  },
  {
   "cell_type": "code",
   "execution_count": null,
   "outputs": [],
   "source": [
    "plt.figure(figsize=(10, 10))\n",
    "pos = nx.spring_layout(filtered_graph, k=1.1, iterations=20)  # Set the layout for bipartite graphs\n",
    "\n",
    "weights = np.array([w for _, _, w in filtered_edges])\n",
    "weights = (weights - weights.min()) / (weights.max() - weights.min()) * 10  \n",
    "\n",
    "degrees = np.array([d for _, d in filtered_graph.degree()]) \n",
    "print(degrees)\n",
    "degrees = degrees / (degrees.max() - degrees.min()) * 700   # Min max normalize the degrees\n",
    "\n",
    "nx.draw_networkx_nodes(filtered_graph, pos, node_size=degrees)\n",
    "nx.draw_networkx_edges(filtered_graph, pos, width=weights, edge_color='gray', alpha=0.7)\n",
    "nx.draw_networkx_labels(filtered_graph, pos, font_size=10, font_weight='bold')\n",
    "plt.show()"
   ],
   "metadata": {
    "collapsed": false,
    "is_executing": true
   },
   "id": "42b268b8b07e0b9d"
  }
 ],
 "metadata": {
  "kernelspec": {
   "display_name": "Python 3 (ipykernel)",
   "language": "python",
   "name": "python3"
  },
  "language_info": {
   "codemirror_mode": {
    "name": "ipython",
    "version": 3
   },
   "file_extension": ".py",
   "mimetype": "text/x-python",
   "name": "python",
   "nbconvert_exporter": "python",
   "pygments_lexer": "ipython3",
   "version": "3.10.13"
  }
 },
 "nbformat": 4,
 "nbformat_minor": 5
}

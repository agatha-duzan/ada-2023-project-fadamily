{
 "cells": [
  {
   "cell_type": "code",
   "execution_count": 1,
   "id": "d1cf0daec97df2",
   "metadata": {
    "ExecuteTime": {
     "end_time": "2023-11-16T21:49:11.733459868Z",
     "start_time": "2023-11-16T21:49:11.719496320Z"
    },
    "collapsed": false
   },
   "outputs": [],
   "source": [
    "import matplotlib.pyplot as plt\n",
    "import pandas as pd\n",
    "import numpy as np\n",
    "import json\n",
    "from tqdm import tqdm\n",
    "import statsmodels.api as smf\n",
    "import plotly.express as px\n",
    "import plotly.graph_objects as go\n",
    "from IPython.display import display_html"
   ]
  },
  {
   "cell_type": "markdown",
   "id": "7b84b14f",
   "metadata": {},
   "source": [
    "### Load the data and preprocess it\n",
    "\n",
    "abreviation dictionnary:  \n",
    "    cc = climate change  \n",
    "    vids = videos  \n",
    "    ch = channels  "
   ]
  },
  {
   "cell_type": "code",
   "execution_count": 2,
   "id": "2cd20866",
   "metadata": {},
   "outputs": [],
   "source": [
    "cc_vids_df = pd.read_json(\"data/climate_videos_v3.jsonl\", lines=True)\n",
    "cc_vids_df.dropna(inplace=True, subset='view_count')\n",
    "cc_vids_df.sort_values(by='view_count', inplace=True, ascending=False)\n",
    "cc_vids_df.rename(columns={'channel_id': 'channel'}, inplace=True)\n",
    "cc_vids_df.drop(columns=['crawl_date', 'duration'], inplace=True)"
   ]
  },
  {
   "cell_type": "code",
   "execution_count": 3,
   "id": "53024217",
   "metadata": {},
   "outputs": [
    {
     "data": {
      "text/html": [
       "<div>\n",
       "<style scoped>\n",
       "    .dataframe tbody tr th:only-of-type {\n",
       "        vertical-align: middle;\n",
       "    }\n",
       "\n",
       "    .dataframe tbody tr th {\n",
       "        vertical-align: top;\n",
       "    }\n",
       "\n",
       "    .dataframe thead th {\n",
       "        text-align: right;\n",
       "    }\n",
       "</style>\n",
       "<table border=\"1\" class=\"dataframe\">\n",
       "  <thead>\n",
       "    <tr style=\"text-align: right;\">\n",
       "      <th></th>\n",
       "      <th>category</th>\n",
       "      <th>name</th>\n",
       "      <th>subs</th>\n",
       "      <th>vids_count</th>\n",
       "    </tr>\n",
       "    <tr>\n",
       "      <th>channel</th>\n",
       "      <th></th>\n",
       "      <th></th>\n",
       "      <th></th>\n",
       "      <th></th>\n",
       "    </tr>\n",
       "  </thead>\n",
       "  <tbody>\n",
       "    <tr>\n",
       "      <th>UC-lHJZR3Gqxm24_Vd_AJ5Yw</th>\n",
       "      <td>Gaming</td>\n",
       "      <td>PewDiePie</td>\n",
       "      <td>101000000</td>\n",
       "      <td>3956</td>\n",
       "    </tr>\n",
       "    <tr>\n",
       "      <th>UCbCmjCuTUZos6Inko4u57UQ</th>\n",
       "      <td>Education</td>\n",
       "      <td>Cocomelon - Nursery ...</td>\n",
       "      <td>60100000</td>\n",
       "      <td>458</td>\n",
       "    </tr>\n",
       "    <tr>\n",
       "      <th>UCpEhnqL0y41EpW2TvWAHD7Q</th>\n",
       "      <td>Entertainment</td>\n",
       "      <td>SET India</td>\n",
       "      <td>56018869</td>\n",
       "      <td>32661</td>\n",
       "    </tr>\n",
       "  </tbody>\n",
       "</table>\n",
       "</div>"
      ],
      "text/plain": [
       "                               category                     name       subs  \\\n",
       "channel                                                                       \n",
       "UC-lHJZR3Gqxm24_Vd_AJ5Yw         Gaming                PewDiePie  101000000   \n",
       "UCbCmjCuTUZos6Inko4u57UQ      Education  Cocomelon - Nursery ...   60100000   \n",
       "UCpEhnqL0y41EpW2TvWAHD7Q  Entertainment                SET India   56018869   \n",
       "\n",
       "                          vids_count  \n",
       "channel                               \n",
       "UC-lHJZR3Gqxm24_Vd_AJ5Yw        3956  \n",
       "UCbCmjCuTUZos6Inko4u57UQ         458  \n",
       "UCpEhnqL0y41EpW2TvWAHD7Q       32661  "
      ]
     },
     "execution_count": 3,
     "metadata": {},
     "output_type": "execute_result"
    }
   ],
   "source": [
    "ch_df = pd.read_csv('data/df_channels_en.tsv', delimiter='\\t')\n",
    "ch_df.rename(columns={'category_cc': 'category', 'name_cc': 'name', 'subscribers_cc': 'subs', 'videos_cc': 'vids_count'}, inplace=True)\n",
    "ch_df.drop(columns=['subscriber_rank_sb', 'weights', 'join_date'], inplace=True)\n",
    "ch_df.set_index('channel', inplace=True)\n",
    "ch_df.head(3)"
   ]
  },
  {
   "cell_type": "code",
   "execution_count": 4,
   "id": "0488304e",
   "metadata": {},
   "outputs": [
    {
     "data": {
      "text/html": [
       "<div>\n",
       "<style scoped>\n",
       "    .dataframe tbody tr th:only-of-type {\n",
       "        vertical-align: middle;\n",
       "    }\n",
       "\n",
       "    .dataframe tbody tr th {\n",
       "        vertical-align: top;\n",
       "    }\n",
       "\n",
       "    .dataframe thead th {\n",
       "        text-align: right;\n",
       "    }\n",
       "</style>\n",
       "<table border=\"1\" class=\"dataframe\">\n",
       "  <thead>\n",
       "    <tr style=\"text-align: right;\">\n",
       "      <th></th>\n",
       "      <th>categories</th>\n",
       "      <th>channel</th>\n",
       "      <th>description</th>\n",
       "      <th>dislike_count</th>\n",
       "      <th>like_count</th>\n",
       "      <th>tags</th>\n",
       "      <th>title</th>\n",
       "      <th>upload_date</th>\n",
       "      <th>view_count</th>\n",
       "      <th>classification_categories</th>\n",
       "      <th>name</th>\n",
       "      <th>subs</th>\n",
       "    </tr>\n",
       "    <tr>\n",
       "      <th>display_id</th>\n",
       "      <th></th>\n",
       "      <th></th>\n",
       "      <th></th>\n",
       "      <th></th>\n",
       "      <th></th>\n",
       "      <th></th>\n",
       "      <th></th>\n",
       "      <th></th>\n",
       "      <th></th>\n",
       "      <th></th>\n",
       "      <th></th>\n",
       "      <th></th>\n",
       "    </tr>\n",
       "  </thead>\n",
       "  <tbody>\n",
       "    <tr>\n",
       "      <th>cFAylV8Wkwk</th>\n",
       "      <td>Science &amp; Technology</td>\n",
       "      <td>UC3O8-tKnz9VUn3sxZKyKN3w</td>\n",
       "      <td>India is amongst the top 5 countries in e-wast...</td>\n",
       "      <td>435.0</td>\n",
       "      <td>2302.0</td>\n",
       "      <td>save environment,clean india,e waste,samsung v...</td>\n",
       "      <td>Samsung Care For Clean India Program</td>\n",
       "      <td>2019-07-28 00:00:00</td>\n",
       "      <td>144849603</td>\n",
       "      <td>{'/Computers &amp; Electronics/Consumer Electronic...</td>\n",
       "      <td>SamsungIndia</td>\n",
       "      <td>4010000</td>\n",
       "    </tr>\n",
       "    <tr>\n",
       "      <th>QN7BFBqZ6qo</th>\n",
       "      <td>Entertainment</td>\n",
       "      <td>UCxo37Wc-azMveu1NXiCcAFA</td>\n",
       "      <td>While many of you may have asked who is Suraj ...</td>\n",
       "      <td>73761.0</td>\n",
       "      <td>299040.0</td>\n",
       "      <td>Suraj,Chakravarti,Viral,Funny,Hitachi AC,Funny...</td>\n",
       "      <td>Know the reason for extreme heat this summer! ...</td>\n",
       "      <td>2018-05-29 00:00:00</td>\n",
       "      <td>110302967</td>\n",
       "      <td>{'/Science/Ecology &amp; Environment/Climate Chang...</td>\n",
       "      <td>Hitachi Cooling &amp; He...</td>\n",
       "      <td>249000</td>\n",
       "    </tr>\n",
       "    <tr>\n",
       "      <th>677R2ezfAT8</th>\n",
       "      <td>Nonprofits &amp; Activism</td>\n",
       "      <td>UCTZmwwn0Wd5YsAxw0NZzyJA</td>\n",
       "      <td>Water is the world’s most precious resource. N...</td>\n",
       "      <td>51125.0</td>\n",
       "      <td>112417.0</td>\n",
       "      <td>WWF,WWF-Pakistan,World Water Week,Freshwater,S...</td>\n",
       "      <td>Elephant vs Giraffe Water Fight</td>\n",
       "      <td>2018-08-27 00:00:00</td>\n",
       "      <td>87753613</td>\n",
       "      <td>{'/Pets &amp; Animals/Wildlife': 0.8440645337, '/P...</td>\n",
       "      <td>WWF - Pakistan</td>\n",
       "      <td>170000</td>\n",
       "    </tr>\n",
       "  </tbody>\n",
       "</table>\n",
       "</div>"
      ],
      "text/plain": [
       "                        categories                   channel  \\\n",
       "display_id                                                     \n",
       "cFAylV8Wkwk   Science & Technology  UC3O8-tKnz9VUn3sxZKyKN3w   \n",
       "QN7BFBqZ6qo          Entertainment  UCxo37Wc-azMveu1NXiCcAFA   \n",
       "677R2ezfAT8  Nonprofits & Activism  UCTZmwwn0Wd5YsAxw0NZzyJA   \n",
       "\n",
       "                                                   description  dislike_count  \\\n",
       "display_id                                                                      \n",
       "cFAylV8Wkwk  India is amongst the top 5 countries in e-wast...          435.0   \n",
       "QN7BFBqZ6qo  While many of you may have asked who is Suraj ...        73761.0   \n",
       "677R2ezfAT8  Water is the world’s most precious resource. N...        51125.0   \n",
       "\n",
       "             like_count                                               tags  \\\n",
       "display_id                                                                   \n",
       "cFAylV8Wkwk      2302.0  save environment,clean india,e waste,samsung v...   \n",
       "QN7BFBqZ6qo    299040.0  Suraj,Chakravarti,Viral,Funny,Hitachi AC,Funny...   \n",
       "677R2ezfAT8    112417.0  WWF,WWF-Pakistan,World Water Week,Freshwater,S...   \n",
       "\n",
       "                                                         title  \\\n",
       "display_id                                                       \n",
       "cFAylV8Wkwk               Samsung Care For Clean India Program   \n",
       "QN7BFBqZ6qo  Know the reason for extreme heat this summer! ...   \n",
       "677R2ezfAT8                    Elephant vs Giraffe Water Fight   \n",
       "\n",
       "                     upload_date  view_count  \\\n",
       "display_id                                     \n",
       "cFAylV8Wkwk  2019-07-28 00:00:00   144849603   \n",
       "QN7BFBqZ6qo  2018-05-29 00:00:00   110302967   \n",
       "677R2ezfAT8  2018-08-27 00:00:00    87753613   \n",
       "\n",
       "                                     classification_categories  \\\n",
       "display_id                                                       \n",
       "cFAylV8Wkwk  {'/Computers & Electronics/Consumer Electronic...   \n",
       "QN7BFBqZ6qo  {'/Science/Ecology & Environment/Climate Chang...   \n",
       "677R2ezfAT8  {'/Pets & Animals/Wildlife': 0.8440645337, '/P...   \n",
       "\n",
       "                                name     subs  \n",
       "display_id                                     \n",
       "cFAylV8Wkwk             SamsungIndia  4010000  \n",
       "QN7BFBqZ6qo  Hitachi Cooling & He...   249000  \n",
       "677R2ezfAT8           WWF - Pakistan   170000  "
      ]
     },
     "metadata": {},
     "output_type": "display_data"
    }
   ],
   "source": [
    "cch_vids_df = cc_vids_df.merge(ch_df[['name', 'subs']], on ='channel', how ='left').fillna(0)\n",
    "cch_vids_df.set_index('display_id', inplace=True)\n",
    "display(cch_vids_df.head(3))"
   ]
  },
  {
   "cell_type": "code",
   "execution_count": 5,
   "id": "cbe2af3e",
   "metadata": {},
   "outputs": [
    {
     "data": {
      "text/html": [
       "<div>\n",
       "<style scoped>\n",
       "    .dataframe tbody tr th:only-of-type {\n",
       "        vertical-align: middle;\n",
       "    }\n",
       "\n",
       "    .dataframe tbody tr th {\n",
       "        vertical-align: top;\n",
       "    }\n",
       "\n",
       "    .dataframe thead th {\n",
       "        text-align: right;\n",
       "    }\n",
       "</style>\n",
       "<table border=\"1\" class=\"dataframe\">\n",
       "  <thead>\n",
       "    <tr style=\"text-align: right;\">\n",
       "      <th></th>\n",
       "      <th>channel</th>\n",
       "      <th>category</th>\n",
       "      <th>datetime</th>\n",
       "      <th>views</th>\n",
       "      <th>delta_views</th>\n",
       "      <th>subs</th>\n",
       "      <th>delta_subs</th>\n",
       "      <th>videos</th>\n",
       "      <th>delta_videos</th>\n",
       "      <th>activity</th>\n",
       "    </tr>\n",
       "  </thead>\n",
       "  <tbody>\n",
       "    <tr>\n",
       "      <th>8698774</th>\n",
       "      <td>UC1Ru5ZqoiF1cFwQSuFuv-KA</td>\n",
       "      <td>Gaming</td>\n",
       "      <td>2015-01-05 00:00:00</td>\n",
       "      <td>3111235.0</td>\n",
       "      <td>0.0</td>\n",
       "      <td>16818.0</td>\n",
       "      <td>0.0</td>\n",
       "      <td>0</td>\n",
       "      <td>0</td>\n",
       "      <td>0</td>\n",
       "    </tr>\n",
       "    <tr>\n",
       "      <th>2462377</th>\n",
       "      <td>UCnYwVM9uyLGzTFfAkWqiUdQ</td>\n",
       "      <td>Gaming</td>\n",
       "      <td>2015-01-05 00:00:00</td>\n",
       "      <td>25800145.0</td>\n",
       "      <td>0.0</td>\n",
       "      <td>70829.0</td>\n",
       "      <td>0.0</td>\n",
       "      <td>1420</td>\n",
       "      <td>0</td>\n",
       "      <td>20</td>\n",
       "    </tr>\n",
       "  </tbody>\n",
       "</table>\n",
       "</div>"
      ],
      "text/plain": [
       "                          channel category             datetime       views  \\\n",
       "8698774  UC1Ru5ZqoiF1cFwQSuFuv-KA   Gaming  2015-01-05 00:00:00   3111235.0   \n",
       "2462377  UCnYwVM9uyLGzTFfAkWqiUdQ   Gaming  2015-01-05 00:00:00  25800145.0   \n",
       "\n",
       "         delta_views     subs  delta_subs  videos  delta_videos  activity  \n",
       "8698774          0.0  16818.0         0.0       0             0         0  \n",
       "2462377          0.0  70829.0         0.0    1420             0        20  "
      ]
     },
     "metadata": {},
     "output_type": "display_data"
    }
   ],
   "source": [
    "timeseries_df = pd.read_csv('DATA/df_timeseries_en.tsv', delimiter='\\t')\n",
    "timeseries_df = timeseries_df.sort_values(by='datetime', ascending=True)\n",
    "display(timeseries_df.head(2))"
   ]
  },
  {
   "cell_type": "markdown",
   "id": "ca77b0c4",
   "metadata": {},
   "source": [
    "## Are videos about climate change popular ?\n",
    "\n",
    "- Do climate change videos have more views than others ?"
   ]
  },
  {
   "cell_type": "code",
   "execution_count": 6,
   "id": "9f4e18b384d36b1d",
   "metadata": {
    "ExecuteTime": {
     "end_time": "2023-11-16T22:28:46.991040664Z",
     "start_time": "2023-11-16T22:28:46.599631263Z"
    },
    "collapsed": false
   },
   "outputs": [
    {
     "data": {
      "text/html": [
       "<div>\n",
       "<style scoped>\n",
       "    .dataframe tbody tr th:only-of-type {\n",
       "        vertical-align: middle;\n",
       "    }\n",
       "\n",
       "    .dataframe tbody tr th {\n",
       "        vertical-align: top;\n",
       "    }\n",
       "\n",
       "    .dataframe thead th {\n",
       "        text-align: right;\n",
       "    }\n",
       "</style>\n",
       "<table border=\"1\" class=\"dataframe\">\n",
       "  <thead>\n",
       "    <tr style=\"text-align: right;\">\n",
       "      <th></th>\n",
       "      <th>channel</th>\n",
       "      <th>category</th>\n",
       "      <th>name</th>\n",
       "      <th>subs</th>\n",
       "      <th>vids_count</th>\n",
       "      <th>cc_vids_count</th>\n",
       "      <th>proportion_cc_vids</th>\n",
       "    </tr>\n",
       "  </thead>\n",
       "  <tbody>\n",
       "    <tr>\n",
       "      <th>0</th>\n",
       "      <td>UC-lHJZR3Gqxm24_Vd_AJ5Yw</td>\n",
       "      <td>Gaming</td>\n",
       "      <td>PewDiePie</td>\n",
       "      <td>101000000</td>\n",
       "      <td>3956</td>\n",
       "      <td>0.0</td>\n",
       "      <td>0.0</td>\n",
       "    </tr>\n",
       "    <tr>\n",
       "      <th>1</th>\n",
       "      <td>UCbCmjCuTUZos6Inko4u57UQ</td>\n",
       "      <td>Education</td>\n",
       "      <td>Cocomelon - Nursery ...</td>\n",
       "      <td>60100000</td>\n",
       "      <td>458</td>\n",
       "      <td>0.0</td>\n",
       "      <td>0.0</td>\n",
       "    </tr>\n",
       "    <tr>\n",
       "      <th>2</th>\n",
       "      <td>UCpEhnqL0y41EpW2TvWAHD7Q</td>\n",
       "      <td>Entertainment</td>\n",
       "      <td>SET India</td>\n",
       "      <td>56018869</td>\n",
       "      <td>32661</td>\n",
       "      <td>0.0</td>\n",
       "      <td>0.0</td>\n",
       "    </tr>\n",
       "  </tbody>\n",
       "</table>\n",
       "</div>"
      ],
      "text/plain": [
       "                    channel       category                     name  \\\n",
       "0  UC-lHJZR3Gqxm24_Vd_AJ5Yw         Gaming                PewDiePie   \n",
       "1  UCbCmjCuTUZos6Inko4u57UQ      Education  Cocomelon - Nursery ...   \n",
       "2  UCpEhnqL0y41EpW2TvWAHD7Q  Entertainment                SET India   \n",
       "\n",
       "        subs  vids_count  cc_vids_count  proportion_cc_vids  \n",
       "0  101000000        3956            0.0                 0.0  \n",
       "1   60100000         458            0.0                 0.0  \n",
       "2   56018869       32661            0.0                 0.0  "
      ]
     },
     "metadata": {},
     "output_type": "display_data"
    }
   ],
   "source": [
    "# adds a column that counts the ratio of climate videos to total videos\n",
    "ratios = cch_vids_df['channel'].value_counts().reset_index()\n",
    "ratios.columns = ['channel', 'cc_vids_count']\n",
    "ch_cc_df = ch_df.merge(ratios, on ='channel', how ='left').fillna(0)\n",
    "ch_cc_df['proportion_cc_vids'] = ch_cc_df['cc_vids_count']/ch_cc_df['vids_count']\n",
    "\n",
    "display(ch_cc_df.head(3))"
   ]
  },
  {
   "cell_type": "code",
   "execution_count": 7,
   "id": "57d7e6a6",
   "metadata": {},
   "outputs": [
    {
     "data": {
      "text/html": [
       "<div>\n",
       "<style scoped>\n",
       "    .dataframe tbody tr th:only-of-type {\n",
       "        vertical-align: middle;\n",
       "    }\n",
       "\n",
       "    .dataframe tbody tr th {\n",
       "        vertical-align: top;\n",
       "    }\n",
       "\n",
       "    .dataframe thead th {\n",
       "        text-align: right;\n",
       "    }\n",
       "</style>\n",
       "<table border=\"1\" class=\"dataframe\">\n",
       "  <thead>\n",
       "    <tr style=\"text-align: right;\">\n",
       "      <th></th>\n",
       "      <th>views</th>\n",
       "      <th>videos</th>\n",
       "      <th>cc_views</th>\n",
       "      <th>cc_videos</th>\n",
       "      <th>avg_views_wo_cc</th>\n",
       "      <th>avg_views_w_cc</th>\n",
       "      <th>avg_views</th>\n",
       "    </tr>\n",
       "    <tr>\n",
       "      <th>channel</th>\n",
       "      <th></th>\n",
       "      <th></th>\n",
       "      <th></th>\n",
       "      <th></th>\n",
       "      <th></th>\n",
       "      <th></th>\n",
       "      <th></th>\n",
       "    </tr>\n",
       "  </thead>\n",
       "  <tbody>\n",
       "    <tr>\n",
       "      <th>UC--70ql_IxJmhmqXqrkJrWQ</th>\n",
       "      <td>2.070418e+07</td>\n",
       "      <td>243</td>\n",
       "      <td>7604</td>\n",
       "      <td>1</td>\n",
       "      <td>85523.031877</td>\n",
       "      <td>7604.0</td>\n",
       "      <td>85202.377425</td>\n",
       "    </tr>\n",
       "    <tr>\n",
       "      <th>UC-1rx8j9Ggp8mp4uD0ZdEIA</th>\n",
       "      <td>9.329747e+08</td>\n",
       "      <td>4190</td>\n",
       "      <td>10305</td>\n",
       "      <td>1</td>\n",
       "      <td>222717.680115</td>\n",
       "      <td>10305.0</td>\n",
       "      <td>222666.984964</td>\n",
       "    </tr>\n",
       "  </tbody>\n",
       "</table>\n",
       "</div>"
      ],
      "text/plain": [
       "                                 views  videos  cc_views  cc_videos  \\\n",
       "channel                                                               \n",
       "UC--70ql_IxJmhmqXqrkJrWQ  2.070418e+07     243      7604          1   \n",
       "UC-1rx8j9Ggp8mp4uD0ZdEIA  9.329747e+08    4190     10305          1   \n",
       "\n",
       "                          avg_views_wo_cc  avg_views_w_cc      avg_views  \n",
       "channel                                                                   \n",
       "UC--70ql_IxJmhmqXqrkJrWQ     85523.031877          7604.0   85202.377425  \n",
       "UC-1rx8j9Ggp8mp4uD0ZdEIA    222717.680115         10305.0  222666.984964  "
      ]
     },
     "metadata": {},
     "output_type": "display_data"
    }
   ],
   "source": [
    "# df with the metadata of all channels\n",
    "ch_stats_df = timeseries_df[['channel', 'views', 'videos']].groupby('channel').last()\n",
    "#ch_stats_df.rename(columns={'videos': 'tt_videos'}, inplace=True)\n",
    "\n",
    "# df with the metadata of channels with climate videos\n",
    "ch_cc_stats_df = cch_vids_df[['channel', 'view_count']].groupby('channel').agg(['sum', 'count'])\n",
    "ch_cc_stats_df.columns = ch_cc_stats_df.columns.to_flat_index()\n",
    "ch_cc_stats_df.rename(columns={('view_count', 'sum'): 'cc_views', ('view_count', 'count'): 'cc_videos'}, inplace=True)\n",
    "\n",
    "# df with only climate change channels and their stats on with and without climate videos\n",
    "ch_cc_stats_df = ch_stats_df.merge(ch_cc_stats_df, how='inner', on='channel')\n",
    "ch_cc_stats_df['avg_views_wo_cc'] = (ch_cc_stats_df['views'] - ch_cc_stats_df['cc_views'])/(ch_cc_stats_df['videos'] - ch_cc_stats_df['cc_videos'])\n",
    "ch_cc_stats_df['avg_views_w_cc'] = ch_cc_stats_df['cc_views']/ch_cc_stats_df['cc_videos']\n",
    "ch_cc_stats_df['avg_views'] = ch_cc_stats_df['views']/ch_cc_stats_df['videos']\n",
    "\n",
    "# remove odd values\n",
    "ch_cc_stats_df = ch_cc_stats_df[ch_cc_stats_df['cc_videos']<ch_cc_stats_df['videos']].dropna()\n",
    "ch_cc_stats_df = ch_cc_stats_df[ch_cc_stats_df['avg_views_wo_cc']>0].dropna()\n",
    "\n",
    "display(ch_cc_stats_df.head(2))"
   ]
  },
  {
   "cell_type": "code",
   "execution_count": 8,
   "id": "b809ec2b",
   "metadata": {},
   "outputs": [
    {
     "name": "stdout",
     "output_type": "stream",
     "text": [
      "                            OLS Regression Results                            \n",
      "==============================================================================\n",
      "Dep. Variable:        avg_views_wo_cc   R-squared:                       0.215\n",
      "Model:                            OLS   Adj. R-squared:                  0.215\n",
      "Method:                 Least Squares   F-statistic:                     1570.\n",
      "Date:                Fri, 22 Dec 2023   Prob (F-statistic):          1.40e-303\n",
      "Time:                        17:36:35   Log-Likelihood:                -86089.\n",
      "No. Observations:                5725   AIC:                         1.722e+05\n",
      "Df Residuals:                    5723   BIC:                         1.722e+05\n",
      "Df Model:                           1                                         \n",
      "Covariance Type:            nonrobust                                         \n",
      "==================================================================================\n",
      "                     coef    std err          t      P>|t|      [0.025      0.975]\n",
      "----------------------------------------------------------------------------------\n",
      "Intercept       1.123e+05   1.09e+04     10.320      0.000    9.09e+04    1.34e+05\n",
      "avg_views_w_cc     0.2946      0.007     39.619      0.000       0.280       0.309\n",
      "==============================================================================\n",
      "Omnibus:                    15887.793   Durbin-Watson:                   2.012\n",
      "Prob(Omnibus):                  0.000   Jarque-Bera (JB):       1054462535.988\n",
      "Skew:                          34.870   Prob(JB):                         0.00\n",
      "Kurtosis:                    2104.331   Cond. No.                     1.47e+06\n",
      "==============================================================================\n",
      "\n",
      "Notes:\n",
      "[1] Standard Errors assume that the covariance matrix of the errors is correctly specified.\n",
      "[2] The condition number is large, 1.47e+06. This might indicate that there are\n",
      "strong multicollinearity or other numerical problems.\n"
     ]
    }
   ],
   "source": [
    "model = smf.formula.ols(formula='avg_views_wo_cc ~ avg_views_w_cc', data=ch_cc_stats_df, missing='drop').fit()\n",
    "print(model.summary())"
   ]
  },
  {
   "cell_type": "code",
   "execution_count": 9,
   "id": "a2850719",
   "metadata": {},
   "outputs": [
    {
     "data": {
      "text/html": [
       "<div>\n",
       "<style scoped>\n",
       "    .dataframe tbody tr th:only-of-type {\n",
       "        vertical-align: middle;\n",
       "    }\n",
       "\n",
       "    .dataframe tbody tr th {\n",
       "        vertical-align: top;\n",
       "    }\n",
       "\n",
       "    .dataframe thead th {\n",
       "        text-align: right;\n",
       "    }\n",
       "</style>\n",
       "<table border=\"1\" class=\"dataframe\">\n",
       "  <thead>\n",
       "    <tr style=\"text-align: right;\">\n",
       "      <th></th>\n",
       "      <th>channel</th>\n",
       "      <th>views</th>\n",
       "      <th>videos</th>\n",
       "      <th>cc_views</th>\n",
       "      <th>cc_videos</th>\n",
       "      <th>avg_views_wo_cc</th>\n",
       "      <th>avg_views_w_cc</th>\n",
       "      <th>avg_views</th>\n",
       "      <th>subs</th>\n",
       "      <th>proportion_cc_vids</th>\n",
       "    </tr>\n",
       "    <tr>\n",
       "      <th>name</th>\n",
       "      <th></th>\n",
       "      <th></th>\n",
       "      <th></th>\n",
       "      <th></th>\n",
       "      <th></th>\n",
       "      <th></th>\n",
       "      <th></th>\n",
       "      <th></th>\n",
       "      <th></th>\n",
       "      <th></th>\n",
       "    </tr>\n",
       "  </thead>\n",
       "  <tbody>\n",
       "    <tr>\n",
       "      <th>Rob Greenfield</th>\n",
       "      <td>UCKirXBZV7hE4Fws3VSdYkRQ</td>\n",
       "      <td>5.506280e+06</td>\n",
       "      <td>206</td>\n",
       "      <td>5008132</td>\n",
       "      <td>161</td>\n",
       "      <td>11069.949206</td>\n",
       "      <td>31106.409938</td>\n",
       "      <td>26729.513176</td>\n",
       "      <td>116000</td>\n",
       "      <td>0.763033</td>\n",
       "    </tr>\n",
       "    <tr>\n",
       "      <th>The YEARS Project</th>\n",
       "      <td>UCxJf58pbfCYiDOKxRTJI9cA</td>\n",
       "      <td>3.098489e+06</td>\n",
       "      <td>494</td>\n",
       "      <td>2795338</td>\n",
       "      <td>338</td>\n",
       "      <td>1943.276366</td>\n",
       "      <td>8270.230769</td>\n",
       "      <td>6272.245168</td>\n",
       "      <td>21700</td>\n",
       "      <td>0.686992</td>\n",
       "    </tr>\n",
       "    <tr>\n",
       "      <th>1000frolly PhD</th>\n",
       "      <td>UCAR0Oi4L0Om4F26uwpANgCg</td>\n",
       "      <td>1.034144e+07</td>\n",
       "      <td>167</td>\n",
       "      <td>9356772</td>\n",
       "      <td>106</td>\n",
       "      <td>16142.053864</td>\n",
       "      <td>88271.433962</td>\n",
       "      <td>61924.774166</td>\n",
       "      <td>31300</td>\n",
       "      <td>0.634731</td>\n",
       "    </tr>\n",
       "    <tr>\n",
       "      <th>Climate Reality</th>\n",
       "      <td>UCIJk74xZtFZut1rJVHVVXeA</td>\n",
       "      <td>4.029099e+06</td>\n",
       "      <td>522</td>\n",
       "      <td>3174000</td>\n",
       "      <td>320</td>\n",
       "      <td>4233.162659</td>\n",
       "      <td>9918.750000</td>\n",
       "      <td>7718.580186</td>\n",
       "      <td>15655</td>\n",
       "      <td>0.613027</td>\n",
       "    </tr>\n",
       "    <tr>\n",
       "      <th>Just Have a Think</th>\n",
       "      <td>UCRBwLPbXGsI2cJe9W1zfSjQ</td>\n",
       "      <td>1.362583e+06</td>\n",
       "      <td>75</td>\n",
       "      <td>818670</td>\n",
       "      <td>43</td>\n",
       "      <td>16997.278088</td>\n",
       "      <td>19038.837209</td>\n",
       "      <td>18167.771984</td>\n",
       "      <td>29500</td>\n",
       "      <td>0.581081</td>\n",
       "    </tr>\n",
       "    <tr>\n",
       "      <th>Guy Brown</th>\n",
       "      <td>UCa5FbtOmZvP0Z6wR4n7jL8w</td>\n",
       "      <td>5.032664e+06</td>\n",
       "      <td>624</td>\n",
       "      <td>1694718</td>\n",
       "      <td>353</td>\n",
       "      <td>12317.145493</td>\n",
       "      <td>4800.900850</td>\n",
       "      <td>8065.167353</td>\n",
       "      <td>26200</td>\n",
       "      <td>0.564800</td>\n",
       "    </tr>\n",
       "    <tr>\n",
       "      <th>Our Changing Climate...</th>\n",
       "      <td>UCNXvxXpDJXp-mZu3pFMzYHQ</td>\n",
       "      <td>8.013691e+06</td>\n",
       "      <td>78</td>\n",
       "      <td>3628840</td>\n",
       "      <td>44</td>\n",
       "      <td>128966.198004</td>\n",
       "      <td>82473.636364</td>\n",
       "      <td>102739.624771</td>\n",
       "      <td>171000</td>\n",
       "      <td>0.556962</td>\n",
       "    </tr>\n",
       "    <tr>\n",
       "      <th>Climate State</th>\n",
       "      <td>UCXy9Efp5QoTGGxmpKBujLLQ</td>\n",
       "      <td>7.079024e+06</td>\n",
       "      <td>45</td>\n",
       "      <td>778977</td>\n",
       "      <td>30</td>\n",
       "      <td>420003.103030</td>\n",
       "      <td>25965.900000</td>\n",
       "      <td>157311.634343</td>\n",
       "      <td>28700</td>\n",
       "      <td>0.555556</td>\n",
       "    </tr>\n",
       "    <tr>\n",
       "      <th>Friends of Science</th>\n",
       "      <td>UCSjTdgNgUW7VNfemabYV3Kg</td>\n",
       "      <td>1.643781e+06</td>\n",
       "      <td>308</td>\n",
       "      <td>1289450</td>\n",
       "      <td>170</td>\n",
       "      <td>2567.616977</td>\n",
       "      <td>7585.000000</td>\n",
       "      <td>5336.951763</td>\n",
       "      <td>13800</td>\n",
       "      <td>0.551948</td>\n",
       "    </tr>\n",
       "    <tr>\n",
       "      <th>The Heartland Instit...</th>\n",
       "      <td>UCzp8QlVd_hDLfK1LMLDu3dQ</td>\n",
       "      <td>3.644679e+06</td>\n",
       "      <td>1263</td>\n",
       "      <td>2800832</td>\n",
       "      <td>680</td>\n",
       "      <td>1447.421220</td>\n",
       "      <td>4118.870588</td>\n",
       "      <td>2885.731252</td>\n",
       "      <td>19131</td>\n",
       "      <td>0.539683</td>\n",
       "    </tr>\n",
       "  </tbody>\n",
       "</table>\n",
       "</div>"
      ],
      "text/plain": [
       "                                          channel         views  videos  \\\n",
       "name                                                                      \n",
       "Rob Greenfield           UCKirXBZV7hE4Fws3VSdYkRQ  5.506280e+06     206   \n",
       "The YEARS Project        UCxJf58pbfCYiDOKxRTJI9cA  3.098489e+06     494   \n",
       "1000frolly PhD           UCAR0Oi4L0Om4F26uwpANgCg  1.034144e+07     167   \n",
       "Climate Reality          UCIJk74xZtFZut1rJVHVVXeA  4.029099e+06     522   \n",
       "Just Have a Think        UCRBwLPbXGsI2cJe9W1zfSjQ  1.362583e+06      75   \n",
       "Guy Brown                UCa5FbtOmZvP0Z6wR4n7jL8w  5.032664e+06     624   \n",
       "Our Changing Climate...  UCNXvxXpDJXp-mZu3pFMzYHQ  8.013691e+06      78   \n",
       "Climate State            UCXy9Efp5QoTGGxmpKBujLLQ  7.079024e+06      45   \n",
       "Friends of Science       UCSjTdgNgUW7VNfemabYV3Kg  1.643781e+06     308   \n",
       "The Heartland Instit...  UCzp8QlVd_hDLfK1LMLDu3dQ  3.644679e+06    1263   \n",
       "\n",
       "                         cc_views  cc_videos  avg_views_wo_cc  avg_views_w_cc  \\\n",
       "name                                                                            \n",
       "Rob Greenfield            5008132        161     11069.949206    31106.409938   \n",
       "The YEARS Project         2795338        338      1943.276366     8270.230769   \n",
       "1000frolly PhD            9356772        106     16142.053864    88271.433962   \n",
       "Climate Reality           3174000        320      4233.162659     9918.750000   \n",
       "Just Have a Think          818670         43     16997.278088    19038.837209   \n",
       "Guy Brown                 1694718        353     12317.145493     4800.900850   \n",
       "Our Changing Climate...   3628840         44    128966.198004    82473.636364   \n",
       "Climate State              778977         30    420003.103030    25965.900000   \n",
       "Friends of Science        1289450        170      2567.616977     7585.000000   \n",
       "The Heartland Instit...   2800832        680      1447.421220     4118.870588   \n",
       "\n",
       "                             avg_views    subs  proportion_cc_vids  \n",
       "name                                                                \n",
       "Rob Greenfield            26729.513176  116000            0.763033  \n",
       "The YEARS Project          6272.245168   21700            0.686992  \n",
       "1000frolly PhD            61924.774166   31300            0.634731  \n",
       "Climate Reality            7718.580186   15655            0.613027  \n",
       "Just Have a Think         18167.771984   29500            0.581081  \n",
       "Guy Brown                  8065.167353   26200            0.564800  \n",
       "Our Changing Climate...  102739.624771  171000            0.556962  \n",
       "Climate State            157311.634343   28700            0.555556  \n",
       "Friends of Science         5336.951763   13800            0.551948  \n",
       "The Heartland Instit...    2885.731252   19131            0.539683  "
      ]
     },
     "metadata": {},
     "output_type": "display_data"
    }
   ],
   "source": [
    "ch_cc_df = ch_cc_stats_df.merge(ch_cc_df[['channel', 'name', 'subs', 'proportion_cc_vids']], on ='channel', how ='inner').fillna(0)\n",
    "ch_cc_df.set_index('name', inplace=True)\n",
    "\n",
    "# df with channels that have more than 50% of their videos on climate change\n",
    "ch_50cc_df = ch_cc_df[ch_cc_df['proportion_cc_vids']>=0.5].sort_values(by='proportion_cc_vids', ascending=False)\n",
    "display(ch_50cc_df)"
   ]
  },
  {
   "cell_type": "code",
   "execution_count": 10,
   "id": "c7d00f1a",
   "metadata": {},
   "outputs": [],
   "source": [
    "colors = ['darkgrey', 'forestgreen']\n",
    "colors_ch = ['#238823', '#299A29', '#2FA12F', '#36A936', '#3CAF3C', '#43B643', '#49BD49', '#50C450', '#56CA56', '#5DD15D']"
   ]
  },
  {
   "cell_type": "code",
   "execution_count": 11,
   "id": "94e5e910",
   "metadata": {},
   "outputs": [
    {
     "data": {
      "image/png": "[encoded data removed]",
      "text/plain": [
       "<Figure size 2000x500 with 1 Axes>"
      ]
     },
     "metadata": {},
     "output_type": "display_data"
    }
   ],
   "source": [
    "fig, ax = plt.subplots(figsize = (20, 5))\n",
    "\n",
    "ch_50cc_df[['avg_views_wo_cc', 'avg_views_w_cc']].plot(kind='bar', grid=True, ax=ax, color=[colors[0], colors[1]])\n",
    "\n",
    "ax.set_yscale(\"log\")\n",
    "plt.title('Average number of views for channels with more than 50% of their videos about climate change')\n",
    "plt.legend(['for videos not about climate change', 'for videos about climate change'], loc='upper right')\n",
    "plt.ylabel('Average number of views')\n",
    "plt.xlabel('Channel name')\n",
    "plt.show()"
   ]
  },
  {
   "cell_type": "code",
   "execution_count": 12,
   "id": "551bfda0",
   "metadata": {},
   "outputs": [
    {
     "data": {
      "text/plain": [
       "Text(0.5, 0, 'Average number of views for videos about climate change')"
      ]
     },
     "execution_count": 12,
     "metadata": {},
     "output_type": "execute_result"
    },
    {
     "data": {
      "image/png": "[encoded data removed]",
      "text/plain": [
       "<Figure size 2000x600 with 2 Axes>"
      ]
     },
     "metadata": {},
     "output_type": "display_data"
    }
   ],
   "source": [
    "fig, ax = plt.subplots(figsize = (20, 6))\n",
    "\n",
    "ch_cc_df.plot.scatter(x='avg_views_w_cc', y='avg_views_wo_cc', s=ch_cc_df['cc_videos']*0.9, ax=ax, \n",
    "                       c='proportion_cc_vids', colormap='summer_r', alpha=ch_cc_df['proportion_cc_vids'])\n",
    "\n",
    "x = range(0, 10**7, 1000)\n",
    "plt.plot(x, x, color='lightgray')\n",
    "\n",
    "ax.set_xscale(\"log\")\n",
    "ax.set_yscale(\"log\")\n",
    "\n",
    "plt.title('Scatter plot of the average views of a video about climate change vs not & the importance of climate change in the channel')\n",
    "plt.legend(['channel: size depends on the count of climate change videos of the channel', 'x=y'], loc='upper left')\n",
    "plt.ylabel('Average number of views for videos not about climate change')\n",
    "plt.xlabel('Average number of views for videos about climate change')"
   ]
  },
  {
   "cell_type": "code",
   "execution_count": 13,
   "id": "12d10e41",
   "metadata": {},
   "outputs": [
    {
     "data": {
      "image/png": "[encoded data removed]",
      "text/plain": [
       "<Figure size 1500x500 with 3 Axes>"
      ]
     },
     "metadata": {},
     "output_type": "display_data"
    }
   ],
   "source": [
    "ch_cc_df_first = ch_cc_df[ch_cc_df['proportion_cc_vids'] <= 0.5].dropna()\n",
    "ch_cc_df_second = ch_cc_df[ch_cc_df['proportion_cc_vids'] > 0.5].dropna()\n",
    "\n",
    "fig, (pA, pB, pC) = plt.subplots(1, 3, figsize=(15, 5), sharey=True)\n",
    "labels = ['not climate change videos', 'climate change videos']\n",
    "\n",
    "a = pA.boxplot(ch_cc_df[['avg_views_wo_cc', 'avg_views_w_cc']], patch_artist=True, showfliers=False, labels=labels)\n",
    "b = pB.boxplot(ch_cc_df_first[['avg_views_wo_cc', 'avg_views_w_cc']], patch_artist=True, showfliers=False, labels=labels)\n",
    "c = pC.boxplot(ch_cc_df_second[['avg_views_wo_cc', 'avg_views_w_cc']], patch_artist=True, showfliers=False, labels=labels)\n",
    "\n",
    "for x in [a, b, c]:\n",
    "    for patch, color in zip(x['boxes'], colors):\n",
    "        patch.set_facecolor(color)\n",
    "        patch.set_alpha(0.5)\n",
    "\n",
    "pA.set_yscale(\"log\")\n",
    "fig.suptitle('Average number of views for videos about climate change vs not')\n",
    "titles = ['All climate change channels', 'Channels with 0-50% of climate change videos', 'Channels with more than 50% of climate change videos']\n",
    "for(ax, title) in zip([pA, pB, pC], titles):\n",
    "    ax.set_title(title)\n",
    "    ax.grid()\n",
    "pA.set_ylabel('Average number of views per channel')\n",
    "fig.tight_layout()\n",
    "plt.show()"
   ]
  },
  {
   "cell_type": "markdown",
   "id": "077d6e4b",
   "metadata": {},
   "source": [
    "## Are people watch videos about climate change after events related to it ?"
   ]
  },
  {
   "cell_type": "code",
   "execution_count": 31,
   "id": "19280775",
   "metadata": {},
   "outputs": [
    {
     "data": {
      "text/plain": [
       "Index(['name', 'description'], dtype='object')"
      ]
     },
     "metadata": {},
     "output_type": "display_data"
    }
   ],
   "source": [
    "climate_events = pd.read_csv('data/climate_events_v2.csv')\n",
    "climate_events['date'] = pd.to_datetime(climate_events['date'])\n",
    "climate_events.set_index('date', inplace=True)"
   ]
  },
  {
   "cell_type": "code",
   "execution_count": 16,
   "id": "f22253a8",
   "metadata": {},
   "outputs": [
    {
     "data": {
      "text/html": [
       "<div>\n",
       "<style scoped>\n",
       "    .dataframe tbody tr th:only-of-type {\n",
       "        vertical-align: middle;\n",
       "    }\n",
       "\n",
       "    .dataframe tbody tr th {\n",
       "        vertical-align: top;\n",
       "    }\n",
       "\n",
       "    .dataframe thead th {\n",
       "        text-align: right;\n",
       "    }\n",
       "</style>\n",
       "<table border=\"1\" class=\"dataframe\">\n",
       "  <thead>\n",
       "    <tr style=\"text-align: right;\">\n",
       "      <th></th>\n",
       "      <th>channel</th>\n",
       "      <th>category</th>\n",
       "      <th>datetime</th>\n",
       "      <th>views</th>\n",
       "      <th>delta_views</th>\n",
       "      <th>subs</th>\n",
       "      <th>delta_subs</th>\n",
       "      <th>videos</th>\n",
       "      <th>delta_videos</th>\n",
       "      <th>activity</th>\n",
       "      <th>name</th>\n",
       "      <th>proportion_cc_vids</th>\n",
       "    </tr>\n",
       "  </thead>\n",
       "  <tbody>\n",
       "    <tr>\n",
       "      <th>0</th>\n",
       "      <td>UCxJf58pbfCYiDOKxRTJI9cA</td>\n",
       "      <td>News &amp; Politics</td>\n",
       "      <td>2016-03-14 00:00:00</td>\n",
       "      <td>1.790343e+06</td>\n",
       "      <td>2277.750000</td>\n",
       "      <td>12214.250000</td>\n",
       "      <td>0.000000</td>\n",
       "      <td>51</td>\n",
       "      <td>0</td>\n",
       "      <td>0</td>\n",
       "      <td>The YEARS Project</td>\n",
       "      <td>0.686992</td>\n",
       "    </tr>\n",
       "    <tr>\n",
       "      <th>1</th>\n",
       "      <td>UCxJf58pbfCYiDOKxRTJI9cA</td>\n",
       "      <td>News &amp; Politics</td>\n",
       "      <td>2016-03-21 00:00:00</td>\n",
       "      <td>1.792948e+06</td>\n",
       "      <td>2604.875000</td>\n",
       "      <td>12239.125000</td>\n",
       "      <td>24.875000</td>\n",
       "      <td>51</td>\n",
       "      <td>0</td>\n",
       "      <td>0</td>\n",
       "      <td>The YEARS Project</td>\n",
       "      <td>0.686992</td>\n",
       "    </tr>\n",
       "    <tr>\n",
       "      <th>2</th>\n",
       "      <td>UCxJf58pbfCYiDOKxRTJI9cA</td>\n",
       "      <td>News &amp; Politics</td>\n",
       "      <td>2016-03-28 01:00:00</td>\n",
       "      <td>1.795219e+06</td>\n",
       "      <td>2271.437827</td>\n",
       "      <td>12262.062827</td>\n",
       "      <td>22.937827</td>\n",
       "      <td>51</td>\n",
       "      <td>0</td>\n",
       "      <td>0</td>\n",
       "      <td>The YEARS Project</td>\n",
       "      <td>0.686992</td>\n",
       "    </tr>\n",
       "    <tr>\n",
       "      <th>3</th>\n",
       "      <td>UCxJf58pbfCYiDOKxRTJI9cA</td>\n",
       "      <td>News &amp; Politics</td>\n",
       "      <td>2016-04-04 01:00:00</td>\n",
       "      <td>1.797427e+06</td>\n",
       "      <td>2207.775714</td>\n",
       "      <td>12281.604167</td>\n",
       "      <td>19.541339</td>\n",
       "      <td>51</td>\n",
       "      <td>0</td>\n",
       "      <td>0</td>\n",
       "      <td>The YEARS Project</td>\n",
       "      <td>0.686992</td>\n",
       "    </tr>\n",
       "    <tr>\n",
       "      <th>4</th>\n",
       "      <td>UCxJf58pbfCYiDOKxRTJI9cA</td>\n",
       "      <td>News &amp; Politics</td>\n",
       "      <td>2016-04-11 01:00:00</td>\n",
       "      <td>1.799918e+06</td>\n",
       "      <td>2490.869792</td>\n",
       "      <td>12298.338542</td>\n",
       "      <td>16.734375</td>\n",
       "      <td>51</td>\n",
       "      <td>0</td>\n",
       "      <td>0</td>\n",
       "      <td>The YEARS Project</td>\n",
       "      <td>0.686992</td>\n",
       "    </tr>\n",
       "    <tr>\n",
       "      <th>...</th>\n",
       "      <td>...</td>\n",
       "      <td>...</td>\n",
       "      <td>...</td>\n",
       "      <td>...</td>\n",
       "      <td>...</td>\n",
       "      <td>...</td>\n",
       "      <td>...</td>\n",
       "      <td>...</td>\n",
       "      <td>...</td>\n",
       "      <td>...</td>\n",
       "      <td>...</td>\n",
       "      <td>...</td>\n",
       "    </tr>\n",
       "    <tr>\n",
       "      <th>1588</th>\n",
       "      <td>UCRBwLPbXGsI2cJe9W1zfSjQ</td>\n",
       "      <td>People &amp; Blogs</td>\n",
       "      <td>2019-09-02 01:00:00</td>\n",
       "      <td>1.203208e+06</td>\n",
       "      <td>32475.863636</td>\n",
       "      <td>28421.964015</td>\n",
       "      <td>406.318182</td>\n",
       "      <td>71</td>\n",
       "      <td>2</td>\n",
       "      <td>2</td>\n",
       "      <td>Just Have a Think</td>\n",
       "      <td>0.581081</td>\n",
       "    </tr>\n",
       "    <tr>\n",
       "      <th>1589</th>\n",
       "      <td>UCRBwLPbXGsI2cJe9W1zfSjQ</td>\n",
       "      <td>People &amp; Blogs</td>\n",
       "      <td>2019-09-09 01:00:00</td>\n",
       "      <td>1.235684e+06</td>\n",
       "      <td>32475.863636</td>\n",
       "      <td>28828.282197</td>\n",
       "      <td>406.318182</td>\n",
       "      <td>72</td>\n",
       "      <td>1</td>\n",
       "      <td>3</td>\n",
       "      <td>Just Have a Think</td>\n",
       "      <td>0.581081</td>\n",
       "    </tr>\n",
       "    <tr>\n",
       "      <th>1590</th>\n",
       "      <td>UCRBwLPbXGsI2cJe9W1zfSjQ</td>\n",
       "      <td>People &amp; Blogs</td>\n",
       "      <td>2019-09-16 01:00:00</td>\n",
       "      <td>1.267327e+06</td>\n",
       "      <td>31642.974116</td>\n",
       "      <td>29202.083333</td>\n",
       "      <td>373.801136</td>\n",
       "      <td>72</td>\n",
       "      <td>0</td>\n",
       "      <td>1</td>\n",
       "      <td>Just Have a Think</td>\n",
       "      <td>0.581081</td>\n",
       "    </tr>\n",
       "    <tr>\n",
       "      <th>1591</th>\n",
       "      <td>UCRBwLPbXGsI2cJe9W1zfSjQ</td>\n",
       "      <td>People &amp; Blogs</td>\n",
       "      <td>2019-09-23 01:00:00</td>\n",
       "      <td>1.298360e+06</td>\n",
       "      <td>31033.333333</td>\n",
       "      <td>29552.083333</td>\n",
       "      <td>350.000000</td>\n",
       "      <td>74</td>\n",
       "      <td>2</td>\n",
       "      <td>2</td>\n",
       "      <td>Just Have a Think</td>\n",
       "      <td>0.581081</td>\n",
       "    </tr>\n",
       "    <tr>\n",
       "      <th>1592</th>\n",
       "      <td>UCRBwLPbXGsI2cJe9W1zfSjQ</td>\n",
       "      <td>People &amp; Blogs</td>\n",
       "      <td>2019-09-30 01:00:00</td>\n",
       "      <td>1.362583e+06</td>\n",
       "      <td>64222.509921</td>\n",
       "      <td>30290.476190</td>\n",
       "      <td>738.392857</td>\n",
       "      <td>75</td>\n",
       "      <td>1</td>\n",
       "      <td>3</td>\n",
       "      <td>Just Have a Think</td>\n",
       "      <td>0.581081</td>\n",
       "    </tr>\n",
       "  </tbody>\n",
       "</table>\n",
       "<p>1593 rows × 12 columns</p>\n",
       "</div>"
      ],
      "text/plain": [
       "                       channel         category            datetime  \\\n",
       "0     UCxJf58pbfCYiDOKxRTJI9cA  News & Politics 2016-03-14 00:00:00   \n",
       "1     UCxJf58pbfCYiDOKxRTJI9cA  News & Politics 2016-03-21 00:00:00   \n",
       "2     UCxJf58pbfCYiDOKxRTJI9cA  News & Politics 2016-03-28 01:00:00   \n",
       "3     UCxJf58pbfCYiDOKxRTJI9cA  News & Politics 2016-04-04 01:00:00   \n",
       "4     UCxJf58pbfCYiDOKxRTJI9cA  News & Politics 2016-04-11 01:00:00   \n",
       "...                        ...              ...                 ...   \n",
       "1588  UCRBwLPbXGsI2cJe9W1zfSjQ   People & Blogs 2019-09-02 01:00:00   \n",
       "1589  UCRBwLPbXGsI2cJe9W1zfSjQ   People & Blogs 2019-09-09 01:00:00   \n",
       "1590  UCRBwLPbXGsI2cJe9W1zfSjQ   People & Blogs 2019-09-16 01:00:00   \n",
       "1591  UCRBwLPbXGsI2cJe9W1zfSjQ   People & Blogs 2019-09-23 01:00:00   \n",
       "1592  UCRBwLPbXGsI2cJe9W1zfSjQ   People & Blogs 2019-09-30 01:00:00   \n",
       "\n",
       "             views   delta_views          subs  delta_subs  videos  \\\n",
       "0     1.790343e+06   2277.750000  12214.250000    0.000000      51   \n",
       "1     1.792948e+06   2604.875000  12239.125000   24.875000      51   \n",
       "2     1.795219e+06   2271.437827  12262.062827   22.937827      51   \n",
       "3     1.797427e+06   2207.775714  12281.604167   19.541339      51   \n",
       "4     1.799918e+06   2490.869792  12298.338542   16.734375      51   \n",
       "...            ...           ...           ...         ...     ...   \n",
       "1588  1.203208e+06  32475.863636  28421.964015  406.318182      71   \n",
       "1589  1.235684e+06  32475.863636  28828.282197  406.318182      72   \n",
       "1590  1.267327e+06  31642.974116  29202.083333  373.801136      72   \n",
       "1591  1.298360e+06  31033.333333  29552.083333  350.000000      74   \n",
       "1592  1.362583e+06  64222.509921  30290.476190  738.392857      75   \n",
       "\n",
       "      delta_videos  activity               name  proportion_cc_vids  \n",
       "0                0         0  The YEARS Project            0.686992  \n",
       "1                0         0  The YEARS Project            0.686992  \n",
       "2                0         0  The YEARS Project            0.686992  \n",
       "3                0         0  The YEARS Project            0.686992  \n",
       "4                0         0  The YEARS Project            0.686992  \n",
       "...            ...       ...                ...                 ...  \n",
       "1588             2         2  Just Have a Think            0.581081  \n",
       "1589             1         3  Just Have a Think            0.581081  \n",
       "1590             0         1  Just Have a Think            0.581081  \n",
       "1591             2         2  Just Have a Think            0.581081  \n",
       "1592             1         3  Just Have a Think            0.581081  \n",
       "\n",
       "[1593 rows x 12 columns]"
      ]
     },
     "metadata": {},
     "output_type": "display_data"
    }
   ],
   "source": [
    "ch_cc_df_second.reset_index(inplace=True)\n",
    "timeseries_cc_df = timeseries_df.merge(ch_cc_df_second[['name', 'channel', 'proportion_cc_vids']], how='inner', on='channel')\n",
    "timeseries_cc_df['datetime'] = pd.to_datetime(timeseries_cc_df['datetime'])\n",
    "display(timeseries_cc_df)"
   ]
  },
  {
   "cell_type": "code",
   "execution_count": 17,
   "id": "d45c1871",
   "metadata": {},
   "outputs": [
    {
     "data": {
      "image/png": "[encoded data removed]",
      "text/plain": [
       "<Figure size 2000x1000 with 1 Axes>"
      ]
     },
     "metadata": {},
     "output_type": "display_data"
    }
   ],
   "source": [
    "ch_cc_df_second.sort_values(by='proportion_cc_vids', ascending=False, inplace=True)\n",
    "ch_list_second = ch_cc_df_second.channel.unique()\n",
    "ch_list_df_second = [timeseries_cc_df[timeseries_cc_df['channel'] == channel].copy() for channel in ch_list_second]\n",
    "\n",
    "fig = plt.figure(figsize=(20, 10))\n",
    "\n",
    "for ch in ch_list_df_second:\n",
    "    ch['datetime'] = pd.to_datetime(ch['datetime'])\n",
    "    ch.set_index('datetime', inplace=True)\n",
    "    ch['delta_views'].plot(label=ch['name'].iloc[0], legend=True, alpha=ch['proportion_cc_vids'].iloc[0])\n",
    "\n",
    "plt.vlines(climate_events.loc['2016':'2019-10'].index, 0, ymax=1800000, colors='indianred', label=\"Important events\")\n",
    "\n",
    "#plt.yscale(\"log\")\n",
    "plt.xlabel('Date')\n",
    "plt.ylabel('Value')\n",
    "plt.title('Time Series Data within Event Date Range')\n",
    "plt.show()"
   ]
  },
  {
   "cell_type": "code",
   "execution_count": 73,
   "id": "486facee",
   "metadata": {},
   "outputs": [
    {
     "data": {
      "application/vnd.plotly.v1+json": {
       "config": {
        "plotlyServerURL": "https://plot.ly"
       },
       "data": [
        {
         "line": {
          "color": "rgba(68, 1, 84)",
          "width": 2
         },
         "mode": "lines",
         "name": "Rob Greenfield",
         "type": "scatter",
         "x": [
          "2016-06-20T00:00:00",
          "2016-06-27T00:00:00",
          "2016-07-04T00:00:00",
          "2016-07-11T00:00:00",
          "2016-07-18T00:00:00",
          "2016-07-25T00:00:00",
          "2016-08-01T00:00:00",
          "2016-08-08T00:00:00",
          "2016-08-15T00:00:00",
          "2016-08-22T00:00:00",
          "2016-08-29T00:00:00",
          "2016-09-05T00:00:00",
          "2016-09-12T00:00:00",
          "2016-09-19T00:00:00",
          "2016-09-26T00:00:00",
          "2016-10-03T00:00:00",
          "2016-10-10T00:00:00",
          "2016-10-17T00:00:00",
          "2016-10-24T00:00:00",
          "2016-10-30T23:00:00",
          "2016-11-06T23:00:00",
          "2016-11-13T23:00:00",
          "2016-11-20T23:00:00",
          "2016-11-27T23:00:00",
          "2016-12-04T23:00:00",
          "2016-12-11T23:00:00",
          "2016-12-18T23:00:00",
          "2016-12-25T23:00:00",
          "2017-01-01T23:00:00",
          "2017-01-08T23:00:00",
          "2017-01-15T23:00:00",
          "2017-01-22T23:00:00",
          "2017-01-29T23:00:00",
          "2017-02-05T23:00:00",
          "2017-02-12T23:00:00",
          "2017-02-19T23:00:00",
          "2017-02-26T23:00:00",
          "2017-03-05T23:00:00",
          "2017-03-12T23:00:00",
          "2017-03-19T23:00:00",
          "2017-03-27T00:00:00",
          "2017-04-03T00:00:00",
          "2017-04-10T00:00:00",
          "2017-04-17T00:00:00",
          "2017-04-24T00:00:00",
          "2017-05-01T00:00:00",
          "2017-05-08T00:00:00",
          "2017-05-15T00:00:00",
          "2017-05-22T00:00:00",
          "2017-05-29T00:00:00",
          "2017-06-05T00:00:00",
          "2017-06-12T00:00:00",
          "2017-06-19T00:00:00",
          "2017-06-26T00:00:00",
          "2017-07-03T00:00:00",
          "2017-07-10T00:00:00",
          "2017-07-17T00:00:00",
          "2017-07-24T00:00:00",
          "2017-07-31T00:00:00",
          "2017-08-07T00:00:00",
          "2017-08-14T00:00:00",
          "2017-08-21T00:00:00",
          "2017-08-28T00:00:00",
          "2017-09-04T00:00:00",
          "2017-09-11T00:00:00",
          "2017-09-18T00:00:00",
          "2017-09-25T00:00:00",
          "2017-10-02T00:00:00",
          "2017-10-09T00:00:00",
          "2017-10-16T00:00:00",
          "2017-10-23T00:00:00",
          "2017-10-29T23:00:00",
          "2017-11-05T23:00:00",
          "2017-11-12T23:00:00",
          "2017-11-19T23:00:00",
          "2017-11-26T23:00:00",
          "2017-12-03T23:00:00",
          "2017-12-10T23:00:00",
          "2017-12-17T23:00:00",
          "2017-12-24T23:00:00",
          "2017-12-31T23:00:00",
          "2018-01-07T23:00:00",
          "2018-01-14T23:00:00",
          "2018-01-21T23:00:00",
          "2018-01-28T23:00:00",
          "2018-02-04T23:00:00",
          "2018-02-11T23:00:00",
          "2018-02-18T23:00:00",
          "2018-02-25T23:00:00",
          "2018-03-04T23:00:00",
          "2018-03-11T23:00:00",
          "2018-03-18T23:00:00",
          "2018-03-26T00:00:00",
          "2018-04-02T00:00:00",
          "2018-04-09T00:00:00",
          "2018-04-16T00:00:00",
          "2018-04-23T00:00:00",
          "2018-04-30T00:00:00",
          "2018-05-07T00:00:00",
          "2018-05-14T00:00:00",
          "2018-05-21T00:00:00",
          "2018-05-28T00:00:00",
          "2018-06-04T00:00:00",
          "2018-06-11T00:00:00",
          "2018-06-18T00:00:00",
          "2018-06-25T00:00:00",
          "2018-07-02T00:00:00",
          "2018-07-09T00:00:00",
          "2018-07-16T00:00:00",
          "2018-07-23T00:00:00",
          "2018-07-30T00:00:00",
          "2018-08-06T00:00:00",
          "2018-08-13T00:00:00",
          "2018-08-20T00:00:00",
          "2018-08-27T00:00:00",
          "2018-09-03T00:00:00",
          "2018-09-10T00:00:00",
          "2018-09-17T00:00:00",
          "2018-09-24T00:00:00",
          "2018-10-01T00:00:00",
          "2018-10-08T00:00:00",
          "2018-10-15T00:00:00",
          "2018-10-22T00:00:00",
          "2018-10-28T23:00:00",
          "2018-11-04T23:00:00",
          "2018-11-11T23:00:00",
          "2018-11-18T23:00:00",
          "2018-11-25T23:00:00",
          "2018-12-02T23:00:00",
          "2018-12-09T23:00:00",
          "2018-12-16T23:00:00",
          "2018-12-23T23:00:00",
          "2018-12-30T23:00:00",
          "2019-01-06T23:00:00",
          "2019-01-13T23:00:00",
          "2019-01-20T23:00:00",
          "2019-01-27T23:00:00",
          "2019-02-03T23:00:00",
          "2019-02-10T23:00:00",
          "2019-02-17T23:00:00",
          "2019-02-24T23:00:00",
          "2019-03-03T23:00:00",
          "2019-03-10T23:00:00",
          "2019-03-17T23:00:00",
          "2019-03-24T23:00:00",
          "2019-04-01T00:00:00",
          "2019-04-08T00:00:00",
          "2019-04-15T00:00:00",
          "2019-04-22T00:00:00",
          "2019-04-29T00:00:00",
          "2019-05-06T00:00:00",
          "2019-05-13T00:00:00",
          "2019-05-20T00:00:00",
          "2019-05-27T00:00:00",
          "2019-06-03T00:00:00",
          "2019-06-10T00:00:00",
          "2019-06-17T00:00:00",
          "2019-06-24T00:00:00",
          "2019-07-01T00:00:00",
          "2019-07-08T00:00:00",
          "2019-07-15T00:00:00",
          "2019-07-22T00:00:00",
          "2019-07-29T00:00:00",
          "2019-08-05T00:00:00",
          "2019-08-12T00:00:00",
          "2019-08-19T00:00:00",
          "2019-08-26T00:00:00",
          "2019-09-02T00:00:00",
          "2019-09-09T00:00:00",
          "2019-09-16T00:00:00",
          "2019-09-23T00:00:00"
         ],
         "y": [
          8334.75,
          8437.625,
          10980.125,
          14653.25,
          16562.5,
          16421.875,
          14546.875,
          13218.625,
          14642.125,
          15198.75,
          15403,
          13363.375,
          10295.625,
          9432.5,
          8330,
          19512.5,
          19907.75,
          16317.375,
          13152.375,
          10857.917098445583,
          10268.45269322116,
          12101.682291666511,
          11205.25,
          10351.81041666679,
          10013.804166666698,
          9758,
          9857.166666666511,
          9898,
          7881.475000000093,
          9620.665624999909,
          24178.291666666744,
          23849.661458333256,
          0,
          13535.375,
          10303.229166666511,
          11759.307291666742,
          13960.916666666742,
          11711.848958333258,
          11331.109375,
          13870.026041666742,
          13728.6908777894,
          15146.008368200855,
          15989.305962343004,
          15131.125,
          13974.375,
          12413.625,
          10118.111111111008,
          10637.555555555737,
          13831.208333333258,
          15596.375,
          10119.550000000048,
          10498.59999999986,
          9180.850000000091,
          8677.194444444496,
          9272.305555555504,
          10357.916666666744,
          8208.666666666511,
          9106.916666666744,
          9247.931818181882,
          9162.401515151374,
          8670.083333333489,
          9633.433333333349,
          10917.899999999909,
          9462.600000000091,
          9462.59999999986,
          9345.300000000048,
          9106.375,
          11722.125,
          13358.25,
          13149.75,
          13608.077720207162,
          11655.544041450836,
          11722.846988342004,
          14776.151041666742,
          12087.578125,
          11422.286458333258,
          20466.15625,
          27012.942708333256,
          13287.53125,
          9766.75,
          9410.135416666744,
          10865.557291666744,
          11442.046875,
          12269.682291666511,
          12008.822916666742,
          11096.671875,
          11557.208333333258,
          11635.75,
          10980.796875,
          10681.9375,
          10550.421875,
          10179.557291666744,
          10264.855775523463,
          10378.941099476537,
          9515.375,
          9692.375,
          10122.875,
          10569.875,
          10676.25,
          10422,
          9883.125,
          9129.125,
          8488.625,
          9183.125,
          9251.375,
          8732.375,
          8619,
          8207.25,
          7876.5,
          7745.75,
          7651,
          8443.75,
          8098.125,
          8494.875,
          8476,
          7671.5,
          9122.75,
          10784.25,
          8164.375,
          8105.125,
          7507.818181818351,
          10453.681818181649,
          27294.140552995254,
          59575.74193548411,
          14212.83417818742,
          34751.7416666667,
          38211.130208333016,
          19393.71875,
          14555.473958333489,
          11586.75,
          15788.713541666511,
          18223.276041666973,
          24011.276041666508,
          24627.291087963156,
          25085.634259258863,
          29418.666666666977,
          24934.600694444496,
          31331.578125,
          47589.390625,
          53821.35294117639,
          129481.53247549012,
          324266.25,
          236959.27083333352,
          147579.3385416665,
          185996.52083333352,
          327761.49070135225,
          103686.78534031428,
          82046.22222222202,
          69782.88888888898,
          71513.43434343487,
          80361.27272727247,
          63779.41258741264,
          61015.769230769016,
          28225.400000000373,
          40737.327272727154,
          50121.27272727247,
          71691.84615384601,
          72784.69930069987,
          79341.81818181742,
          49965.8863636367,
          27933.9375,
          25797.479166666977,
          20456.333333333027,
          26637.76923076901,
          31273.84615384601,
          32207.657342657447,
          41930.6558441557,
          98027.5,
          87005.9560439568,
          20876.692307692017,
          19501.63736263756
         ]
        },
        {
         "line": {
          "color": "rgba(71, 39, 119)",
          "width": 2
         },
         "mode": "lines",
         "name": "The YEARS Project",
         "type": "scatter",
         "x": [
          "2016-03-14T00:00:00",
          "2016-03-21T00:00:00",
          "2016-03-28T01:00:00",
          "2016-04-04T01:00:00",
          "2016-04-11T01:00:00",
          "2016-04-18T01:00:00",
          "2016-04-25T01:00:00",
          "2016-05-02T01:00:00",
          "2016-05-09T01:00:00",
          "2016-05-16T01:00:00",
          "2016-05-23T01:00:00",
          "2016-05-30T01:00:00",
          "2016-06-06T01:00:00",
          "2016-06-13T01:00:00",
          "2016-06-20T01:00:00",
          "2016-06-27T01:00:00",
          "2016-07-04T01:00:00",
          "2016-07-11T01:00:00",
          "2016-07-18T01:00:00",
          "2016-07-25T01:00:00",
          "2016-08-01T01:00:00",
          "2016-08-08T01:00:00",
          "2016-08-15T01:00:00",
          "2016-08-22T01:00:00",
          "2016-08-29T01:00:00",
          "2016-09-05T01:00:00",
          "2016-09-12T01:00:00",
          "2016-09-19T01:00:00",
          "2016-09-26T01:00:00",
          "2016-10-03T01:00:00",
          "2016-10-10T01:00:00",
          "2016-10-17T01:00:00",
          "2016-10-24T01:00:00",
          "2016-10-31T00:00:00",
          "2016-11-07T00:00:00",
          "2016-11-14T00:00:00",
          "2016-11-21T00:00:00",
          "2016-11-28T00:00:00",
          "2016-12-05T00:00:00",
          "2016-12-12T00:00:00",
          "2016-12-19T00:00:00",
          "2016-12-26T00:00:00",
          "2017-01-02T00:00:00",
          "2017-01-09T00:00:00",
          "2017-01-16T00:00:00",
          "2017-01-23T00:00:00",
          "2017-01-30T00:00:00",
          "2017-02-06T00:00:00",
          "2017-02-13T00:00:00",
          "2017-02-20T00:00:00",
          "2017-02-27T00:00:00",
          "2017-03-06T00:00:00",
          "2017-03-13T00:00:00",
          "2017-03-20T00:00:00",
          "2017-03-27T01:00:00",
          "2017-04-03T01:00:00",
          "2017-04-10T01:00:00",
          "2017-04-17T01:00:00",
          "2017-04-24T01:00:00",
          "2017-05-01T01:00:00",
          "2017-05-08T01:00:00",
          "2017-05-15T01:00:00",
          "2017-05-22T01:00:00",
          "2017-05-29T01:00:00",
          "2017-06-05T01:00:00",
          "2017-06-12T01:00:00",
          "2017-06-19T01:00:00",
          "2017-06-26T01:00:00",
          "2017-07-03T01:00:00",
          "2017-07-10T01:00:00",
          "2017-07-17T01:00:00",
          "2017-07-24T01:00:00",
          "2017-07-31T01:00:00",
          "2017-08-07T01:00:00",
          "2017-08-14T01:00:00",
          "2017-08-21T01:00:00",
          "2017-08-28T01:00:00",
          "2017-09-04T01:00:00",
          "2017-09-11T01:00:00",
          "2017-09-18T01:00:00",
          "2017-09-25T01:00:00",
          "2017-10-02T01:00:00",
          "2017-10-09T01:00:00",
          "2017-10-16T01:00:00",
          "2017-10-23T01:00:00",
          "2017-10-30T00:00:00",
          "2017-11-06T00:00:00",
          "2017-11-13T00:00:00",
          "2017-11-20T00:00:00",
          "2017-11-27T00:00:00",
          "2017-12-04T00:00:00",
          "2017-12-11T00:00:00",
          "2017-12-18T00:00:00",
          "2017-12-25T00:00:00",
          "2018-01-01T00:00:00",
          "2018-01-08T00:00:00",
          "2018-01-15T00:00:00",
          "2018-01-22T00:00:00",
          "2018-01-29T00:00:00",
          "2018-02-05T00:00:00",
          "2018-02-12T00:00:00",
          "2018-02-19T00:00:00",
          "2018-02-26T00:00:00",
          "2018-03-05T00:00:00",
          "2018-03-12T00:00:00",
          "2018-03-19T00:00:00",
          "2018-03-26T01:00:00",
          "2018-04-02T01:00:00",
          "2018-04-09T01:00:00",
          "2018-04-16T01:00:00",
          "2018-04-23T01:00:00",
          "2018-04-30T01:00:00",
          "2018-05-07T01:00:00",
          "2018-05-14T01:00:00",
          "2018-05-21T01:00:00",
          "2018-05-28T01:00:00",
          "2018-06-04T01:00:00",
          "2018-06-11T01:00:00",
          "2018-06-18T01:00:00",
          "2018-06-25T01:00:00",
          "2018-07-02T01:00:00",
          "2018-07-09T01:00:00",
          "2018-07-16T01:00:00",
          "2018-07-23T01:00:00",
          "2018-07-30T01:00:00",
          "2018-08-06T01:00:00",
          "2018-08-13T01:00:00",
          "2018-08-20T01:00:00",
          "2018-08-27T01:00:00",
          "2018-09-03T01:00:00",
          "2018-09-10T01:00:00",
          "2018-09-17T01:00:00",
          "2018-09-24T01:00:00",
          "2018-10-01T01:00:00",
          "2018-10-08T01:00:00",
          "2018-10-15T01:00:00",
          "2018-10-22T01:00:00",
          "2018-10-29T00:00:00",
          "2018-11-05T00:00:00",
          "2018-11-12T00:00:00",
          "2018-11-19T00:00:00",
          "2018-11-26T00:00:00",
          "2018-12-03T00:00:00",
          "2018-12-10T00:00:00",
          "2018-12-17T00:00:00",
          "2018-12-24T00:00:00",
          "2018-12-31T00:00:00",
          "2019-01-07T00:00:00",
          "2019-01-14T00:00:00",
          "2019-01-21T00:00:00",
          "2019-01-28T00:00:00",
          "2019-02-04T00:00:00",
          "2019-02-11T00:00:00",
          "2019-02-18T00:00:00",
          "2019-02-25T00:00:00",
          "2019-03-04T00:00:00",
          "2019-03-11T00:00:00",
          "2019-03-18T00:00:00",
          "2019-03-25T00:00:00",
          "2019-04-01T01:00:00",
          "2019-04-08T01:00:00",
          "2019-04-15T01:00:00",
          "2019-04-22T01:00:00",
          "2019-04-29T01:00:00",
          "2019-05-06T01:00:00",
          "2019-05-13T01:00:00",
          "2019-05-20T01:00:00",
          "2019-05-27T01:00:00",
          "2019-06-03T01:00:00",
          "2019-06-10T01:00:00",
          "2019-06-17T01:00:00",
          "2019-06-24T01:00:00",
          "2019-07-01T01:00:00",
          "2019-07-08T01:00:00",
          "2019-07-15T01:00:00",
          "2019-07-22T01:00:00",
          "2019-07-29T01:00:00",
          "2019-08-05T01:00:00",
          "2019-08-12T01:00:00",
          "2019-08-19T01:00:00",
          "2019-08-26T01:00:00",
          "2019-09-02T01:00:00",
          "2019-09-09T01:00:00",
          "2019-09-16T01:00:00",
          "2019-09-23T01:00:00",
          "2019-09-30T01:00:00"
         ],
         "y": [
          2277.75,
          2604.875,
          2271.437827225076,
          2207.775714441668,
          2490.8697916665114,
          2571.8125,
          2188.03125,
          2276.75,
          2576.567708333489,
          2315.953125,
          1939.6041666665117,
          1787.151620370336,
          1832.817129629664,
          1829.046875,
          1586.375,
          1510.0989583334886,
          1617.109375,
          1415.8229166665114,
          1304.203125,
          1555.53125,
          2186.625,
          3552.125,
          1736,
          2631.677083333489,
          1600.9322916665114,
          1968.8645833334888,
          1964.8125,
          2923.8125,
          6663.723958333256,
          3776.213541666744,
          5774.125,
          7769.385416666511,
          8844.645833333489,
          19621.204528281465,
          27477.01943005179,
          23176.25,
          11812.5,
          11812.5,
          11812.5,
          10291.166666666744,
          6487.833333333256,
          6487.833333333256,
          5858.666666666744,
          6566,
          13739.375,
          11857.125,
          0,
          5789.875,
          5425.875,
          4918.125,
          4737.25,
          5217.75,
          5586,
          5712.5,
          5974.515706806211,
          5222.135334860534,
          4057.375,
          4228.052083333257,
          4986.166666666743,
          6275.994791666744,
          7082.292824073695,
          6841.774884259327,
          4953,
          6351.625,
          5629.645833333489,
          4891.0927083333945,
          4637.606944444589,
          4628.956597222014,
          7683.375,
          6704.876736111009,
          16889.092013888992,
          18220.871875000183,
          10098.837499999909,
          9036.299999999814,
          9662.354166666975,
          0,
          0,
          6790.823529411806,
          6790.823529411806,
          7601.207414215662,
          7329.9924768516785,
          6000.74189814809,
          4828.541666666977,
          4292.75,
          6139.989583333023,
          5087.418177892921,
          5281.290155440569,
          6674.25,
          6069.625,
          5123.125,
          5449.5,
          5100,
          4233.166666666511,
          3558.583333333489,
          4348.75,
          5222.875,
          5723.875,
          5723,
          6178.25,
          6307.399999999907,
          5990.600000000093,
          5293.399999999907,
          5915.266666666606,
          8185.888888888991,
          12696.444444444496,
          8123.919246298727,
          8123.919246298727,
          8123.919246298727,
          8123.919246299192,
          6253.193848137744,
          4923.2750000003725,
          5148.5,
          4886.004166666417,
          4547.822222222108,
          5119.333333333489,
          5371.416666666511,
          5511.578703703824,
          5419.164983164985,
          4576.090909090824,
          5208.591329966672,
          5674.05092592584,
          5693.7342592589575,
          7968.800000000279,
          9300.428125000091,
          12863.963541666511,
          16208.953125,
          12193.125,
          9320.060763888992,
          8864.333333333023,
          8864.333333333489,
          8878.694444444496,
          11277,
          11277,
          8674.552083333489,
          10548.686011904383,
          11437,
          9303.834821428638,
          8503.769825269,
          8551.921146953478,
          8620.111111111008,
          92898.75,
          26354.25,
          12048.5,
          10418,
          9015.166666666511,
          7416.708333333489,
          6981.625,
          7731.5,
          7990.5,
          7964,
          7896.375,
          8121.317307692487,
          8734.923076923005,
          8052.584615384693,
          7142.799999999815,
          7582.555555555504,
          12220.194444444496,
          14909.75,
          13176.875,
          9754.357984293252,
          9076.19930737326,
          9167.625400641002,
          9501.692307692489,
          9543.247685185168,
          9780.944444444496,
          9780.944444444496,
          9826.076388888992,
          10549.103703703731,
          12224.799999999814,
          11995.518749999814,
          11959.15000000037,
          11936.555853174534,
          8163.333333333023,
          8163.333333333489,
          8159.586361737456,
          7533.842105263378,
          7533.842105263378,
          7871.711074561346,
          8692.25,
          10820.973379629664,
          15597.061342592351,
          23412.083333333485,
          16983.475694444496,
          12281.308333333116,
          12833.80000000028,
          21522.92142857099
         ]
        },
        {
         "line": {
          "color": "rgba(62, 73, 137)",
          "width": 2
         },
         "mode": "lines",
         "name": "1000frolly PhD",
         "type": "scatter",
         "x": [
          "2016-04-25T00:00:00",
          "2016-05-02T00:00:00",
          "2016-05-09T00:00:00",
          "2016-05-16T00:00:00",
          "2016-05-23T00:00:00",
          "2016-05-30T00:00:00",
          "2016-06-06T00:00:00",
          "2016-06-13T00:00:00",
          "2016-06-20T00:00:00",
          "2016-06-27T00:00:00",
          "2016-07-04T00:00:00",
          "2016-07-11T00:00:00",
          "2016-07-18T00:00:00",
          "2016-07-25T00:00:00",
          "2016-08-01T00:00:00",
          "2016-08-08T00:00:00",
          "2016-08-15T00:00:00",
          "2016-08-22T00:00:00",
          "2016-08-29T00:00:00",
          "2016-09-05T00:00:00",
          "2016-09-12T00:00:00",
          "2016-09-19T00:00:00",
          "2016-09-26T00:00:00",
          "2016-10-03T00:00:00",
          "2016-10-10T00:00:00",
          "2016-10-17T00:00:00",
          "2016-10-24T00:00:00",
          "2016-10-30T23:00:00",
          "2016-11-06T23:00:00",
          "2016-11-13T23:00:00",
          "2016-11-20T23:00:00",
          "2016-11-27T23:00:00",
          "2016-12-04T23:00:00",
          "2016-12-11T23:00:00",
          "2016-12-18T23:00:00",
          "2016-12-25T23:00:00",
          "2017-01-01T23:00:00",
          "2017-01-08T23:00:00",
          "2017-01-15T23:00:00",
          "2017-01-22T23:00:00",
          "2017-01-29T23:00:00",
          "2017-02-05T23:00:00",
          "2017-02-12T23:00:00",
          "2017-02-19T23:00:00",
          "2017-02-26T23:00:00",
          "2017-03-05T23:00:00",
          "2017-03-12T23:00:00",
          "2017-03-19T23:00:00",
          "2017-03-27T00:00:00",
          "2017-04-03T00:00:00",
          "2017-04-10T00:00:00",
          "2017-04-17T00:00:00",
          "2017-04-24T00:00:00",
          "2017-05-01T00:00:00",
          "2017-05-08T00:00:00",
          "2017-05-15T00:00:00",
          "2017-05-22T00:00:00",
          "2017-05-29T00:00:00",
          "2017-06-05T00:00:00",
          "2017-06-12T00:00:00",
          "2017-06-19T00:00:00",
          "2017-06-26T00:00:00",
          "2017-07-03T00:00:00",
          "2017-07-10T00:00:00",
          "2017-07-17T00:00:00",
          "2017-07-24T00:00:00",
          "2017-07-31T00:00:00",
          "2017-08-07T00:00:00",
          "2017-08-14T00:00:00",
          "2017-08-21T00:00:00",
          "2017-08-28T00:00:00",
          "2017-09-04T00:00:00",
          "2017-09-11T00:00:00",
          "2017-09-18T00:00:00",
          "2017-09-25T00:00:00",
          "2017-10-02T00:00:00",
          "2017-10-09T00:00:00",
          "2017-10-16T00:00:00",
          "2017-10-23T00:00:00",
          "2017-10-29T23:00:00",
          "2017-11-05T23:00:00",
          "2017-11-12T23:00:00",
          "2017-11-19T23:00:00",
          "2017-11-26T23:00:00",
          "2017-12-03T23:00:00",
          "2017-12-10T23:00:00",
          "2017-12-17T23:00:00",
          "2017-12-24T23:00:00",
          "2017-12-31T23:00:00",
          "2018-01-07T23:00:00",
          "2018-01-14T23:00:00",
          "2018-01-21T23:00:00",
          "2018-01-28T23:00:00",
          "2018-02-04T23:00:00",
          "2018-02-11T23:00:00",
          "2018-02-18T23:00:00",
          "2018-02-25T23:00:00",
          "2018-03-04T23:00:00",
          "2018-03-11T23:00:00",
          "2018-03-18T23:00:00",
          "2018-03-26T00:00:00",
          "2018-04-02T00:00:00",
          "2018-04-09T00:00:00",
          "2018-04-16T00:00:00",
          "2018-04-23T00:00:00",
          "2018-04-30T00:00:00",
          "2018-05-07T00:00:00",
          "2018-05-14T00:00:00",
          "2018-05-21T00:00:00",
          "2018-05-28T00:00:00",
          "2018-06-04T00:00:00",
          "2018-06-11T00:00:00",
          "2018-06-18T00:00:00",
          "2018-06-25T00:00:00",
          "2018-07-02T00:00:00",
          "2018-07-09T00:00:00",
          "2018-07-16T00:00:00",
          "2018-07-23T00:00:00",
          "2018-07-30T00:00:00",
          "2018-08-06T00:00:00",
          "2018-08-13T00:00:00",
          "2018-08-20T00:00:00",
          "2018-08-27T00:00:00",
          "2018-09-03T00:00:00",
          "2018-09-10T00:00:00",
          "2018-09-17T00:00:00",
          "2018-09-24T00:00:00",
          "2018-10-01T00:00:00",
          "2018-10-08T00:00:00",
          "2018-10-15T00:00:00",
          "2018-10-22T00:00:00",
          "2018-10-28T23:00:00",
          "2018-11-04T23:00:00",
          "2018-11-11T23:00:00",
          "2018-11-18T23:00:00",
          "2018-11-25T23:00:00",
          "2018-12-02T23:00:00",
          "2018-12-09T23:00:00",
          "2018-12-16T23:00:00",
          "2018-12-23T23:00:00",
          "2018-12-30T23:00:00",
          "2019-01-06T23:00:00",
          "2019-01-13T23:00:00",
          "2019-01-20T23:00:00",
          "2019-01-27T23:00:00",
          "2019-02-03T23:00:00",
          "2019-02-10T23:00:00",
          "2019-02-17T23:00:00",
          "2019-02-24T23:00:00",
          "2019-03-03T23:00:00",
          "2019-03-10T23:00:00",
          "2019-03-17T23:00:00",
          "2019-03-24T23:00:00",
          "2019-04-01T00:00:00",
          "2019-04-08T00:00:00",
          "2019-04-15T00:00:00",
          "2019-04-22T00:00:00",
          "2019-04-29T00:00:00",
          "2019-05-06T00:00:00",
          "2019-05-13T00:00:00",
          "2019-05-20T00:00:00",
          "2019-05-27T00:00:00",
          "2019-06-03T00:00:00",
          "2019-06-10T00:00:00",
          "2019-06-17T00:00:00",
          "2019-06-24T00:00:00",
          "2019-07-01T00:00:00",
          "2019-07-08T00:00:00",
          "2019-07-15T00:00:00",
          "2019-07-22T00:00:00",
          "2019-07-29T00:00:00",
          "2019-08-05T00:00:00",
          "2019-08-12T00:00:00",
          "2019-08-19T00:00:00",
          "2019-08-26T00:00:00",
          "2019-09-02T00:00:00",
          "2019-09-09T00:00:00",
          "2019-09-16T00:00:00",
          "2019-09-23T00:00:00",
          "2019-09-30T00:00:00"
         ],
         "y": [
          32758.125,
          46147.875,
          39891,
          30200.25,
          24932.5,
          9252.25,
          68524.75,
          44674.75,
          33725.375,
          17014.125,
          23428.125,
          38786.625,
          21123.5,
          21869.75,
          21630,
          21585,
          23316.25,
          24197.25,
          19425.375,
          21083.125,
          38982.75,
          23294.25,
          22723.75,
          23288.5,
          29097.625,
          28357.625,
          28525.25,
          30737.369170984253,
          29534.880829015747,
          38304,
          44423.39027777781,
          44460.03333333322,
          44460.03333333322,
          44460.03333333368,
          63668.3751068376,
          71577.69230769202,
          162410.1923076925,
          166919.1927083335,
          247964.82291666648,
          170651.65625,
          0,
          76649.22222222202,
          62452.66550925933,
          77556.09895833302,
          75176.39583333394,
          64723.59895833303,
          58730.31770833303,
          53139.62797229551,
          47314.42931937146,
          28331.333333333023,
          43565.29166666698,
          0,
          0,
          1791907.875,
          52392.375,
          224330.5555555555,
          136546.9444444445,
          70400.38888888898,
          111749.111111111,
          273308,
          216567.33333333305,
          153681.66666666698,
          63645.5,
          0,
          28743.55555555597,
          45209.222222222015,
          44514.6363636367,
          45010.03030303028,
          56235.666666666046,
          28031.06666666735,
          31621.599999999627,
          40690.5,
          28773.5,
          29465.125,
          33614.875,
          36383.375,
          24471.125,
          20899.5,
          24119.5,
          26444.9041450778,
          24161.46564658917,
          22049.5,
          33558.875,
          27159.817708333023,
          22815.859375,
          27079.098958333023,
          30142.989583333954,
          26731.973958333023,
          40524.19155092631,
          90727.77777777702,
          97202.89351851869,
          72634.49131944496,
          59515.06770833303,
          49857.78958333377,
          39799.89999999944,
          29854.354166666977,
          28782.96203703713,
          25062.3087962959,
          17485.299999999814,
          26433.53654371574,
          27997.913561847992,
          27997.913561847992,
          27997.913561847992,
          27500.50193740707,
          28126.66153846216,
          29072.076923076063,
          32927.86153846234,
          33543.711111110635,
          19887.777777777985,
          12033.861111111008,
          10914.25,
          10416.444444444029,
          8982.555555555971,
          9667,
          871.6666666669771,
          0,
          9111.200000000186,
          13129.311111111194,
          19253.588888889182,
          25276.29999999981,
          25775.75,
          50028.04999999981,
          54070.100000000566,
          54070.09999999963,
          31652.25,
          31652.25,
          37098.25,
          69774.25,
          66385.20000000019,
          79497.46666666679,
          89331.66666666606,
          140463.58364779875,
          128903.2965605352,
          71913.08333333302,
          38569.125,
          120019.89583333302,
          133860.25,
          100950.79166666698,
          106864.3396990737,
          117783.1603009263,
          104550.67766203731,
          98656.44444444405,
          99039.1018518526,
          89037.97916666606,
          88896.28125,
          100206.4293981474,
          102611.4444444459,
          115001.35437710394,
          119225.7509469688,
          124485.96875,
          114751.49479166792,
          60032.875,
          43772.98958333209,
          44670.6159740407,
          53257.10798429325,
          41550.625,
          34526.5,
          40232.5,
          41873.222222222015,
          34101.959595959626,
          36508.118181819096,
          69596.09999999963,
          46034.59999999963,
          36610,
          44046.769230769954,
          45286.230769230046,
          21958,
          21958,
          14114.69230769202,
          14775.30769230798,
          18739,
          15218.5,
          10325.25,
          9506.875,
          7585.375,
          9756.25,
          8542.75,
          8829.875,
          16938.625,
          22218.78571428545
         ]
        },
        {
         "line": {
          "color": "rgba(48, 103, 141)",
          "width": 2
         },
         "mode": "lines",
         "name": "Climate Reality",
         "type": "scatter",
         "x": [
          "2016-05-09T00:00:00",
          "2016-05-16T00:00:00",
          "2016-05-23T00:00:00",
          "2016-05-30T00:00:00",
          "2016-06-06T00:00:00",
          "2016-06-13T00:00:00",
          "2016-06-20T00:00:00",
          "2016-06-27T00:00:00",
          "2016-07-04T00:00:00",
          "2016-07-11T00:00:00",
          "2016-07-18T00:00:00",
          "2016-07-25T00:00:00",
          "2016-08-01T00:00:00",
          "2016-08-08T00:00:00",
          "2016-08-15T00:00:00",
          "2016-08-22T00:00:00",
          "2016-08-29T00:00:00",
          "2016-09-05T00:00:00",
          "2016-09-12T00:00:00",
          "2016-09-19T00:00:00",
          "2016-09-26T00:00:00",
          "2016-10-03T00:00:00",
          "2016-10-10T00:00:00",
          "2016-10-17T00:00:00",
          "2016-10-24T00:00:00",
          "2016-10-30T23:00:00",
          "2016-11-06T23:00:00",
          "2016-11-13T23:00:00",
          "2016-11-20T23:00:00",
          "2016-11-27T23:00:00",
          "2016-12-04T23:00:00",
          "2016-12-11T23:00:00",
          "2016-12-18T23:00:00",
          "2016-12-25T23:00:00",
          "2017-01-01T23:00:00",
          "2017-01-08T23:00:00",
          "2017-01-15T23:00:00",
          "2017-01-22T23:00:00",
          "2017-01-29T23:00:00",
          "2017-02-05T23:00:00",
          "2017-02-12T23:00:00",
          "2017-02-19T23:00:00",
          "2017-02-26T23:00:00",
          "2017-03-05T23:00:00",
          "2017-03-12T23:00:00",
          "2017-03-19T23:00:00",
          "2017-03-27T00:00:00",
          "2017-04-03T00:00:00",
          "2017-04-10T00:00:00",
          "2017-04-17T00:00:00",
          "2017-04-24T00:00:00",
          "2017-05-01T00:00:00",
          "2017-05-08T00:00:00",
          "2017-05-15T00:00:00",
          "2017-05-22T00:00:00",
          "2017-05-29T00:00:00",
          "2017-06-05T00:00:00",
          "2017-06-12T00:00:00",
          "2017-06-19T00:00:00",
          "2017-06-26T00:00:00",
          "2017-07-03T00:00:00",
          "2017-07-10T00:00:00",
          "2017-07-17T00:00:00",
          "2017-07-24T00:00:00",
          "2017-07-31T00:00:00",
          "2017-08-07T00:00:00",
          "2017-08-14T00:00:00",
          "2017-08-21T00:00:00",
          "2017-08-28T00:00:00",
          "2017-09-04T00:00:00",
          "2017-09-11T00:00:00",
          "2017-09-18T00:00:00",
          "2017-09-25T00:00:00",
          "2017-10-02T00:00:00",
          "2017-10-09T00:00:00",
          "2017-10-16T00:00:00",
          "2017-10-23T00:00:00",
          "2017-10-29T23:00:00",
          "2017-11-05T23:00:00",
          "2017-11-12T23:00:00",
          "2017-11-19T23:00:00",
          "2017-11-26T23:00:00",
          "2017-12-03T23:00:00",
          "2017-12-10T23:00:00",
          "2017-12-17T23:00:00",
          "2017-12-24T23:00:00",
          "2017-12-31T23:00:00",
          "2018-01-07T23:00:00",
          "2018-01-14T23:00:00",
          "2018-01-21T23:00:00",
          "2018-01-28T23:00:00",
          "2018-02-04T23:00:00",
          "2018-02-11T23:00:00",
          "2018-02-18T23:00:00",
          "2018-02-25T23:00:00",
          "2018-03-04T23:00:00",
          "2018-03-11T23:00:00",
          "2018-03-18T23:00:00",
          "2018-03-26T00:00:00",
          "2018-04-02T00:00:00",
          "2018-04-09T00:00:00",
          "2018-04-16T00:00:00",
          "2018-04-23T00:00:00",
          "2018-04-30T00:00:00",
          "2018-05-07T00:00:00",
          "2018-05-14T00:00:00",
          "2018-05-21T00:00:00",
          "2018-05-28T00:00:00",
          "2018-06-04T00:00:00",
          "2018-06-11T00:00:00",
          "2018-06-18T00:00:00",
          "2018-06-25T00:00:00",
          "2018-07-02T00:00:00",
          "2018-07-09T00:00:00",
          "2018-07-16T00:00:00",
          "2018-07-23T00:00:00",
          "2018-07-30T00:00:00",
          "2018-08-06T00:00:00",
          "2018-08-13T00:00:00",
          "2018-08-20T00:00:00",
          "2018-08-27T00:00:00",
          "2018-09-03T00:00:00",
          "2018-09-10T00:00:00",
          "2018-09-17T00:00:00",
          "2018-09-24T00:00:00",
          "2018-10-01T00:00:00",
          "2018-10-08T00:00:00",
          "2018-10-15T00:00:00",
          "2018-10-22T00:00:00",
          "2018-10-28T23:00:00",
          "2018-11-04T23:00:00",
          "2018-11-11T23:00:00",
          "2018-11-18T23:00:00",
          "2018-11-25T23:00:00",
          "2018-12-02T23:00:00",
          "2018-12-09T23:00:00",
          "2018-12-16T23:00:00",
          "2018-12-23T23:00:00",
          "2018-12-30T23:00:00",
          "2019-01-06T23:00:00",
          "2019-01-13T23:00:00",
          "2019-01-20T23:00:00",
          "2019-01-27T23:00:00",
          "2019-02-03T23:00:00",
          "2019-02-10T23:00:00",
          "2019-02-17T23:00:00",
          "2019-02-24T23:00:00",
          "2019-03-03T23:00:00",
          "2019-03-10T23:00:00",
          "2019-03-17T23:00:00",
          "2019-03-24T23:00:00",
          "2019-04-01T00:00:00",
          "2019-04-08T00:00:00",
          "2019-04-15T00:00:00",
          "2019-04-22T00:00:00",
          "2019-04-29T00:00:00",
          "2019-05-06T00:00:00",
          "2019-05-13T00:00:00",
          "2019-05-20T00:00:00",
          "2019-05-27T00:00:00",
          "2019-06-03T00:00:00",
          "2019-06-10T00:00:00",
          "2019-06-17T00:00:00",
          "2019-06-24T00:00:00",
          "2019-07-01T00:00:00",
          "2019-07-08T00:00:00",
          "2019-07-15T00:00:00",
          "2019-07-22T00:00:00",
          "2019-07-29T00:00:00",
          "2019-08-05T00:00:00",
          "2019-08-12T00:00:00",
          "2019-08-19T00:00:00",
          "2019-08-26T00:00:00",
          "2019-09-02T00:00:00",
          "2019-09-09T00:00:00",
          "2019-09-16T00:00:00",
          "2019-09-23T00:00:00",
          "2019-09-30T00:00:00"
         ],
         "y": [
          2755.875,
          6707.125,
          7582.875,
          8686.125,
          8281.777777777985,
          5943.097222222015,
          4468.125,
          3073.5,
          2900.75,
          5553,
          4257.75,
          4134.375,
          4303.875,
          3730.25,
          5291,
          8118.875,
          10238.875,
          10073.527777777985,
          6816.444444444031,
          5854.027777777985,
          6179.25,
          6603.5,
          6390.5,
          5682.5,
          5284.678756476846,
          5807.751295336522,
          8669.861614853144,
          7420.109375,
          8081.828125,
          6738.963541666977,
          9458.723958333025,
          14966,
          9162.75,
          6364.203703703824,
          4511.3744212961765,
          6569.828125,
          15149.75,
          11729.729166666975,
          0,
          3402.546875,
          7610.833333333023,
          7563.291666666977,
          7577.916666666511,
          7354.927083333489,
          7220.5,
          5662.703125,
          6537.331855619793,
          7856.94418604672,
          7292.625,
          5519.875,
          6038.375,
          6978.125,
          9424.625,
          6573.041666666511,
          5948.333333333489,
          5711.75,
          5903.649999999907,
          6798.399999999907,
          4433.200000000186,
          4020.333333333489,
          3870.166666666512,
          3773.299999999813,
          5234.600000000093,
          5376.9636363638565,
          5666,
          7058.545454545412,
          6378.090909090824,
          5867.75,
          6428.916666666511,
          6530.392156863119,
          6536.352941176388,
          6644.488235293888,
          7293.300000000279,
          6158.174999999815,
          6070.125,
          6810,
          6986.5,
          5877.99481865298,
          5886.963730569929,
          6450.62478411058,
          10272.546875,
          10443.052083333025,
          17368.817708333492,
          17933.46875,
          9906.921875,
          6214.161458333489,
          4233.25,
          6256.771990740673,
          8769.472800925842,
          8227.171875,
          7350.583333333489,
          7494.105324073695,
          6698.222222222481,
          6468.500578703824,
          7147.119791666511,
          3834.833333333489,
          5363.041666666511,
          7265.359375,
          6272.225049083587,
          5815.790575916413,
          6993,
          6666.333333333489,
          6145.166666666511,
          5722.75,
          5413.5,
          4923.375,
          5173.875,
          5196.625,
          4557.625,
          4157.375,
          3632.375,
          3284.75,
          3182.5,
          3086.625,
          3205.125,
          3368.75,
          3825.5,
          3466,
          3099.75,
          3048.375,
          3384.375,
          3849.694444444496,
          3454.111111111008,
          4241.044444444589,
          4065.299999999813,
          3656.1000000000927,
          4181.100000000093,
          4181.100000000093,
          4095.405194805004,
          3581.236363636329,
          3581.236363636329,
          5062.579485329334,
          5243.488425926305,
          6105.020833333023,
          70823.05729166698,
          206023.171875,
          28409.5,
          0,
          0,
          3388.3443287038244,
          3758.870370370336,
          3727.196759259328,
          4399.5,
          0,
          0,
          9089.0625,
          6666.809895833489,
          4805.5,
          5326.515625,
          5564.90625,
          5134.817708333023,
          4683.995473385789,
          5230.8691099477,
          5733.777777777985,
          5823.874396135099,
          5859.913043478038,
          5859.913043478504,
          6084.855072463864,
          6384.777777777519,
          6384.777777777985,
          6448.311111111194,
          5626.799999999815,
          4517.333333333489,
          4388.666666666511,
          4067,
          3676.5714285713625,
          3156,
          3266.785714285914,
          3414.5,
          3483.142857142724,
          3574.6666666665114,
          3536.871794871986,
          3442.384615384508,
          4004.743589743505,
          4754.555555555504,
          4754.5555555559695,
          5663.222222222015,
          9998.857142857276
         ]
        },
        {
         "line": {
          "color": "rgba(37, 130, 142)",
          "width": 2
         },
         "mode": "lines",
         "name": "Just Have a Think",
         "type": "scatter",
         "x": [
          "2019-01-28T00:00:00",
          "2019-02-04T00:00:00",
          "2019-02-11T00:00:00",
          "2019-02-18T00:00:00",
          "2019-02-25T00:00:00",
          "2019-03-04T00:00:00",
          "2019-03-11T00:00:00",
          "2019-03-18T00:00:00",
          "2019-03-25T00:00:00",
          "2019-04-01T01:00:00",
          "2019-04-08T01:00:00",
          "2019-04-15T01:00:00",
          "2019-04-22T01:00:00",
          "2019-04-29T01:00:00",
          "2019-05-06T01:00:00",
          "2019-05-13T01:00:00",
          "2019-05-20T01:00:00",
          "2019-05-27T01:00:00",
          "2019-06-03T01:00:00",
          "2019-06-10T01:00:00",
          "2019-06-17T01:00:00",
          "2019-06-24T01:00:00",
          "2019-07-01T01:00:00",
          "2019-07-08T01:00:00",
          "2019-07-15T01:00:00",
          "2019-07-22T01:00:00",
          "2019-07-29T01:00:00",
          "2019-08-05T01:00:00",
          "2019-08-12T01:00:00",
          "2019-08-19T01:00:00",
          "2019-08-26T01:00:00",
          "2019-09-02T01:00:00",
          "2019-09-09T01:00:00",
          "2019-09-16T01:00:00",
          "2019-09-23T01:00:00",
          "2019-09-30T01:00:00"
         ],
         "y": [
          0,
          15036,
          12249,
          11784.5,
          10231.299999999988,
          10211.075000000012,
          17079.125,
          36928.5,
          24661.5,
          22508.07329842932,
          37354.650659904,
          40448.919560185226,
          30394.39436026936,
          30979.45454545453,
          22635.50437062938,
          16528.076923076937,
          16233.624198717936,
          20787.48726851848,
          41090.109686609714,
          82098.15384615387,
          62933.10765460027,
          37992.29411764699,
          38282.41253063735,
          86732.1875,
          86732.1875,
          34838.859786184155,
          14681.947368421126,
          14991.502741227974,
          66687.25000000013,
          66687.25,
          42046.90625,
          32475.86363636353,
          32475.863636363763,
          31642.974116161466,
          31033.333333333485,
          64222.5099206348
         ]
        },
        {
         "line": {
          "color": "rgba(30, 157, 136)",
          "width": 2
         },
         "mode": "lines",
         "name": "Guy Brown",
         "type": "scatter",
         "x": [
          "2016-04-25T00:00:00",
          "2016-05-02T00:00:00",
          "2016-05-09T00:00:00",
          "2016-05-16T00:00:00",
          "2016-05-23T00:00:00",
          "2016-05-30T00:00:00",
          "2016-06-06T00:00:00",
          "2016-06-13T00:00:00",
          "2016-06-20T00:00:00",
          "2016-06-27T00:00:00",
          "2016-07-04T00:00:00",
          "2016-07-11T00:00:00",
          "2016-07-18T00:00:00",
          "2016-07-25T00:00:00",
          "2016-08-01T00:00:00",
          "2016-08-08T00:00:00",
          "2016-08-15T00:00:00",
          "2016-08-22T00:00:00",
          "2016-08-29T00:00:00",
          "2016-09-05T00:00:00",
          "2016-09-12T00:00:00",
          "2016-09-19T00:00:00",
          "2016-09-26T00:00:00",
          "2016-10-03T00:00:00",
          "2016-10-10T00:00:00",
          "2016-10-17T00:00:00",
          "2016-10-24T00:00:00",
          "2016-10-30T23:00:00",
          "2016-11-06T23:00:00",
          "2016-11-13T23:00:00",
          "2016-11-20T23:00:00",
          "2016-11-27T23:00:00",
          "2016-12-04T23:00:00",
          "2016-12-11T23:00:00",
          "2016-12-18T23:00:00",
          "2016-12-25T23:00:00",
          "2017-01-01T23:00:00",
          "2017-01-08T23:00:00",
          "2017-01-15T23:00:00",
          "2017-01-22T23:00:00",
          "2017-01-29T23:00:00",
          "2017-02-05T23:00:00",
          "2017-02-12T23:00:00",
          "2017-02-19T23:00:00",
          "2017-02-26T23:00:00",
          "2017-03-05T23:00:00",
          "2017-03-12T23:00:00",
          "2017-03-19T23:00:00",
          "2017-03-27T00:00:00",
          "2017-04-03T00:00:00",
          "2017-04-10T00:00:00",
          "2017-04-17T00:00:00",
          "2017-04-24T00:00:00",
          "2017-05-01T00:00:00",
          "2017-05-08T00:00:00",
          "2017-05-15T00:00:00",
          "2017-05-22T00:00:00",
          "2017-05-29T00:00:00",
          "2017-06-05T00:00:00",
          "2017-06-12T00:00:00",
          "2017-06-19T00:00:00",
          "2017-06-26T00:00:00",
          "2017-07-03T00:00:00",
          "2017-07-10T00:00:00",
          "2017-07-17T00:00:00",
          "2017-07-24T00:00:00",
          "2017-07-31T00:00:00",
          "2017-08-07T00:00:00",
          "2017-08-14T00:00:00",
          "2017-08-21T00:00:00",
          "2017-08-28T00:00:00",
          "2017-09-04T00:00:00",
          "2017-09-11T00:00:00",
          "2017-09-18T00:00:00",
          "2017-09-25T00:00:00",
          "2017-10-02T00:00:00",
          "2017-10-09T00:00:00",
          "2017-10-16T00:00:00",
          "2017-10-23T00:00:00",
          "2017-10-29T23:00:00",
          "2017-11-05T23:00:00",
          "2017-11-12T23:00:00",
          "2017-11-19T23:00:00",
          "2017-11-26T23:00:00",
          "2017-12-03T23:00:00",
          "2017-12-10T23:00:00",
          "2017-12-17T23:00:00",
          "2017-12-24T23:00:00",
          "2017-12-31T23:00:00",
          "2018-01-07T23:00:00",
          "2018-01-14T23:00:00",
          "2018-01-21T23:00:00",
          "2018-01-28T23:00:00",
          "2018-02-04T23:00:00",
          "2018-02-11T23:00:00",
          "2018-02-18T23:00:00",
          "2018-02-25T23:00:00",
          "2018-03-04T23:00:00",
          "2018-03-11T23:00:00",
          "2018-03-18T23:00:00",
          "2018-03-26T00:00:00",
          "2018-04-02T00:00:00",
          "2018-04-09T00:00:00",
          "2018-04-16T00:00:00",
          "2018-04-23T00:00:00",
          "2018-04-30T00:00:00",
          "2018-05-07T00:00:00",
          "2018-05-14T00:00:00",
          "2018-05-21T00:00:00",
          "2018-05-28T00:00:00",
          "2018-06-04T00:00:00",
          "2018-06-11T00:00:00",
          "2018-06-18T00:00:00",
          "2018-06-25T00:00:00",
          "2018-07-02T00:00:00",
          "2018-07-09T00:00:00",
          "2018-07-16T00:00:00",
          "2018-07-23T00:00:00",
          "2018-07-30T00:00:00",
          "2018-08-06T00:00:00",
          "2018-08-13T00:00:00",
          "2018-08-20T00:00:00",
          "2018-08-27T00:00:00",
          "2018-09-03T00:00:00",
          "2018-09-10T00:00:00",
          "2018-09-17T00:00:00",
          "2018-09-24T00:00:00",
          "2018-10-01T00:00:00",
          "2018-10-08T00:00:00",
          "2018-10-15T00:00:00",
          "2018-10-22T00:00:00",
          "2018-10-28T23:00:00",
          "2018-11-04T23:00:00",
          "2018-11-11T23:00:00",
          "2018-11-18T23:00:00",
          "2018-11-25T23:00:00",
          "2018-12-02T23:00:00",
          "2018-12-09T23:00:00",
          "2018-12-16T23:00:00",
          "2018-12-23T23:00:00",
          "2018-12-30T23:00:00",
          "2019-01-06T23:00:00",
          "2019-01-13T23:00:00",
          "2019-01-20T23:00:00",
          "2019-01-27T23:00:00",
          "2019-02-03T23:00:00",
          "2019-02-10T23:00:00",
          "2019-02-17T23:00:00",
          "2019-02-24T23:00:00",
          "2019-03-03T23:00:00",
          "2019-03-10T23:00:00",
          "2019-03-17T23:00:00",
          "2019-03-24T23:00:00",
          "2019-04-01T00:00:00",
          "2019-04-08T00:00:00",
          "2019-04-15T00:00:00",
          "2019-04-22T00:00:00",
          "2019-04-29T00:00:00",
          "2019-05-06T00:00:00",
          "2019-05-13T00:00:00",
          "2019-05-20T00:00:00",
          "2019-05-27T00:00:00",
          "2019-06-03T00:00:00",
          "2019-06-10T00:00:00",
          "2019-06-17T00:00:00",
          "2019-06-24T00:00:00",
          "2019-07-01T00:00:00",
          "2019-07-08T00:00:00",
          "2019-07-15T00:00:00",
          "2019-07-22T00:00:00",
          "2019-07-29T00:00:00",
          "2019-08-05T00:00:00",
          "2019-08-12T00:00:00",
          "2019-08-19T00:00:00",
          "2019-08-26T00:00:00",
          "2019-09-02T00:00:00",
          "2019-09-09T00:00:00",
          "2019-09-16T00:00:00",
          "2019-09-23T00:00:00",
          "2019-09-30T00:00:00"
         ],
         "y": [
          6764.25,
          17398.5,
          20918.25,
          17808,
          16718.625,
          13566.375,
          22320,
          23116.5,
          16425.25,
          21395,
          28327.25,
          17479.875,
          17355.375,
          22327.125,
          21030.625,
          17556.25,
          19799.5,
          27685.25,
          21266,
          19143.25,
          21701.5,
          21152.25,
          21516.5,
          19578.875,
          19913.125,
          12177.625,
          0,
          86870.7979274611,
          30687.504155872382,
          21750.3125,
          26355.609375,
          24088.578125,
          22229.921875,
          35470.30729166651,
          26580.75,
          24025.302083333485,
          25397.546875,
          30554.453125,
          68493.44270833302,
          35215.78125,
          0,
          26766.265625,
          26347.125,
          28630.328125,
          25606.739583333485,
          25123.473958333023,
          23269.84375,
          24506.927083333485,
          26207.007771596785,
          21975.13285340321,
          26807.375,
          18896.5,
          23183.5,
          24454.875,
          24201.125,
          24917,
          25143.75,
          21866.5,
          20266.75,
          17652.25,
          22936.75,
          19139.444444444496,
          16382.055555555504,
          15517.5,
          16310,
          19140.625,
          19367.875,
          16330.75,
          15840.149999999909,
          16516.975000000093,
          17250.625,
          14327.352941176388,
          14327.352941176388,
          16259.794117647223,
          15770.833333333489,
          13496.444444444496,
          15356.44444444403,
          17542.444444444496,
          17263.833333333492,
          17381.16839378234,
          17519.18577288417,
          16751.833333333492,
          22648.5,
          18473.11342592584,
          19902.004629629664,
          20912.861111111008,
          20655.213541666973,
          18627.65625,
          19166.875,
          21179.05104166642,
          21114.704166666605,
          20051.48148148181,
          18706.476851851683,
          18879,
          16351.2416666667,
          16475.412500000093,
          19474.69999999972,
          17983.92500000028,
          17516.288792916108,
          17233.4706649282,
          17233.4706649282,
          17233.4706649282,
          17233.470664928667,
          17173.324380703736,
          17234.215384615585,
          17328.769230769016,
          17483.0153846154,
          17607.82222222211,
          17662.55555555597,
          17014.722222222015,
          16705.5,
          16189,
          15099,
          12904.181818181649,
          12668.818181818351,
          12355,
          12399.54545454588,
          12717.95454545412,
          12943.5,
          12446,
          12082,
          11459.135135134682,
          11355.324324324729,
          11355.324324324729,
          11355.324324323796,
          11355.324324324729,
          12058.06756756734,
          12242.90000000037,
          11786.59999999963,
          13775.363636363298,
          14244.682006790305,
          14870.439834024755,
          14207.605431912469,
          15665.893465909176,
          16817.869791666973,
          14684.942708333025,
          14965.125,
          16548.145833333027,
          15228.916666666975,
          12811.239583333025,
          13488.276041666975,
          14601.265625,
          14588.526041666975,
          15088.796875,
          16260.125,
          15930.473958333025,
          14879.020833333025,
          14447.691666667351,
          13809.59999999963,
          13111.68055555597,
          12289.86631944403,
          11661.895833333025,
          11493.09375,
          11392.33788721636,
          11496.125654450618,
          11888.625,
          11351.174999999814,
          10649.700000000186,
          9833.833333333025,
          10273.757575757802,
          10465.825757576153,
          10562.416666666046,
          10497.757575757802,
          10411.545454545878,
          9626.363636363298,
          9495.5,
          9560.75,
          9723.875,
          9723.875,
          9435.17647058796,
          9435.17647058889,
          9224.535947712138,
          9003.222222222015,
          8844.888888888992,
          9023,
          7951.400000000371,
          7913.93333333265,
          8140.444444444962,
          8370.444444444029,
          8363.206349206157
         ]
        },
        {
         "line": {
          "color": "rgba(53, 183, 120)",
          "width": 2
         },
         "mode": "lines",
         "name": "Our Changing Climate...",
         "type": "scatter",
         "x": [
          "2017-01-16T00:00:00",
          "2017-01-23T00:00:00",
          "2017-01-30T00:00:00",
          "2017-02-06T00:00:00",
          "2017-02-13T00:00:00",
          "2017-02-20T00:00:00",
          "2017-02-27T00:00:00",
          "2017-03-06T00:00:00",
          "2017-03-13T00:00:00",
          "2017-03-20T00:00:00",
          "2017-03-27T01:00:00",
          "2017-04-03T01:00:00",
          "2017-04-10T01:00:00",
          "2017-04-17T01:00:00",
          "2017-04-24T01:00:00",
          "2017-05-01T01:00:00",
          "2017-05-08T01:00:00",
          "2017-05-15T01:00:00",
          "2017-05-22T01:00:00",
          "2017-05-29T01:00:00",
          "2017-06-05T01:00:00",
          "2017-06-12T01:00:00",
          "2017-06-19T01:00:00",
          "2017-06-26T01:00:00",
          "2017-07-03T01:00:00",
          "2017-07-10T01:00:00",
          "2017-07-17T01:00:00",
          "2017-07-24T01:00:00",
          "2017-07-31T01:00:00",
          "2017-08-07T01:00:00",
          "2017-08-14T01:00:00",
          "2017-08-21T01:00:00",
          "2017-08-28T01:00:00",
          "2017-09-04T01:00:00",
          "2017-09-11T01:00:00",
          "2017-09-18T01:00:00",
          "2017-09-25T01:00:00",
          "2017-10-02T01:00:00",
          "2017-10-09T01:00:00",
          "2017-10-16T01:00:00",
          "2017-10-23T01:00:00",
          "2017-10-30T00:00:00",
          "2017-11-06T00:00:00",
          "2017-11-13T00:00:00",
          "2017-11-20T00:00:00",
          "2017-11-27T00:00:00",
          "2017-12-04T00:00:00",
          "2017-12-11T00:00:00",
          "2017-12-18T00:00:00",
          "2017-12-25T00:00:00",
          "2018-01-01T00:00:00",
          "2018-01-08T00:00:00",
          "2018-01-15T00:00:00",
          "2018-01-22T00:00:00",
          "2018-01-29T00:00:00",
          "2018-02-05T00:00:00",
          "2018-02-12T00:00:00",
          "2018-02-19T00:00:00",
          "2018-02-26T00:00:00",
          "2018-03-05T00:00:00",
          "2018-03-12T00:00:00",
          "2018-03-19T00:00:00",
          "2018-03-26T01:00:00",
          "2018-04-02T01:00:00",
          "2018-04-09T01:00:00",
          "2018-04-16T01:00:00",
          "2018-04-23T01:00:00",
          "2018-04-30T01:00:00",
          "2018-05-07T01:00:00",
          "2018-05-14T01:00:00",
          "2018-05-21T01:00:00",
          "2018-05-28T01:00:00",
          "2018-06-04T01:00:00",
          "2018-06-11T01:00:00",
          "2018-06-18T01:00:00",
          "2018-06-25T01:00:00",
          "2018-07-02T01:00:00",
          "2018-07-09T01:00:00",
          "2018-07-16T01:00:00",
          "2018-07-23T01:00:00",
          "2018-07-30T01:00:00",
          "2018-08-06T01:00:00",
          "2018-08-13T01:00:00",
          "2018-08-20T01:00:00",
          "2018-08-27T01:00:00",
          "2018-09-03T01:00:00",
          "2018-09-10T01:00:00",
          "2018-09-17T01:00:00",
          "2018-09-24T01:00:00",
          "2018-10-01T01:00:00",
          "2018-10-08T01:00:00",
          "2018-10-15T01:00:00",
          "2018-10-22T01:00:00",
          "2018-10-29T00:00:00",
          "2018-11-05T00:00:00",
          "2018-11-12T00:00:00",
          "2018-11-19T00:00:00",
          "2018-11-26T00:00:00",
          "2018-12-03T00:00:00",
          "2018-12-10T00:00:00",
          "2018-12-17T00:00:00",
          "2018-12-24T00:00:00",
          "2018-12-31T00:00:00",
          "2019-01-07T00:00:00",
          "2019-01-14T00:00:00",
          "2019-01-21T00:00:00",
          "2019-01-28T00:00:00",
          "2019-02-04T00:00:00",
          "2019-02-11T00:00:00",
          "2019-02-18T00:00:00",
          "2019-02-25T00:00:00",
          "2019-03-04T00:00:00",
          "2019-03-11T00:00:00",
          "2019-03-18T00:00:00",
          "2019-03-25T00:00:00",
          "2019-04-01T01:00:00",
          "2019-04-08T01:00:00",
          "2019-04-15T01:00:00",
          "2019-04-22T01:00:00",
          "2019-04-29T01:00:00",
          "2019-05-06T01:00:00",
          "2019-05-13T01:00:00",
          "2019-05-20T01:00:00",
          "2019-05-27T01:00:00",
          "2019-06-03T01:00:00",
          "2019-06-10T01:00:00",
          "2019-06-17T01:00:00",
          "2019-06-24T01:00:00",
          "2019-07-01T01:00:00",
          "2019-07-08T01:00:00",
          "2019-07-15T01:00:00",
          "2019-07-22T01:00:00",
          "2019-07-29T01:00:00",
          "2019-08-05T01:00:00",
          "2019-08-12T01:00:00",
          "2019-08-19T01:00:00",
          "2019-08-26T01:00:00",
          "2019-09-02T01:00:00",
          "2019-09-09T01:00:00",
          "2019-09-16T01:00:00",
          "2019-09-23T01:00:00"
         ],
         "y": [
          320.625,
          175.875,
          42.375,
          147.375,
          182.125,
          240.625,
          210.875,
          294.125,
          306.125,
          578.875,
          575.4136125654451,
          287.40409576788846,
          267.5416666666665,
          291.41145833333303,
          297.5,
          311.09375,
          306.94791666666697,
          366.6967592592591,
          373.4021990740738,
          305.8755787037044,
          458.8888888888887,
          2496.4074074074083,
          2043.5694444444437,
          966.5659722222226,
          583.734375,
          748.125,
          648.8570601851861,
          647.0773148148146,
          689.2791666666652,
          872.1999999999989,
          618.7722222222255,
          842.4120370370364,
          1207.3527199074051,
          897.3125,
          897.3125,
          1191.672111742424,
          1185.4659090909115,
          1061.5374999999983,
          1819.2999999999995,
          1618.833333333336,
          1484.1255829015536,
          1552.9119170984452,
          1904.875,
          1864.375,
          2232.625,
          2186.902777777781,
          2119.222222222219,
          2317,
          2084.5999999999985,
          1854.4000000000003,
          1818.454545454544,
          2000.727272727272,
          2126.318181818184,
          2271.833333333336,
          2825.666666666664,
          3505.2222222222194,
          3550.555555555562,
          3696.822222222225,
          3659.699999999997,
          3577.699999999997,
          3242.3999999999933,
          3375.200000000012,
          3447.0579634464666,
          3280.6057441253365,
          3280.605744125321,
          3202.7879557102715,
          3227.380787037037,
          3254.416666666672,
          3291.1701388888905,
          2810.479166666672,
          2745.0208333333285,
          2972.213541666672,
          2558.2083333333285,
          2947.875,
          2754.884943181824,
          2529.9431818181765,
          2056.564814814817,
          1816.8888888888905,
          1875.148148148146,
          2304.347222222219,
          2836.106481481489,
          2851.3333333333144,
          2713.381944444467,
          3072.481944444444,
          3220.466666666645,
          3672.160990338191,
          4002.782608695648,
          4002.782608695648,
          3782.637681159424,
          3248,
          3941.28125,
          4109.742757386877,
          4444.321329639904,
          4444.321329639875,
          4863.444444444438,
          4409.055555555562,
          4226.25,
          4346.5,
          5083.75,
          5358.5,
          4726.25,
          4310.25,
          4203,
          4643.25,
          5200,
          5212.125,
          5483.625,
          6025.25,
          30872.375,
          35013.5625,
          746349.8125,
          1202499.625,
          880356.125,
          323518.75,
          267599.5,
          428502.0314136124,
          234794.4112947205,
          175197.90104166698,
          156196.46875,
          150496.5,
          188835.905448718,
          216898.76923076907,
          156668.30448717994,
          152891.44583333287,
          178937.104166667,
          264909.39999999944,
          218761.1525641028,
          184982.5384615389,
          173358.39423076902,
          168843.23076923098,
          153500.65064102507,
          140191.77678571455,
          77985.5,
          81657.97700216435,
          102664.54545454588,
          120791.74705387186,
          139056.6468855217,
          151191.09090909082,
          103589.04924242476,
          81485.47685185168,
          72968.71362433862
         ]
        },
        {
         "line": {
          "color": "rgba(109, 206, 88)",
          "width": 2
         },
         "mode": "lines",
         "name": "Climate State",
         "type": "scatter",
         "x": [
          "2016-06-13T00:00:00",
          "2016-06-20T00:00:00",
          "2016-06-27T00:00:00",
          "2016-07-04T00:00:00",
          "2016-07-11T00:00:00",
          "2016-07-18T00:00:00",
          "2016-07-25T00:00:00",
          "2016-08-01T00:00:00",
          "2016-08-08T00:00:00",
          "2016-08-15T00:00:00",
          "2016-08-22T00:00:00",
          "2016-08-29T00:00:00",
          "2016-09-05T00:00:00",
          "2016-09-12T00:00:00",
          "2016-09-19T00:00:00",
          "2016-09-26T00:00:00",
          "2016-10-03T00:00:00",
          "2016-10-10T00:00:00",
          "2016-10-17T00:00:00",
          "2016-10-24T00:00:00",
          "2016-10-30T23:00:00",
          "2016-11-06T23:00:00",
          "2016-11-13T23:00:00",
          "2016-11-20T23:00:00",
          "2016-11-27T23:00:00",
          "2016-12-04T23:00:00",
          "2016-12-11T23:00:00",
          "2016-12-18T23:00:00",
          "2016-12-25T23:00:00",
          "2017-01-01T23:00:00",
          "2017-01-08T23:00:00",
          "2017-01-15T23:00:00",
          "2017-01-22T23:00:00",
          "2017-01-29T23:00:00",
          "2017-02-05T23:00:00",
          "2017-02-12T23:00:00",
          "2017-02-19T23:00:00",
          "2017-02-26T23:00:00",
          "2017-03-05T23:00:00",
          "2017-03-12T23:00:00",
          "2017-03-19T23:00:00",
          "2017-03-27T00:00:00",
          "2017-04-03T00:00:00",
          "2017-04-10T00:00:00",
          "2017-04-17T00:00:00",
          "2017-04-24T00:00:00",
          "2017-05-01T00:00:00",
          "2017-05-08T00:00:00",
          "2017-05-15T00:00:00",
          "2017-05-22T00:00:00",
          "2017-05-29T00:00:00",
          "2017-06-05T00:00:00",
          "2017-06-12T00:00:00",
          "2017-06-19T00:00:00",
          "2017-06-26T00:00:00",
          "2017-07-03T00:00:00",
          "2017-07-10T00:00:00",
          "2017-07-17T00:00:00",
          "2017-07-24T00:00:00",
          "2017-07-31T00:00:00",
          "2017-08-07T00:00:00",
          "2017-08-14T00:00:00",
          "2017-08-21T00:00:00",
          "2017-08-28T00:00:00",
          "2017-09-04T00:00:00",
          "2017-09-11T00:00:00",
          "2017-09-18T00:00:00",
          "2017-09-25T00:00:00",
          "2017-10-02T00:00:00",
          "2017-10-09T00:00:00",
          "2017-10-16T00:00:00",
          "2017-10-23T00:00:00",
          "2017-10-29T23:00:00",
          "2017-11-05T23:00:00",
          "2017-11-12T23:00:00",
          "2017-11-19T23:00:00",
          "2017-11-26T23:00:00",
          "2017-12-03T23:00:00",
          "2017-12-10T23:00:00",
          "2017-12-17T23:00:00",
          "2017-12-24T23:00:00",
          "2017-12-31T23:00:00",
          "2018-01-07T23:00:00",
          "2018-01-14T23:00:00",
          "2018-01-21T23:00:00",
          "2018-01-28T23:00:00",
          "2018-02-04T23:00:00",
          "2018-02-11T23:00:00",
          "2018-02-18T23:00:00",
          "2018-02-25T23:00:00",
          "2018-03-04T23:00:00",
          "2018-03-11T23:00:00",
          "2018-03-18T23:00:00",
          "2018-03-26T00:00:00",
          "2018-04-02T00:00:00",
          "2018-04-09T00:00:00",
          "2018-04-16T00:00:00",
          "2018-04-23T00:00:00",
          "2018-04-30T00:00:00",
          "2018-05-07T00:00:00",
          "2018-05-14T00:00:00",
          "2018-05-21T00:00:00",
          "2018-05-28T00:00:00",
          "2018-06-04T00:00:00",
          "2018-06-11T00:00:00",
          "2018-06-18T00:00:00",
          "2018-06-25T00:00:00",
          "2018-07-02T00:00:00",
          "2018-07-09T00:00:00",
          "2018-07-16T00:00:00",
          "2018-07-23T00:00:00",
          "2018-07-30T00:00:00",
          "2018-08-06T00:00:00",
          "2018-08-13T00:00:00",
          "2018-08-20T00:00:00",
          "2018-08-27T00:00:00",
          "2018-09-03T00:00:00",
          "2018-09-10T00:00:00",
          "2018-09-17T00:00:00",
          "2018-09-24T00:00:00",
          "2018-10-01T00:00:00",
          "2018-10-08T00:00:00",
          "2018-10-15T00:00:00",
          "2018-10-22T00:00:00",
          "2018-10-28T23:00:00",
          "2018-11-04T23:00:00",
          "2018-11-11T23:00:00",
          "2018-11-18T23:00:00",
          "2018-11-25T23:00:00",
          "2018-12-02T23:00:00",
          "2018-12-09T23:00:00",
          "2018-12-16T23:00:00",
          "2018-12-23T23:00:00",
          "2018-12-30T23:00:00",
          "2019-01-06T23:00:00",
          "2019-01-13T23:00:00",
          "2019-01-20T23:00:00",
          "2019-01-27T23:00:00",
          "2019-02-03T23:00:00",
          "2019-02-10T23:00:00",
          "2019-02-17T23:00:00",
          "2019-02-24T23:00:00",
          "2019-03-03T23:00:00",
          "2019-03-10T23:00:00",
          "2019-03-17T23:00:00",
          "2019-03-24T23:00:00",
          "2019-04-01T00:00:00",
          "2019-04-08T00:00:00",
          "2019-04-15T00:00:00",
          "2019-04-22T00:00:00",
          "2019-04-29T00:00:00",
          "2019-05-06T00:00:00",
          "2019-05-13T00:00:00",
          "2019-05-20T00:00:00",
          "2019-05-27T00:00:00",
          "2019-06-03T00:00:00",
          "2019-06-10T00:00:00",
          "2019-06-17T00:00:00",
          "2019-06-24T00:00:00",
          "2019-07-01T00:00:00",
          "2019-07-08T00:00:00",
          "2019-07-15T00:00:00",
          "2019-07-22T00:00:00",
          "2019-07-29T00:00:00",
          "2019-08-05T00:00:00"
         ],
         "y": [
          2813.25,
          5851.5,
          4010.25,
          3654,
          3336.375,
          3834.375,
          3852.375,
          4561.375,
          4915.375,
          4468.125,
          4035.875,
          4206.125,
          4922.75,
          5870.75,
          13704.375,
          30770.625,
          120295.125,
          329319.125,
          527893.375,
          164528.875,
          56342.673575129375,
          37429.71184153715,
          18617.921875,
          17419.78125,
          16821.557291666973,
          16708.993055555504,
          32540.666666666515,
          22610.66111111129,
          17834.84583333321,
          14824.789351851685,
          18696.22222222248,
          154712.22800925933,
          0,
          0,
          9217.923076923003,
          9970.493189102504,
          144420.375,
          148323.4270833335,
          11981.260416666511,
          9824.96875,
          10065.125,
          17790.764861474745,
          52082.813263525255,
          41616.83333333349,
          30604.166666666515,
          41391.95833333349,
          97178.375,
          28531.125,
          40657.20833333349,
          52409.16666666651,
          61307.125,
          62565.575000000186,
          60379.19999999973,
          73112.93333333357,
          58967.26666666661,
          44545.77499999992,
          31222.625,
          23764.22222222201,
          26832.55555555597,
          28368.4222222222,
          28779.79999999981,
          21550.899999999907,
          22082.7666666666,
          28863.7333333334,
          44818.89999999992,
          885229.1615384622,
          1025297.538461538,
          338479.555555556,
          129808.44444444405,
          42074.5,
          36734.5,
          30807.5,
          25242.89378238376,
          37942.756476683535,
          36666.64140759967,
          49129.791666666046,
          61156.630208333954,
          48284.895833333016,
          35278.42499999981,
          35278.42499999981,
          35278.425000000745,
          35278.42499999981,
          35278.42499999981,
          34455.52951388899,
          28690.668402777985,
          23731.63541666605,
          26051.58506944496,
          34274.333333333016,
          36789.190972222015,
          37517.76041666698,
          0,
          0,
          48881.96527777705,
          71216.98702006973,
          51550.49214659725,
          47894,
          95054,
          85480.5,
          63042,
          44305.75,
          28554,
          27819.75,
          25357.5,
          24499.5,
          27282.75,
          22811.75,
          17222.375,
          18170.625,
          27179.625,
          39844.875,
          39882.5,
          59741,
          65698.875,
          63020.625,
          58087.5,
          53400.75,
          46102.75,
          30016,
          41953,
          34098.90000000037,
          20974.099999999627,
          23835,
          29970.599999999627,
          35982.14777448121,
          44441.23442136496,
          41538.9240541542,
          23241.75,
          26017.255208333023,
          26088.989583333954,
          26210.80729166605,
          28640.411458333023,
          26021.43229166791,
          35390.54166666605,
          71913.46354166606,
          51419.375,
          41065.375,
          53118.90104166791,
          79401.4375,
          0,
          0,
          62219.18181818165,
          44098.076178452,
          33264.971643518664,
          27424.88020833209,
          24257.34375,
          24316.25,
          0,
          19005.69895287976,
          23480.25,
          23225.704545455053,
          22696.545454544947,
          31549,
          36545.40000000037,
          41206.79999999888,
          46691.40000000037,
          55139.56666666642,
          58518.833333333954,
          51357.44444444403,
          38040.47863247991,
          32713.692307692017,
          0,
          0,
          0,
          0,
          43363.09090909176
         ]
        },
        {
         "line": {
          "color": "rgba(181, 221, 43)",
          "width": 2
         },
         "mode": "lines",
         "name": "Friends of Science",
         "type": "scatter",
         "x": [
          "2016-05-02T00:00:00",
          "2016-05-09T00:00:00",
          "2016-05-16T00:00:00",
          "2016-05-23T00:00:00",
          "2016-05-30T00:00:00",
          "2016-06-06T00:00:00",
          "2016-06-13T00:00:00",
          "2016-06-20T00:00:00",
          "2016-06-27T00:00:00",
          "2016-07-04T00:00:00",
          "2016-07-11T00:00:00",
          "2016-07-18T00:00:00",
          "2016-07-25T00:00:00",
          "2016-08-01T00:00:00",
          "2016-08-08T00:00:00",
          "2016-08-15T00:00:00",
          "2016-08-22T00:00:00",
          "2016-08-29T00:00:00",
          "2016-09-05T00:00:00",
          "2016-09-12T00:00:00",
          "2016-09-19T00:00:00",
          "2016-09-26T00:00:00",
          "2016-10-03T00:00:00",
          "2016-10-10T00:00:00",
          "2016-10-17T00:00:00",
          "2016-10-24T00:00:00",
          "2016-10-30T23:00:00",
          "2016-11-06T23:00:00",
          "2016-11-13T23:00:00",
          "2016-11-20T23:00:00",
          "2016-11-27T23:00:00",
          "2016-12-04T23:00:00",
          "2016-12-11T23:00:00",
          "2016-12-18T23:00:00",
          "2016-12-25T23:00:00",
          "2017-01-01T23:00:00",
          "2017-01-08T23:00:00",
          "2017-01-15T23:00:00",
          "2017-01-22T23:00:00",
          "2017-01-29T23:00:00",
          "2017-02-05T23:00:00",
          "2017-02-12T23:00:00",
          "2017-02-19T23:00:00",
          "2017-02-26T23:00:00",
          "2017-03-05T23:00:00",
          "2017-03-12T23:00:00",
          "2017-03-19T23:00:00",
          "2017-03-27T00:00:00",
          "2017-04-03T00:00:00",
          "2017-04-10T00:00:00",
          "2017-04-17T00:00:00",
          "2017-04-24T00:00:00",
          "2017-05-01T00:00:00",
          "2017-05-08T00:00:00",
          "2017-05-15T00:00:00",
          "2017-05-22T00:00:00",
          "2017-05-29T00:00:00",
          "2017-06-05T00:00:00",
          "2017-06-12T00:00:00",
          "2017-06-19T00:00:00",
          "2017-06-26T00:00:00",
          "2017-07-03T00:00:00",
          "2017-07-10T00:00:00",
          "2017-07-17T00:00:00",
          "2017-07-24T00:00:00",
          "2017-07-31T00:00:00",
          "2017-08-07T00:00:00",
          "2017-08-14T00:00:00",
          "2017-08-21T00:00:00",
          "2017-08-28T00:00:00",
          "2017-09-04T00:00:00",
          "2017-09-11T00:00:00",
          "2017-09-18T00:00:00",
          "2017-09-25T00:00:00",
          "2017-10-02T00:00:00",
          "2017-10-09T00:00:00",
          "2017-10-16T00:00:00",
          "2017-10-23T00:00:00",
          "2017-10-29T23:00:00",
          "2017-11-05T23:00:00",
          "2017-11-12T23:00:00",
          "2017-11-19T23:00:00",
          "2017-11-26T23:00:00",
          "2017-12-03T23:00:00",
          "2017-12-10T23:00:00",
          "2017-12-17T23:00:00",
          "2017-12-24T23:00:00",
          "2017-12-31T23:00:00",
          "2018-01-07T23:00:00",
          "2018-01-14T23:00:00",
          "2018-01-21T23:00:00",
          "2018-01-28T23:00:00",
          "2018-02-04T23:00:00",
          "2018-02-11T23:00:00",
          "2018-02-18T23:00:00",
          "2018-02-25T23:00:00",
          "2018-03-04T23:00:00",
          "2018-03-11T23:00:00",
          "2018-03-18T23:00:00",
          "2018-03-26T00:00:00",
          "2018-04-02T00:00:00",
          "2018-04-09T00:00:00",
          "2018-04-16T00:00:00",
          "2018-04-23T00:00:00",
          "2018-04-30T00:00:00",
          "2018-05-07T00:00:00",
          "2018-05-14T00:00:00",
          "2018-05-21T00:00:00",
          "2018-05-28T00:00:00",
          "2018-06-04T00:00:00",
          "2018-06-11T00:00:00",
          "2018-06-18T00:00:00",
          "2018-06-25T00:00:00",
          "2018-07-02T00:00:00",
          "2018-07-09T00:00:00",
          "2018-07-16T00:00:00",
          "2018-07-23T00:00:00",
          "2018-07-30T00:00:00",
          "2018-08-06T00:00:00",
          "2018-08-13T00:00:00",
          "2018-08-20T00:00:00",
          "2018-08-27T00:00:00",
          "2018-09-03T00:00:00",
          "2018-09-10T00:00:00",
          "2018-09-17T00:00:00",
          "2018-09-24T00:00:00",
          "2018-10-01T00:00:00",
          "2018-10-08T00:00:00",
          "2018-10-15T00:00:00",
          "2018-10-22T00:00:00",
          "2018-10-28T23:00:00",
          "2018-11-04T23:00:00",
          "2018-11-11T23:00:00",
          "2018-11-18T23:00:00",
          "2018-11-25T23:00:00",
          "2018-12-02T23:00:00",
          "2018-12-09T23:00:00",
          "2018-12-16T23:00:00",
          "2018-12-23T23:00:00",
          "2018-12-30T23:00:00",
          "2019-01-06T23:00:00",
          "2019-01-13T23:00:00",
          "2019-01-20T23:00:00",
          "2019-01-27T23:00:00",
          "2019-02-03T23:00:00",
          "2019-02-10T23:00:00",
          "2019-02-17T23:00:00",
          "2019-02-24T23:00:00",
          "2019-03-03T23:00:00",
          "2019-03-10T23:00:00",
          "2019-03-17T23:00:00",
          "2019-03-24T23:00:00",
          "2019-04-01T00:00:00",
          "2019-04-08T00:00:00",
          "2019-04-15T00:00:00",
          "2019-04-22T00:00:00",
          "2019-04-29T00:00:00",
          "2019-05-06T00:00:00",
          "2019-05-13T00:00:00",
          "2019-05-20T00:00:00",
          "2019-05-27T00:00:00",
          "2019-06-03T00:00:00",
          "2019-06-10T00:00:00",
          "2019-06-17T00:00:00",
          "2019-06-24T00:00:00",
          "2019-07-01T00:00:00",
          "2019-07-08T00:00:00",
          "2019-07-15T00:00:00",
          "2019-07-22T00:00:00",
          "2019-07-29T00:00:00",
          "2019-08-05T00:00:00",
          "2019-08-12T00:00:00",
          "2019-08-19T00:00:00",
          "2019-08-26T00:00:00",
          "2019-09-02T00:00:00",
          "2019-09-09T00:00:00",
          "2019-09-16T00:00:00",
          "2019-09-23T00:00:00"
         ],
         "y": [
          0,
          1461.25,
          1289.5,
          1430.25,
          1767.777777777781,
          2234.722222222219,
          2720.875,
          1668.625,
          1575,
          935.666666666657,
          3021.833333333343,
          3491.5,
          1759.5,
          1317,
          1144.5,
          677.25,
          1038,
          2356.25,
          2493.944444444438,
          2066.305555555562,
          1745.75,
          2124.5,
          1091.125,
          1636.375,
          1266,
          1369.5,
          1530.1243523315936,
          1349.9693976684066,
          1192.7354166666628,
          1927.1000000000056,
          2788.3624999999884,
          3294.653645833343,
          3411.1875,
          3656.613399621216,
          4288.45454545453,
          2854.3242424242494,
          3696.5166666666632,
          9593.119791666686,
          23513.875,
          10744.463541666655,
          10309.837962962978,
          7920.162037037021,
          5438.270833333314,
          5708.338541666686,
          8078.994791666686,
          3258.5,
          2380.880208333314,
          1828.078415697673,
          1113.9927648578887,
          716.444444444438,
          1008.888888888876,
          1770.222222222248,
          1122.22222222219,
          800,
          683.4166666666861,
          765.625,
          597.625,
          980.777777777752,
          677.7222222222482,
          568.7000000000116,
          599.2000000000116,
          1355.5999999999767,
          2111.444444444438,
          2174.755555555573,
          1152.2000000000114,
          966.0999999999768,
          877.1666666666861,
          529.6666666666279,
          971.666666666686,
          1561,
          660.1875,
          660.1875,
          824.875,
          738.194444444438,
          634.805555555562,
          742.125,
          1220.625,
          782.444444444438,
          787.4933793897508,
          757.2028011658114,
          814.46875,
          1400.296875,
          2737.172453703708,
          3477.444444444438,
          2074.587962962978,
          1289.680555555562,
          894.5833333333139,
          985.170138888876,
          1238.4166666666858,
          1003.475694444438,
          942.1967592592696,
          1610.777777777752,
          916.2587962963152,
          950.4958333333489,
          1037.5,
          1400,
          1641.71875,
          1586.7850378787846,
          1468.0909090908826,
          754.8412979606073,
          912.697338403028,
          1128.8666666666977,
          1147.5333333333256,
          1194.2000000000114,
          2125.399999999965,
          2273.8666666666973,
          2157.888888888876,
          1515.888888888876,
          1628.805555555562,
          1520.125,
          1244.625,
          974.666666666686,
          896.9583333333139,
          1243.375,
          1221.5,
          1093.8333333333142,
          1832.166666666686,
          2179.7999999999884,
          1883.700000000012,
          1197.777777777752,
          1383.8888888889346,
          1458.333333333314,
          2023.947368421068,
          2448.1578947368544,
          2448.157894736796,
          2699.736842105281,
          2305,
          1977.5,
          1946.2184000000125,
          1941.0047999999952,
          1941.0047999999952,
          2112.591444444435,
          3194.3333333333144,
          2429.680555555562,
          3169.2175925925844,
          14428.92129629635,
          45759.91666666663,
          149398.66666666663,
          72918.16203703707,
          42787.42129629629,
          28921.884259259325,
          26381.44444444438,
          32724.35185185192,
          18468.28472222213,
          19188.298611111124,
          21199.95707070711,
          13310.818181818118,
          10693.970117845223,
          10903.976851851796,
          28119.635416666624,
          62580.921875,
          28970.375000000124,
          33387.08145178878,
          21610.11125654448,
          9802.25,
          15916,
          29316,
          31865.19999999996,
          38238.19999999995,
          35567.369230769335,
          19542.384615384508,
          16261.512820512988,
          8059.333333333256,
          9736.833333333256,
          19801.83333333349,
          19801.833333333256,
          26135.5,
          30885.75,
          24984.535714285685,
          10231.5,
          14675.668831168909,
          25786.090909090824,
          21602.454545454588,
          19886.090909090824,
          19853.909090909176,
          22436.909090909176,
          20515.090909090824,
          37722.14285714296
         ]
        },
        {
         "line": {
          "color": "rgba(253, 231, 36)",
          "width": 2
         },
         "mode": "lines",
         "name": "The Heartland Instit...",
         "type": "scatter",
         "x": [
          "2016-05-02T00:00:00",
          "2016-05-09T00:00:00",
          "2016-05-16T00:00:00",
          "2016-05-23T00:00:00",
          "2016-05-30T00:00:00",
          "2016-06-06T00:00:00",
          "2016-06-13T00:00:00",
          "2016-06-20T00:00:00",
          "2016-06-27T00:00:00",
          "2016-07-04T00:00:00",
          "2016-07-11T00:00:00",
          "2016-07-18T00:00:00",
          "2016-07-25T00:00:00",
          "2016-08-01T00:00:00",
          "2016-08-08T00:00:00",
          "2016-08-15T00:00:00",
          "2016-08-22T00:00:00",
          "2016-08-29T00:00:00",
          "2016-09-05T00:00:00",
          "2016-09-12T00:00:00",
          "2016-09-19T00:00:00",
          "2016-09-26T00:00:00",
          "2016-10-03T00:00:00",
          "2016-10-10T00:00:00",
          "2016-10-17T00:00:00",
          "2016-10-24T00:00:00",
          "2016-10-30T23:00:00",
          "2016-11-06T23:00:00",
          "2016-11-13T23:00:00",
          "2016-11-20T23:00:00",
          "2016-11-27T23:00:00",
          "2016-12-04T23:00:00",
          "2016-12-11T23:00:00",
          "2016-12-18T23:00:00",
          "2016-12-25T23:00:00",
          "2017-01-01T23:00:00",
          "2017-01-08T23:00:00",
          "2017-01-15T23:00:00",
          "2017-01-22T23:00:00",
          "2017-01-29T23:00:00",
          "2017-02-05T23:00:00",
          "2017-02-12T23:00:00",
          "2017-02-19T23:00:00",
          "2017-02-26T23:00:00",
          "2017-03-05T23:00:00",
          "2017-03-12T23:00:00",
          "2017-03-19T23:00:00",
          "2017-03-27T00:00:00",
          "2017-04-03T00:00:00",
          "2017-04-10T00:00:00",
          "2017-04-17T00:00:00",
          "2017-04-24T00:00:00",
          "2017-05-01T00:00:00",
          "2017-05-08T00:00:00",
          "2017-05-15T00:00:00",
          "2017-05-22T00:00:00",
          "2017-05-29T00:00:00",
          "2017-06-05T00:00:00",
          "2017-06-12T00:00:00",
          "2017-06-19T00:00:00",
          "2017-06-26T00:00:00",
          "2017-07-03T00:00:00",
          "2017-07-10T00:00:00",
          "2017-07-17T00:00:00",
          "2017-07-24T00:00:00",
          "2017-07-31T00:00:00",
          "2017-08-07T00:00:00",
          "2017-08-14T00:00:00",
          "2017-08-21T00:00:00",
          "2017-08-28T00:00:00",
          "2017-09-04T00:00:00",
          "2017-09-11T00:00:00",
          "2017-09-18T00:00:00",
          "2017-09-25T00:00:00",
          "2017-10-02T00:00:00",
          "2017-10-09T00:00:00",
          "2017-10-16T00:00:00",
          "2017-10-23T00:00:00",
          "2017-10-29T23:00:00",
          "2017-11-05T23:00:00",
          "2017-11-12T23:00:00",
          "2017-11-19T23:00:00",
          "2017-11-26T23:00:00",
          "2017-12-03T23:00:00",
          "2017-12-10T23:00:00",
          "2017-12-17T23:00:00",
          "2017-12-24T23:00:00",
          "2017-12-31T23:00:00",
          "2018-01-07T23:00:00",
          "2018-01-14T23:00:00",
          "2018-01-21T23:00:00",
          "2018-01-28T23:00:00",
          "2018-02-04T23:00:00",
          "2018-02-11T23:00:00",
          "2018-02-18T23:00:00",
          "2018-02-25T23:00:00",
          "2018-03-04T23:00:00",
          "2018-03-11T23:00:00",
          "2018-03-18T23:00:00",
          "2018-03-26T00:00:00",
          "2018-04-02T00:00:00",
          "2018-04-09T00:00:00",
          "2018-04-16T00:00:00",
          "2018-04-23T00:00:00",
          "2018-04-30T00:00:00",
          "2018-05-07T00:00:00",
          "2018-05-14T00:00:00",
          "2018-05-21T00:00:00",
          "2018-05-28T00:00:00",
          "2018-06-04T00:00:00",
          "2018-06-11T00:00:00",
          "2018-06-18T00:00:00",
          "2018-06-25T00:00:00",
          "2018-07-02T00:00:00",
          "2018-07-09T00:00:00",
          "2018-07-16T00:00:00",
          "2018-07-23T00:00:00",
          "2018-07-30T00:00:00",
          "2018-08-06T00:00:00",
          "2018-08-13T00:00:00",
          "2018-08-20T00:00:00",
          "2018-08-27T00:00:00",
          "2018-09-03T00:00:00",
          "2018-09-10T00:00:00",
          "2018-09-17T00:00:00",
          "2018-09-24T00:00:00",
          "2018-10-01T00:00:00",
          "2018-10-08T00:00:00",
          "2018-10-15T00:00:00",
          "2018-10-22T00:00:00",
          "2018-10-28T23:00:00",
          "2018-11-04T23:00:00",
          "2018-11-11T23:00:00",
          "2018-11-18T23:00:00",
          "2018-11-25T23:00:00",
          "2018-12-02T23:00:00",
          "2018-12-09T23:00:00",
          "2018-12-16T23:00:00",
          "2018-12-23T23:00:00",
          "2018-12-30T23:00:00",
          "2019-01-06T23:00:00",
          "2019-01-13T23:00:00",
          "2019-01-20T23:00:00",
          "2019-01-27T23:00:00",
          "2019-02-03T23:00:00",
          "2019-02-10T23:00:00",
          "2019-02-17T23:00:00",
          "2019-02-24T23:00:00",
          "2019-03-03T23:00:00",
          "2019-03-10T23:00:00",
          "2019-03-17T23:00:00",
          "2019-03-24T23:00:00",
          "2019-04-01T00:00:00",
          "2019-04-08T00:00:00",
          "2019-04-15T00:00:00",
          "2019-04-22T00:00:00",
          "2019-04-29T00:00:00",
          "2019-05-06T00:00:00",
          "2019-05-13T00:00:00",
          "2019-05-20T00:00:00",
          "2019-05-27T00:00:00",
          "2019-06-03T00:00:00",
          "2019-06-10T00:00:00",
          "2019-06-17T00:00:00",
          "2019-06-24T00:00:00",
          "2019-07-01T00:00:00",
          "2019-07-08T00:00:00",
          "2019-07-15T00:00:00",
          "2019-07-22T00:00:00",
          "2019-07-29T00:00:00",
          "2019-08-05T00:00:00",
          "2019-08-12T00:00:00",
          "2019-08-19T00:00:00",
          "2019-08-26T00:00:00",
          "2019-09-02T00:00:00",
          "2019-09-09T00:00:00",
          "2019-09-16T00:00:00",
          "2019-09-23T00:00:00"
         ],
         "y": [
          2819,
          5276,
          5674.5,
          5323.5,
          0,
          5989.333333333371,
          4929.666666666628,
          4599.75,
          5146.25,
          2467.5,
          2836.5,
          3969.875,
          3451.125,
          2862.75,
          3062.25,
          3014.125,
          2177.875,
          2712.5,
          6023,
          4294.125,
          3044.875,
          2833.375,
          2901.125,
          2805.25,
          2038.75,
          2703.75,
          2355.244818652864,
          2482.2760146805085,
          3968.903645833256,
          5052.6875,
          4916.0976982527645,
          4564.4516129031545,
          4564.451612903271,
          4564.451612903271,
          4564.4516129031545,
          4538.446370967779,
          6442.172916666606,
          10672.21875,
          12091.21875,
          0,
          5889.96875,
          5247.338541666743,
          5151.557291666628,
          4992.984375,
          4621.53125,
          4764.895833333372,
          4834.375,
          15010.687036431043,
          17475.289005235536,
          12600.925000000048,
          5590.430555555504,
          5647.444444444496,
          7168,
          4871.5,
          6013.055555555504,
          5620.444444444496,
          4632,
          6613.600000000093,
          13283.199999999952,
          8724.699999999952,
          6067.944444444496,
          3984.555555555504,
          4678.625,
          5614.774999999907,
          5259.225000000093,
          4629.375,
          4760,
          4296.666666666743,
          4111.333333333257,
          3450.222222222248,
          4190.777777777752,
          4487,
          6256.25,
          7844.25,
          5739.125,
          4673.375,
          3731.875,
          4286.875,
          3729.591968911933,
          3624.871572754812,
          5993.567708333256,
          8079.75,
          5639.015625,
          6271.125,
          5296.088541666743,
          3971.96875,
          3329.958333333256,
          3924.458333333256,
          7813.821759259327,
          12261.44907407416,
          11858,
          6825.385416666511,
          6267.109953703824,
          5284.900462962921,
          4668.758333333302,
          5095.300000000047,
          5610.842708333394,
          5180.786458333257,
          4564.705323193921,
          3792.4562737641386,
          3873.909831613303,
          3935,
          3932.650793650886,
          3917.414141414221,
          3883.727272727061,
          4283.525252525462,
          4136.777777777752,
          3756.208333333256,
          3926.125,
          4473.875,
          4068.125,
          3393,
          3274.5,
          3877.75,
          5178.75,
          6426,
          4719,
          4564.5,
          6522,
          11462.5,
          12523,
          9743.190476190532,
          7658.333333333256,
          7658.333333333256,
          9636.542857142864,
          10477.850000000091,
          6623.75,
          9170,
          9062,
          8918,
          8791.198156682076,
          8810.176843317924,
          7940.601851851909,
          5622.555555555504,
          5883.879629629664,
          12725.94733796292,
          17605.591382575687,
          19190.81818181835,
          11673.569023568882,
          10085.41203703708,
          9441.125,
          11063.71875,
          19403.984375,
          45451.875,
          344696.73958333326,
          136190.36718750026,
          99424.9375,
          76239.63223379618,
          52313.33796296315,
          36582.77777777752,
          57031.67650462968,
          126824.171875,
          81743.69682591641,
          51479.20942408359,
          51962,
          57921.66666666651,
          49697.66666666697,
          40531.52380952379,
          28310,
          25116.84285714291,
          20859.299999999814,
          19670,
          17421.200000000186,
          14422.799999999814,
          15862,
          20909.222222222008,
          19992.027777777985,
          15437.25,
          16460.277777777985,
          32198.44444444404,
          99189.17777777788,
          87950.93333333357,
          58825,
          63296.33333333303,
          41170.33333333349,
          35856.88888888899,
          31810.361111111008,
          28417.32142857136
         ]
        },
        {
         "hoverinfo": "text",
         "line": {
          "color": "indianred",
          "width": 2
         },
         "mode": "lines",
         "showlegend": false,
         "text": "Event:  Great Barrier Reef Bleaching",
         "type": "scatter",
         "x": [
          "2016-08-03T00:00:00",
          "2016-08-03T00:00:00"
         ],
         "y": [
          0,
          200000
         ]
        },
        {
         "hoverinfo": "text",
         "line": {
          "color": "indianred",
          "width": 2
         },
         "mode": "lines",
         "showlegend": false,
         "text": "Event:  US Withdrawal from Paris Agreement",
         "type": "scatter",
         "x": [
          "2017-06-01T00:00:00",
          "2017-06-01T00:00:00"
         ],
         "y": [
          0,
          200000
         ]
        },
        {
         "hoverinfo": "text",
         "line": {
          "color": "indianred",
          "width": 2
         },
         "mode": "lines",
         "showlegend": false,
         "text": "Event:  Hurricane Harvey",
         "type": "scatter",
         "x": [
          "2017-08-25T00:00:00",
          "2017-08-25T00:00:00"
         ],
         "y": [
          0,
          200000
         ]
        },
        {
         "hoverinfo": "text",
         "line": {
          "color": "indianred",
          "width": 2
         },
         "mode": "lines",
         "showlegend": false,
         "text": "Event:  EU Bans Neonicotinoids",
         "type": "scatter",
         "x": [
          "2018-05-08T00:00:00",
          "2018-05-08T00:00:00"
         ],
         "y": [
          0,
          200000
         ]
        },
        {
         "hoverinfo": "text",
         "line": {
          "color": "indianred",
          "width": 2
         },
         "mode": "lines",
         "showlegend": false,
         "text": "Event:  IPCC Special Report on Global Warming of 1.5 °C",
         "type": "scatter",
         "x": [
          "2018-10-08T00:00:00",
          "2018-10-08T00:00:00"
         ],
         "y": [
          0,
          200000
         ]
        },
        {
         "hoverinfo": "text",
         "line": {
          "color": "indianred",
          "width": 2
         },
         "mode": "lines",
         "showlegend": false,
         "text": "Event:  Greenland Ice Melting Accelerating",
         "type": "scatter",
         "x": [
          "2019-01-15T00:00:00",
          "2019-01-15T00:00:00"
         ],
         "y": [
          0,
          200000
         ]
        },
        {
         "hoverinfo": "text",
         "line": {
          "color": "indianred",
          "width": 2
         },
         "mode": "lines",
         "showlegend": false,
         "text": "Event:  Extinction Rebellion Protests",
         "type": "scatter",
         "x": [
          "2019-05-20T00:00:00",
          "2019-05-20T00:00:00"
         ],
         "y": [
          0,
          200000
         ]
        },
        {
         "hoverinfo": "text",
         "line": {
          "color": "indianred",
          "width": 2
         },
         "mode": "lines",
         "showlegend": false,
         "text": "Event:  Europe's Record Heatwave",
         "type": "scatter",
         "x": [
          "2019-07-24T00:00:00",
          "2019-07-24T00:00:00"
         ],
         "y": [
          0,
          200000
         ]
        },
        {
         "hoverinfo": "text",
         "line": {
          "color": "indianred",
          "width": 2
         },
         "mode": "lines",
         "showlegend": false,
         "text": "Event:  Iceland Commemorates First Glacier Lost to Climate Change",
         "type": "scatter",
         "x": [
          "2019-08-09T00:00:00",
          "2019-08-09T00:00:00"
         ],
         "y": [
          0,
          200000
         ]
        },
        {
         "hoverinfo": "text",
         "line": {
          "color": "indianred",
          "width": 2
         },
         "mode": "lines",
         "showlegend": false,
         "text": "Event:  Global Climate Strike",
         "type": "scatter",
         "x": [
          "2019-09-20T00:00:00",
          "2019-09-20T00:00:00"
         ],
         "y": [
          0,
          200000
         ]
        },
        {
         "hoverinfo": "text",
         "line": {
          "color": "indianred",
          "width": 2
         },
         "mode": "lines",
         "showlegend": false,
         "text": "Event:  UN Climate Action Summit 2019",
         "type": "scatter",
         "x": [
          "2019-09-23T00:00:00",
          "2019-09-23T00:00:00"
         ],
         "y": [
          0,
          200000
         ]
        },
        {
         "hoverinfo": "text",
         "line": {
          "color": "indianred",
          "width": 2
         },
         "mode": "lines",
         "showlegend": false,
         "text": "Event:  Great Barrier Reef Bleaching",
         "type": "scatter",
         "x": [
          "2016-08-03T00:00:00",
          "2016-08-03T00:00:00"
         ],
         "y": [
          0,
          400000
         ]
        },
        {
         "hoverinfo": "text",
         "line": {
          "color": "indianred",
          "width": 2
         },
         "mode": "lines",
         "showlegend": false,
         "text": "Event:  US Withdrawal from Paris Agreement",
         "type": "scatter",
         "x": [
          "2017-06-01T00:00:00",
          "2017-06-01T00:00:00"
         ],
         "y": [
          0,
          400000
         ]
        },
        {
         "hoverinfo": "text",
         "line": {
          "color": "indianred",
          "width": 2
         },
         "mode": "lines",
         "showlegend": false,
         "text": "Event:  Hurricane Harvey",
         "type": "scatter",
         "x": [
          "2017-08-25T00:00:00",
          "2017-08-25T00:00:00"
         ],
         "y": [
          0,
          400000
         ]
        },
        {
         "hoverinfo": "text",
         "line": {
          "color": "indianred",
          "width": 2
         },
         "mode": "lines",
         "showlegend": false,
         "text": "Event:  EU Bans Neonicotinoids",
         "type": "scatter",
         "x": [
          "2018-05-08T00:00:00",
          "2018-05-08T00:00:00"
         ],
         "y": [
          0,
          400000
         ]
        },
        {
         "hoverinfo": "text",
         "line": {
          "color": "indianred",
          "width": 2
         },
         "mode": "lines",
         "showlegend": false,
         "text": "Event:  IPCC Special Report on Global Warming of 1.5 °C",
         "type": "scatter",
         "x": [
          "2018-10-08T00:00:00",
          "2018-10-08T00:00:00"
         ],
         "y": [
          0,
          400000
         ]
        },
        {
         "hoverinfo": "text",
         "line": {
          "color": "indianred",
          "width": 2
         },
         "mode": "lines",
         "showlegend": false,
         "text": "Event:  Greenland Ice Melting Accelerating",
         "type": "scatter",
         "x": [
          "2019-01-15T00:00:00",
          "2019-01-15T00:00:00"
         ],
         "y": [
          0,
          400000
         ]
        },
        {
         "hoverinfo": "text",
         "line": {
          "color": "indianred",
          "width": 2
         },
         "mode": "lines",
         "showlegend": false,
         "text": "Event:  Extinction Rebellion Protests",
         "type": "scatter",
         "x": [
          "2019-05-20T00:00:00",
          "2019-05-20T00:00:00"
         ],
         "y": [
          0,
          400000
         ]
        },
        {
         "hoverinfo": "text",
         "line": {
          "color": "indianred",
          "width": 2
         },
         "mode": "lines",
         "showlegend": false,
         "text": "Event:  Europe's Record Heatwave",
         "type": "scatter",
         "x": [
          "2019-07-24T00:00:00",
          "2019-07-24T00:00:00"
         ],
         "y": [
          0,
          400000
         ]
        },
        {
         "hoverinfo": "text",
         "line": {
          "color": "indianred",
          "width": 2
         },
         "mode": "lines",
         "showlegend": false,
         "text": "Event:  Iceland Commemorates First Glacier Lost to Climate Change",
         "type": "scatter",
         "x": [
          "2019-08-09T00:00:00",
          "2019-08-09T00:00:00"
         ],
         "y": [
          0,
          400000
         ]
        },
        {
         "hoverinfo": "text",
         "line": {
          "color": "indianred",
          "width": 2
         },
         "mode": "lines",
         "showlegend": false,
         "text": "Event:  Global Climate Strike",
         "type": "scatter",
         "x": [
          "2019-09-20T00:00:00",
          "2019-09-20T00:00:00"
         ],
         "y": [
          0,
          400000
         ]
        },
        {
         "hoverinfo": "text",
         "line": {
          "color": "indianred",
          "width": 2
         },
         "mode": "lines",
         "showlegend": false,
         "text": "Event:  UN Climate Action Summit 2019",
         "type": "scatter",
         "x": [
          "2019-09-23T00:00:00",
          "2019-09-23T00:00:00"
         ],
         "y": [
          0,
          400000
         ]
        },
        {
         "hoverinfo": "text",
         "line": {
          "color": "indianred",
          "width": 2
         },
         "mode": "lines",
         "showlegend": false,
         "text": "Event:  Great Barrier Reef Bleaching",
         "type": "scatter",
         "x": [
          "2016-08-03T00:00:00",
          "2016-08-03T00:00:00"
         ],
         "y": [
          0,
          600000
         ]
        },
        {
         "hoverinfo": "text",
         "line": {
          "color": "indianred",
          "width": 2
         },
         "mode": "lines",
         "showlegend": false,
         "text": "Event:  US Withdrawal from Paris Agreement",
         "type": "scatter",
         "x": [
          "2017-06-01T00:00:00",
          "2017-06-01T00:00:00"
         ],
         "y": [
          0,
          600000
         ]
        },
        {
         "hoverinfo": "text",
         "line": {
          "color": "indianred",
          "width": 2
         },
         "mode": "lines",
         "showlegend": false,
         "text": "Event:  Hurricane Harvey",
         "type": "scatter",
         "x": [
          "2017-08-25T00:00:00",
          "2017-08-25T00:00:00"
         ],
         "y": [
          0,
          600000
         ]
        },
        {
         "hoverinfo": "text",
         "line": {
          "color": "indianred",
          "width": 2
         },
         "mode": "lines",
         "showlegend": false,
         "text": "Event:  EU Bans Neonicotinoids",
         "type": "scatter",
         "x": [
          "2018-05-08T00:00:00",
          "2018-05-08T00:00:00"
         ],
         "y": [
          0,
          600000
         ]
        },
        {
         "hoverinfo": "text",
         "line": {
          "color": "indianred",
          "width": 2
         },
         "mode": "lines",
         "showlegend": false,
         "text": "Event:  IPCC Special Report on Global Warming of 1.5 °C",
         "type": "scatter",
         "x": [
          "2018-10-08T00:00:00",
          "2018-10-08T00:00:00"
         ],
         "y": [
          0,
          600000
         ]
        },
        {
         "hoverinfo": "text",
         "line": {
          "color": "indianred",
          "width": 2
         },
         "mode": "lines",
         "showlegend": false,
         "text": "Event:  Greenland Ice Melting Accelerating",
         "type": "scatter",
         "x": [
          "2019-01-15T00:00:00",
          "2019-01-15T00:00:00"
         ],
         "y": [
          0,
          600000
         ]
        },
        {
         "hoverinfo": "text",
         "line": {
          "color": "indianred",
          "width": 2
         },
         "mode": "lines",
         "showlegend": false,
         "text": "Event:  Extinction Rebellion Protests",
         "type": "scatter",
         "x": [
          "2019-05-20T00:00:00",
          "2019-05-20T00:00:00"
         ],
         "y": [
          0,
          600000
         ]
        },
        {
         "hoverinfo": "text",
         "line": {
          "color": "indianred",
          "width": 2
         },
         "mode": "lines",
         "showlegend": false,
         "text": "Event:  Europe's Record Heatwave",
         "type": "scatter",
         "x": [
          "2019-07-24T00:00:00",
          "2019-07-24T00:00:00"
         ],
         "y": [
          0,
          600000
         ]
        },
        {
         "hoverinfo": "text",
         "line": {
          "color": "indianred",
          "width": 2
         },
         "mode": "lines",
         "showlegend": false,
         "text": "Event:  Iceland Commemorates First Glacier Lost to Climate Change",
         "type": "scatter",
         "x": [
          "2019-08-09T00:00:00",
          "2019-08-09T00:00:00"
         ],
         "y": [
          0,
          600000
         ]
        },
        {
         "hoverinfo": "text",
         "line": {
          "color": "indianred",
          "width": 2
         },
         "mode": "lines",
         "showlegend": false,
         "text": "Event:  Global Climate Strike",
         "type": "scatter",
         "x": [
          "2019-09-20T00:00:00",
          "2019-09-20T00:00:00"
         ],
         "y": [
          0,
          600000
         ]
        },
        {
         "hoverinfo": "text",
         "line": {
          "color": "indianred",
          "width": 2
         },
         "mode": "lines",
         "showlegend": false,
         "text": "Event:  UN Climate Action Summit 2019",
         "type": "scatter",
         "x": [
          "2019-09-23T00:00:00",
          "2019-09-23T00:00:00"
         ],
         "y": [
          0,
          600000
         ]
        },
        {
         "hoverinfo": "text",
         "line": {
          "color": "indianred",
          "width": 2
         },
         "mode": "lines",
         "showlegend": false,
         "text": "Event:  Great Barrier Reef Bleaching",
         "type": "scatter",
         "x": [
          "2016-08-03T00:00:00",
          "2016-08-03T00:00:00"
         ],
         "y": [
          0,
          800000
         ]
        },
        {
         "hoverinfo": "text",
         "line": {
          "color": "indianred",
          "width": 2
         },
         "mode": "lines",
         "showlegend": false,
         "text": "Event:  US Withdrawal from Paris Agreement",
         "type": "scatter",
         "x": [
          "2017-06-01T00:00:00",
          "2017-06-01T00:00:00"
         ],
         "y": [
          0,
          800000
         ]
        },
        {
         "hoverinfo": "text",
         "line": {
          "color": "indianred",
          "width": 2
         },
         "mode": "lines",
         "showlegend": false,
         "text": "Event:  Hurricane Harvey",
         "type": "scatter",
         "x": [
          "2017-08-25T00:00:00",
          "2017-08-25T00:00:00"
         ],
         "y": [
          0,
          800000
         ]
        },
        {
         "hoverinfo": "text",
         "line": {
          "color": "indianred",
          "width": 2
         },
         "mode": "lines",
         "showlegend": false,
         "text": "Event:  EU Bans Neonicotinoids",
         "type": "scatter",
         "x": [
          "2018-05-08T00:00:00",
          "2018-05-08T00:00:00"
         ],
         "y": [
          0,
          800000
         ]
        },
        {
         "hoverinfo": "text",
         "line": {
          "color": "indianred",
          "width": 2
         },
         "mode": "lines",
         "showlegend": false,
         "text": "Event:  IPCC Special Report on Global Warming of 1.5 °C",
         "type": "scatter",
         "x": [
          "2018-10-08T00:00:00",
          "2018-10-08T00:00:00"
         ],
         "y": [
          0,
          800000
         ]
        },
        {
         "hoverinfo": "text",
         "line": {
          "color": "indianred",
          "width": 2
         },
         "mode": "lines",
         "showlegend": false,
         "text": "Event:  Greenland Ice Melting Accelerating",
         "type": "scatter",
         "x": [
          "2019-01-15T00:00:00",
          "2019-01-15T00:00:00"
         ],
         "y": [
          0,
          800000
         ]
        },
        {
         "hoverinfo": "text",
         "line": {
          "color": "indianred",
          "width": 2
         },
         "mode": "lines",
         "showlegend": false,
         "text": "Event:  Extinction Rebellion Protests",
         "type": "scatter",
         "x": [
          "2019-05-20T00:00:00",
          "2019-05-20T00:00:00"
         ],
         "y": [
          0,
          800000
         ]
        },
        {
         "hoverinfo": "text",
         "line": {
          "color": "indianred",
          "width": 2
         },
         "mode": "lines",
         "showlegend": false,
         "text": "Event:  Europe's Record Heatwave",
         "type": "scatter",
         "x": [
          "2019-07-24T00:00:00",
          "2019-07-24T00:00:00"
         ],
         "y": [
          0,
          800000
         ]
        },
        {
         "hoverinfo": "text",
         "line": {
          "color": "indianred",
          "width": 2
         },
         "mode": "lines",
         "showlegend": false,
         "text": "Event:  Iceland Commemorates First Glacier Lost to Climate Change",
         "type": "scatter",
         "x": [
          "2019-08-09T00:00:00",
          "2019-08-09T00:00:00"
         ],
         "y": [
          0,
          800000
         ]
        },
        {
         "hoverinfo": "text",
         "line": {
          "color": "indianred",
          "width": 2
         },
         "mode": "lines",
         "showlegend": false,
         "text": "Event:  Global Climate Strike",
         "type": "scatter",
         "x": [
          "2019-09-20T00:00:00",
          "2019-09-20T00:00:00"
         ],
         "y": [
          0,
          800000
         ]
        },
        {
         "hoverinfo": "text",
         "line": {
          "color": "indianred",
          "width": 2
         },
         "mode": "lines",
         "showlegend": false,
         "text": "Event:  UN Climate Action Summit 2019",
         "type": "scatter",
         "x": [
          "2019-09-23T00:00:00",
          "2019-09-23T00:00:00"
         ],
         "y": [
          0,
          800000
         ]
        },
        {
         "hoverinfo": "text",
         "line": {
          "color": "indianred",
          "width": 2
         },
         "mode": "lines",
         "showlegend": false,
         "text": "Event:  Great Barrier Reef Bleaching",
         "type": "scatter",
         "x": [
          "2016-08-03T00:00:00",
          "2016-08-03T00:00:00"
         ],
         "y": [
          0,
          1000000
         ]
        },
        {
         "hoverinfo": "text",
         "line": {
          "color": "indianred",
          "width": 2
         },
         "mode": "lines",
         "showlegend": false,
         "text": "Event:  US Withdrawal from Paris Agreement",
         "type": "scatter",
         "x": [
          "2017-06-01T00:00:00",
          "2017-06-01T00:00:00"
         ],
         "y": [
          0,
          1000000
         ]
        },
        {
         "hoverinfo": "text",
         "line": {
          "color": "indianred",
          "width": 2
         },
         "mode": "lines",
         "showlegend": false,
         "text": "Event:  Hurricane Harvey",
         "type": "scatter",
         "x": [
          "2017-08-25T00:00:00",
          "2017-08-25T00:00:00"
         ],
         "y": [
          0,
          1000000
         ]
        },
        {
         "hoverinfo": "text",
         "line": {
          "color": "indianred",
          "width": 2
         },
         "mode": "lines",
         "showlegend": false,
         "text": "Event:  EU Bans Neonicotinoids",
         "type": "scatter",
         "x": [
          "2018-05-08T00:00:00",
          "2018-05-08T00:00:00"
         ],
         "y": [
          0,
          1000000
         ]
        },
        {
         "hoverinfo": "text",
         "line": {
          "color": "indianred",
          "width": 2
         },
         "mode": "lines",
         "showlegend": false,
         "text": "Event:  IPCC Special Report on Global Warming of 1.5 °C",
         "type": "scatter",
         "x": [
          "2018-10-08T00:00:00",
          "2018-10-08T00:00:00"
         ],
         "y": [
          0,
          1000000
         ]
        },
        {
         "hoverinfo": "text",
         "line": {
          "color": "indianred",
          "width": 2
         },
         "mode": "lines",
         "showlegend": false,
         "text": "Event:  Greenland Ice Melting Accelerating",
         "type": "scatter",
         "x": [
          "2019-01-15T00:00:00",
          "2019-01-15T00:00:00"
         ],
         "y": [
          0,
          1000000
         ]
        },
        {
         "hoverinfo": "text",
         "line": {
          "color": "indianred",
          "width": 2
         },
         "mode": "lines",
         "showlegend": false,
         "text": "Event:  Extinction Rebellion Protests",
         "type": "scatter",
         "x": [
          "2019-05-20T00:00:00",
          "2019-05-20T00:00:00"
         ],
         "y": [
          0,
          1000000
         ]
        },
        {
         "hoverinfo": "text",
         "line": {
          "color": "indianred",
          "width": 2
         },
         "mode": "lines",
         "showlegend": false,
         "text": "Event:  Europe's Record Heatwave",
         "type": "scatter",
         "x": [
          "2019-07-24T00:00:00",
          "2019-07-24T00:00:00"
         ],
         "y": [
          0,
          1000000
         ]
        },
        {
         "hoverinfo": "text",
         "line": {
          "color": "indianred",
          "width": 2
         },
         "mode": "lines",
         "showlegend": false,
         "text": "Event:  Iceland Commemorates First Glacier Lost to Climate Change",
         "type": "scatter",
         "x": [
          "2019-08-09T00:00:00",
          "2019-08-09T00:00:00"
         ],
         "y": [
          0,
          1000000
         ]
        },
        {
         "hoverinfo": "text",
         "line": {
          "color": "indianred",
          "width": 2
         },
         "mode": "lines",
         "showlegend": false,
         "text": "Event:  Global Climate Strike",
         "type": "scatter",
         "x": [
          "2019-09-20T00:00:00",
          "2019-09-20T00:00:00"
         ],
         "y": [
          0,
          1000000
         ]
        },
        {
         "hoverinfo": "text",
         "line": {
          "color": "indianred",
          "width": 2
         },
         "mode": "lines",
         "showlegend": false,
         "text": "Event:  UN Climate Action Summit 2019",
         "type": "scatter",
         "x": [
          "2019-09-23T00:00:00",
          "2019-09-23T00:00:00"
         ],
         "y": [
          0,
          1000000
         ]
        },
        {
         "hoverinfo": "text",
         "line": {
          "color": "indianred",
          "width": 2
         },
         "mode": "lines",
         "showlegend": false,
         "text": "Event:  Great Barrier Reef Bleaching",
         "type": "scatter",
         "x": [
          "2016-08-03T00:00:00",
          "2016-08-03T00:00:00"
         ],
         "y": [
          0,
          1200000
         ]
        },
        {
         "hoverinfo": "text",
         "line": {
          "color": "indianred",
          "width": 2
         },
         "mode": "lines",
         "showlegend": false,
         "text": "Event:  US Withdrawal from Paris Agreement",
         "type": "scatter",
         "x": [
          "2017-06-01T00:00:00",
          "2017-06-01T00:00:00"
         ],
         "y": [
          0,
          1200000
         ]
        },
        {
         "hoverinfo": "text",
         "line": {
          "color": "indianred",
          "width": 2
         },
         "mode": "lines",
         "showlegend": false,
         "text": "Event:  Hurricane Harvey",
         "type": "scatter",
         "x": [
          "2017-08-25T00:00:00",
          "2017-08-25T00:00:00"
         ],
         "y": [
          0,
          1200000
         ]
        },
        {
         "hoverinfo": "text",
         "line": {
          "color": "indianred",
          "width": 2
         },
         "mode": "lines",
         "showlegend": false,
         "text": "Event:  EU Bans Neonicotinoids",
         "type": "scatter",
         "x": [
          "2018-05-08T00:00:00",
          "2018-05-08T00:00:00"
         ],
         "y": [
          0,
          1200000
         ]
        },
        {
         "hoverinfo": "text",
         "line": {
          "color": "indianred",
          "width": 2
         },
         "mode": "lines",
         "showlegend": false,
         "text": "Event:  IPCC Special Report on Global Warming of 1.5 °C",
         "type": "scatter",
         "x": [
          "2018-10-08T00:00:00",
          "2018-10-08T00:00:00"
         ],
         "y": [
          0,
          1200000
         ]
        },
        {
         "hoverinfo": "text",
         "line": {
          "color": "indianred",
          "width": 2
         },
         "mode": "lines",
         "showlegend": false,
         "text": "Event:  Greenland Ice Melting Accelerating",
         "type": "scatter",
         "x": [
          "2019-01-15T00:00:00",
          "2019-01-15T00:00:00"
         ],
         "y": [
          0,
          1200000
         ]
        },
        {
         "hoverinfo": "text",
         "line": {
          "color": "indianred",
          "width": 2
         },
         "mode": "lines",
         "showlegend": false,
         "text": "Event:  Extinction Rebellion Protests",
         "type": "scatter",
         "x": [
          "2019-05-20T00:00:00",
          "2019-05-20T00:00:00"
         ],
         "y": [
          0,
          1200000
         ]
        },
        {
         "hoverinfo": "text",
         "line": {
          "color": "indianred",
          "width": 2
         },
         "mode": "lines",
         "showlegend": false,
         "text": "Event:  Europe's Record Heatwave",
         "type": "scatter",
         "x": [
          "2019-07-24T00:00:00",
          "2019-07-24T00:00:00"
         ],
         "y": [
          0,
          1200000
         ]
        },
        {
         "hoverinfo": "text",
         "line": {
          "color": "indianred",
          "width": 2
         },
         "mode": "lines",
         "showlegend": false,
         "text": "Event:  Iceland Commemorates First Glacier Lost to Climate Change",
         "type": "scatter",
         "x": [
          "2019-08-09T00:00:00",
          "2019-08-09T00:00:00"
         ],
         "y": [
          0,
          1200000
         ]
        },
        {
         "hoverinfo": "text",
         "line": {
          "color": "indianred",
          "width": 2
         },
         "mode": "lines",
         "showlegend": false,
         "text": "Event:  Global Climate Strike",
         "type": "scatter",
         "x": [
          "2019-09-20T00:00:00",
          "2019-09-20T00:00:00"
         ],
         "y": [
          0,
          1200000
         ]
        },
        {
         "hoverinfo": "text",
         "line": {
          "color": "indianred",
          "width": 2
         },
         "mode": "lines",
         "showlegend": false,
         "text": "Event:  UN Climate Action Summit 2019",
         "type": "scatter",
         "x": [
          "2019-09-23T00:00:00",
          "2019-09-23T00:00:00"
         ],
         "y": [
          0,
          1200000
         ]
        },
        {
         "hoverinfo": "text",
         "line": {
          "color": "indianred",
          "width": 2
         },
         "mode": "lines",
         "showlegend": false,
         "text": "Event:  Great Barrier Reef Bleaching",
         "type": "scatter",
         "x": [
          "2016-08-03T00:00:00",
          "2016-08-03T00:00:00"
         ],
         "y": [
          0,
          1400000
         ]
        },
        {
         "hoverinfo": "text",
         "line": {
          "color": "indianred",
          "width": 2
         },
         "mode": "lines",
         "showlegend": false,
         "text": "Event:  US Withdrawal from Paris Agreement",
         "type": "scatter",
         "x": [
          "2017-06-01T00:00:00",
          "2017-06-01T00:00:00"
         ],
         "y": [
          0,
          1400000
         ]
        },
        {
         "hoverinfo": "text",
         "line": {
          "color": "indianred",
          "width": 2
         },
         "mode": "lines",
         "showlegend": false,
         "text": "Event:  Hurricane Harvey",
         "type": "scatter",
         "x": [
          "2017-08-25T00:00:00",
          "2017-08-25T00:00:00"
         ],
         "y": [
          0,
          1400000
         ]
        },
        {
         "hoverinfo": "text",
         "line": {
          "color": "indianred",
          "width": 2
         },
         "mode": "lines",
         "showlegend": false,
         "text": "Event:  EU Bans Neonicotinoids",
         "type": "scatter",
         "x": [
          "2018-05-08T00:00:00",
          "2018-05-08T00:00:00"
         ],
         "y": [
          0,
          1400000
         ]
        },
        {
         "hoverinfo": "text",
         "line": {
          "color": "indianred",
          "width": 2
         },
         "mode": "lines",
         "showlegend": false,
         "text": "Event:  IPCC Special Report on Global Warming of 1.5 °C",
         "type": "scatter",
         "x": [
          "2018-10-08T00:00:00",
          "2018-10-08T00:00:00"
         ],
         "y": [
          0,
          1400000
         ]
        },
        {
         "hoverinfo": "text",
         "line": {
          "color": "indianred",
          "width": 2
         },
         "mode": "lines",
         "showlegend": false,
         "text": "Event:  Greenland Ice Melting Accelerating",
         "type": "scatter",
         "x": [
          "2019-01-15T00:00:00",
          "2019-01-15T00:00:00"
         ],
         "y": [
          0,
          1400000
         ]
        },
        {
         "hoverinfo": "text",
         "line": {
          "color": "indianred",
          "width": 2
         },
         "mode": "lines",
         "showlegend": false,
         "text": "Event:  Extinction Rebellion Protests",
         "type": "scatter",
         "x": [
          "2019-05-20T00:00:00",
          "2019-05-20T00:00:00"
         ],
         "y": [
          0,
          1400000
         ]
        },
        {
         "hoverinfo": "text",
         "line": {
          "color": "indianred",
          "width": 2
         },
         "mode": "lines",
         "showlegend": false,
         "text": "Event:  Europe's Record Heatwave",
         "type": "scatter",
         "x": [
          "2019-07-24T00:00:00",
          "2019-07-24T00:00:00"
         ],
         "y": [
          0,
          1400000
         ]
        },
        {
         "hoverinfo": "text",
         "line": {
          "color": "indianred",
          "width": 2
         },
         "mode": "lines",
         "showlegend": false,
         "text": "Event:  Iceland Commemorates First Glacier Lost to Climate Change",
         "type": "scatter",
         "x": [
          "2019-08-09T00:00:00",
          "2019-08-09T00:00:00"
         ],
         "y": [
          0,
          1400000
         ]
        },
        {
         "hoverinfo": "text",
         "line": {
          "color": "indianred",
          "width": 2
         },
         "mode": "lines",
         "showlegend": false,
         "text": "Event:  Global Climate Strike",
         "type": "scatter",
         "x": [
          "2019-09-20T00:00:00",
          "2019-09-20T00:00:00"
         ],
         "y": [
          0,
          1400000
         ]
        },
        {
         "hoverinfo": "text",
         "line": {
          "color": "indianred",
          "width": 2
         },
         "mode": "lines",
         "showlegend": false,
         "text": "Event:  UN Climate Action Summit 2019",
         "type": "scatter",
         "x": [
          "2019-09-23T00:00:00",
          "2019-09-23T00:00:00"
         ],
         "y": [
          0,
          1400000
         ]
        },
        {
         "hoverinfo": "text",
         "line": {
          "color": "indianred",
          "width": 2
         },
         "mode": "lines",
         "showlegend": false,
         "text": "Event:  Great Barrier Reef Bleaching",
         "type": "scatter",
         "x": [
          "2016-08-03T00:00:00",
          "2016-08-03T00:00:00"
         ],
         "y": [
          0,
          1600000
         ]
        },
        {
         "hoverinfo": "text",
         "line": {
          "color": "indianred",
          "width": 2
         },
         "mode": "lines",
         "showlegend": false,
         "text": "Event:  US Withdrawal from Paris Agreement",
         "type": "scatter",
         "x": [
          "2017-06-01T00:00:00",
          "2017-06-01T00:00:00"
         ],
         "y": [
          0,
          1600000
         ]
        },
        {
         "hoverinfo": "text",
         "line": {
          "color": "indianred",
          "width": 2
         },
         "mode": "lines",
         "showlegend": false,
         "text": "Event:  Hurricane Harvey",
         "type": "scatter",
         "x": [
          "2017-08-25T00:00:00",
          "2017-08-25T00:00:00"
         ],
         "y": [
          0,
          1600000
         ]
        },
        {
         "hoverinfo": "text",
         "line": {
          "color": "indianred",
          "width": 2
         },
         "mode": "lines",
         "showlegend": false,
         "text": "Event:  EU Bans Neonicotinoids",
         "type": "scatter",
         "x": [
          "2018-05-08T00:00:00",
          "2018-05-08T00:00:00"
         ],
         "y": [
          0,
          1600000
         ]
        },
        {
         "hoverinfo": "text",
         "line": {
          "color": "indianred",
          "width": 2
         },
         "mode": "lines",
         "showlegend": false,
         "text": "Event:  IPCC Special Report on Global Warming of 1.5 °C",
         "type": "scatter",
         "x": [
          "2018-10-08T00:00:00",
          "2018-10-08T00:00:00"
         ],
         "y": [
          0,
          1600000
         ]
        },
        {
         "hoverinfo": "text",
         "line": {
          "color": "indianred",
          "width": 2
         },
         "mode": "lines",
         "showlegend": false,
         "text": "Event:  Greenland Ice Melting Accelerating",
         "type": "scatter",
         "x": [
          "2019-01-15T00:00:00",
          "2019-01-15T00:00:00"
         ],
         "y": [
          0,
          1600000
         ]
        },
        {
         "hoverinfo": "text",
         "line": {
          "color": "indianred",
          "width": 2
         },
         "mode": "lines",
         "showlegend": false,
         "text": "Event:  Extinction Rebellion Protests",
         "type": "scatter",
         "x": [
          "2019-05-20T00:00:00",
          "2019-05-20T00:00:00"
         ],
         "y": [
          0,
          1600000
         ]
        },
        {
         "hoverinfo": "text",
         "line": {
          "color": "indianred",
          "width": 2
         },
         "mode": "lines",
         "showlegend": false,
         "text": "Event:  Europe's Record Heatwave",
         "type": "scatter",
         "x": [
          "2019-07-24T00:00:00",
          "2019-07-24T00:00:00"
         ],
         "y": [
          0,
          1600000
         ]
        },
        {
         "hoverinfo": "text",
         "line": {
          "color": "indianred",
          "width": 2
         },
         "mode": "lines",
         "showlegend": false,
         "text": "Event:  Iceland Commemorates First Glacier Lost to Climate Change",
         "type": "scatter",
         "x": [
          "2019-08-09T00:00:00",
          "2019-08-09T00:00:00"
         ],
         "y": [
          0,
          1600000
         ]
        },
        {
         "hoverinfo": "text",
         "line": {
          "color": "indianred",
          "width": 2
         },
         "mode": "lines",
         "showlegend": false,
         "text": "Event:  Global Climate Strike",
         "type": "scatter",
         "x": [
          "2019-09-20T00:00:00",
          "2019-09-20T00:00:00"
         ],
         "y": [
          0,
          1600000
         ]
        },
        {
         "hoverinfo": "text",
         "line": {
          "color": "indianred",
          "width": 2
         },
         "mode": "lines",
         "showlegend": false,
         "text": "Event:  UN Climate Action Summit 2019",
         "type": "scatter",
         "x": [
          "2019-09-23T00:00:00",
          "2019-09-23T00:00:00"
         ],
         "y": [
          0,
          1600000
         ]
        },
        {
         "hoverinfo": "text",
         "line": {
          "color": "indianred",
          "width": 2
         },
         "mode": "lines",
         "showlegend": false,
         "text": "Event:  Great Barrier Reef Bleaching",
         "type": "scatter",
         "x": [
          "2016-08-03T00:00:00",
          "2016-08-03T00:00:00"
         ],
         "y": [
          0,
          1800000
         ]
        },
        {
         "hoverinfo": "text",
         "line": {
          "color": "indianred",
          "width": 2
         },
         "mode": "lines",
         "showlegend": false,
         "text": "Event:  US Withdrawal from Paris Agreement",
         "type": "scatter",
         "x": [
          "2017-06-01T00:00:00",
          "2017-06-01T00:00:00"
         ],
         "y": [
          0,
          1800000
         ]
        },
        {
         "hoverinfo": "text",
         "line": {
          "color": "indianred",
          "width": 2
         },
         "mode": "lines",
         "showlegend": false,
         "text": "Event:  Hurricane Harvey",
         "type": "scatter",
         "x": [
          "2017-08-25T00:00:00",
          "2017-08-25T00:00:00"
         ],
         "y": [
          0,
          1800000
         ]
        },
        {
         "hoverinfo": "text",
         "line": {
          "color": "indianred",
          "width": 2
         },
         "mode": "lines",
         "showlegend": false,
         "text": "Event:  EU Bans Neonicotinoids",
         "type": "scatter",
         "x": [
          "2018-05-08T00:00:00",
          "2018-05-08T00:00:00"
         ],
         "y": [
          0,
          1800000
         ]
        },
        {
         "hoverinfo": "text",
         "line": {
          "color": "indianred",
          "width": 2
         },
         "mode": "lines",
         "showlegend": false,
         "text": "Event:  IPCC Special Report on Global Warming of 1.5 °C",
         "type": "scatter",
         "x": [
          "2018-10-08T00:00:00",
          "2018-10-08T00:00:00"
         ],
         "y": [
          0,
          1800000
         ]
        },
        {
         "hoverinfo": "text",
         "line": {
          "color": "indianred",
          "width": 2
         },
         "mode": "lines",
         "showlegend": false,
         "text": "Event:  Greenland Ice Melting Accelerating",
         "type": "scatter",
         "x": [
          "2019-01-15T00:00:00",
          "2019-01-15T00:00:00"
         ],
         "y": [
          0,
          1800000
         ]
        },
        {
         "hoverinfo": "text",
         "line": {
          "color": "indianred",
          "width": 2
         },
         "mode": "lines",
         "showlegend": false,
         "text": "Event:  Extinction Rebellion Protests",
         "type": "scatter",
         "x": [
          "2019-05-20T00:00:00",
          "2019-05-20T00:00:00"
         ],
         "y": [
          0,
          1800000
         ]
        },
        {
         "hoverinfo": "text",
         "line": {
          "color": "indianred",
          "width": 2
         },
         "mode": "lines",
         "showlegend": false,
         "text": "Event:  Europe's Record Heatwave",
         "type": "scatter",
         "x": [
          "2019-07-24T00:00:00",
          "2019-07-24T00:00:00"
         ],
         "y": [
          0,
          1800000
         ]
        },
        {
         "hoverinfo": "text",
         "line": {
          "color": "indianred",
          "width": 2
         },
         "mode": "lines",
         "showlegend": false,
         "text": "Event:  Iceland Commemorates First Glacier Lost to Climate Change",
         "type": "scatter",
         "x": [
          "2019-08-09T00:00:00",
          "2019-08-09T00:00:00"
         ],
         "y": [
          0,
          1800000
         ]
        },
        {
         "hoverinfo": "text",
         "line": {
          "color": "indianred",
          "width": 2
         },
         "mode": "lines",
         "showlegend": false,
         "text": "Event:  Global Climate Strike",
         "type": "scatter",
         "x": [
          "2019-09-20T00:00:00",
          "2019-09-20T00:00:00"
         ],
         "y": [
          0,
          1800000
         ]
        },
        {
         "hoverinfo": "text",
         "line": {
          "color": "indianred",
          "width": 2
         },
         "mode": "lines",
         "showlegend": false,
         "text": "Event:  UN Climate Action Summit 2019",
         "type": "scatter",
         "x": [
          "2019-09-23T00:00:00",
          "2019-09-23T00:00:00"
         ],
         "y": [
          0,
          1800000
         ]
        }
       ],
       "layout": {
        "autosize": false,
        "height": 600,
        "legend": {
         "orientation": "v",
         "traceorder": "normal",
         "x": 1.01,
         "y": 0.5
        },
        "margin": {
         "b": 5,
         "l": 5,
         "r": 0,
         "t": 50
        },
        "showlegend": true,
        "template": {
         "data": {
          "bar": [
           {
            "error_x": {
             "color": "#2a3f5f"
            },
            "error_y": {
             "color": "#2a3f5f"
            },
            "marker": {
             "line": {
              "color": "#E5ECF6",
              "width": 0.5
             },
             "pattern": {
              "fillmode": "overlay",
              "size": 10,
              "solidity": 0.2
             }
            },
            "type": "bar"
           }
          ],
          "barpolar": [
           {
            "marker": {
             "line": {
              "color": "#E5ECF6",
              "width": 0.5
             },
             "pattern": {
              "fillmode": "overlay",
              "size": 10,
              "solidity": 0.2
             }
            },
            "type": "barpolar"
           }
          ],
          "carpet": [
           {
            "aaxis": {
             "endlinecolor": "#2a3f5f",
             "gridcolor": "white",
             "linecolor": "white",
             "minorgridcolor": "white",
             "startlinecolor": "#2a3f5f"
            },
            "baxis": {
             "endlinecolor": "#2a3f5f",
             "gridcolor": "white",
             "linecolor": "white",
             "minorgridcolor": "white",
             "startlinecolor": "#2a3f5f"
            },
            "type": "carpet"
           }
          ],
          "choropleth": [
           {
            "colorbar": {
             "outlinewidth": 0,
             "ticks": ""
            },
            "type": "choropleth"
           }
          ],
          "contour": [
           {
            "colorbar": {
             "outlinewidth": 0,
             "ticks": ""
            },
            "colorscale": [
             [
              0,
              "#0d0887"
             ],
             [
              0.1111111111111111,
              "#46039f"
             ],
             [
              0.2222222222222222,
              "#7201a8"
             ],
             [
              0.3333333333333333,
              "#9c179e"
             ],
             [
              0.4444444444444444,
              "#bd3786"
             ],
             [
              0.5555555555555556,
              "#d8576b"
             ],
             [
              0.6666666666666666,
              "#ed7953"
             ],
             [
              0.7777777777777778,
              "#fb9f3a"
             ],
             [
              0.8888888888888888,
              "#fdca26"
             ],
             [
              1,
              "#f0f921"
             ]
            ],
            "type": "contour"
           }
          ],
          "contourcarpet": [
           {
            "colorbar": {
             "outlinewidth": 0,
             "ticks": ""
            },
            "type": "contourcarpet"
           }
          ],
          "heatmap": [
           {
            "colorbar": {
             "outlinewidth": 0,
             "ticks": ""
            },
            "colorscale": [
             [
              0,
              "#0d0887"
             ],
             [
              0.1111111111111111,
              "#46039f"
             ],
             [
              0.2222222222222222,
              "#7201a8"
             ],
             [
              0.3333333333333333,
              "#9c179e"
             ],
             [
              0.4444444444444444,
              "#bd3786"
             ],
             [
              0.5555555555555556,
              "#d8576b"
             ],
             [
              0.6666666666666666,
              "#ed7953"
             ],
             [
              0.7777777777777778,
              "#fb9f3a"
             ],
             [
              0.8888888888888888,
              "#fdca26"
             ],
             [
              1,
              "#f0f921"
             ]
            ],
            "type": "heatmap"
           }
          ],
          "heatmapgl": [
           {
            "colorbar": {
             "outlinewidth": 0,
             "ticks": ""
            },
            "colorscale": [
             [
              0,
              "#0d0887"
             ],
             [
              0.1111111111111111,
              "#46039f"
             ],
             [
              0.2222222222222222,
              "#7201a8"
             ],
             [
              0.3333333333333333,
              "#9c179e"
             ],
             [
              0.4444444444444444,
              "#bd3786"
             ],
             [
              0.5555555555555556,
              "#d8576b"
             ],
             [
              0.6666666666666666,
              "#ed7953"
             ],
             [
              0.7777777777777778,
              "#fb9f3a"
             ],
             [
              0.8888888888888888,
              "#fdca26"
             ],
             [
              1,
              "#f0f921"
             ]
            ],
            "type": "heatmapgl"
           }
          ],
          "histogram": [
           {
            "marker": {
             "pattern": {
              "fillmode": "overlay",
              "size": 10,
              "solidity": 0.2
             }
            },
            "type": "histogram"
           }
          ],
          "histogram2d": [
           {
            "colorbar": {
             "outlinewidth": 0,
             "ticks": ""
            },
            "colorscale": [
             [
              0,
              "#0d0887"
             ],
             [
              0.1111111111111111,
              "#46039f"
             ],
             [
              0.2222222222222222,
              "#7201a8"
             ],
             [
              0.3333333333333333,
              "#9c179e"
             ],
             [
              0.4444444444444444,
              "#bd3786"
             ],
             [
              0.5555555555555556,
              "#d8576b"
             ],
             [
              0.6666666666666666,
              "#ed7953"
             ],
             [
              0.7777777777777778,
              "#fb9f3a"
             ],
             [
              0.8888888888888888,
              "#fdca26"
             ],
             [
              1,
              "#f0f921"
             ]
            ],
            "type": "histogram2d"
           }
          ],
          "histogram2dcontour": [
           {
            "colorbar": {
             "outlinewidth": 0,
             "ticks": ""
            },
            "colorscale": [
             [
              0,
              "#0d0887"
             ],
             [
              0.1111111111111111,
              "#46039f"
             ],
             [
              0.2222222222222222,
              "#7201a8"
             ],
             [
              0.3333333333333333,
              "#9c179e"
             ],
             [
              0.4444444444444444,
              "#bd3786"
             ],
             [
              0.5555555555555556,
              "#d8576b"
             ],
             [
              0.6666666666666666,
              "#ed7953"
             ],
             [
              0.7777777777777778,
              "#fb9f3a"
             ],
             [
              0.8888888888888888,
              "#fdca26"
             ],
             [
              1,
              "#f0f921"
             ]
            ],
            "type": "histogram2dcontour"
           }
          ],
          "mesh3d": [
           {
            "colorbar": {
             "outlinewidth": 0,
             "ticks": ""
            },
            "type": "mesh3d"
           }
          ],
          "parcoords": [
           {
            "line": {
             "colorbar": {
              "outlinewidth": 0,
              "ticks": ""
             }
            },
            "type": "parcoords"
           }
          ],
          "pie": [
           {
            "automargin": true,
            "type": "pie"
           }
          ],
          "scatter": [
           {
            "fillpattern": {
             "fillmode": "overlay",
             "size": 10,
             "solidity": 0.2
            },
            "type": "scatter"
           }
          ],
          "scatter3d": [
           {
            "line": {
             "colorbar": {
              "outlinewidth": 0,
              "ticks": ""
             }
            },
            "marker": {
             "colorbar": {
              "outlinewidth": 0,
              "ticks": ""
             }
            },
            "type": "scatter3d"
           }
          ],
          "scattercarpet": [
           {
            "marker": {
             "colorbar": {
              "outlinewidth": 0,
              "ticks": ""
             }
            },
            "type": "scattercarpet"
           }
          ],
          "scattergeo": [
           {
            "marker": {
             "colorbar": {
              "outlinewidth": 0,
              "ticks": ""
             }
            },
            "type": "scattergeo"
           }
          ],
          "scattergl": [
           {
            "marker": {
             "colorbar": {
              "outlinewidth": 0,
              "ticks": ""
             }
            },
            "type": "scattergl"
           }
          ],
          "scattermapbox": [
           {
            "marker": {
             "colorbar": {
              "outlinewidth": 0,
              "ticks": ""
             }
            },
            "type": "scattermapbox"
           }
          ],
          "scatterpolar": [
           {
            "marker": {
             "colorbar": {
              "outlinewidth": 0,
              "ticks": ""
             }
            },
            "type": "scatterpolar"
           }
          ],
          "scatterpolargl": [
           {
            "marker": {
             "colorbar": {
              "outlinewidth": 0,
              "ticks": ""
             }
            },
            "type": "scatterpolargl"
           }
          ],
          "scatterternary": [
           {
            "marker": {
             "colorbar": {
              "outlinewidth": 0,
              "ticks": ""
             }
            },
            "type": "scatterternary"
           }
          ],
          "surface": [
           {
            "colorbar": {
             "outlinewidth": 0,
             "ticks": ""
            },
            "colorscale": [
             [
              0,
              "#0d0887"
             ],
             [
              0.1111111111111111,
              "#46039f"
             ],
             [
              0.2222222222222222,
              "#7201a8"
             ],
             [
              0.3333333333333333,
              "#9c179e"
             ],
             [
              0.4444444444444444,
              "#bd3786"
             ],
             [
              0.5555555555555556,
              "#d8576b"
             ],
             [
              0.6666666666666666,
              "#ed7953"
             ],
             [
              0.7777777777777778,
              "#fb9f3a"
             ],
             [
              0.8888888888888888,
              "#fdca26"
             ],
             [
              1,
              "#f0f921"
             ]
            ],
            "type": "surface"
           }
          ],
          "table": [
           {
            "cells": {
             "fill": {
              "color": "#EBF0F8"
             },
             "line": {
              "color": "white"
             }
            },
            "header": {
             "fill": {
              "color": "#C8D4E3"
             },
             "line": {
              "color": "white"
             }
            },
            "type": "table"
           }
          ]
         },
         "layout": {
          "annotationdefaults": {
           "arrowcolor": "#2a3f5f",
           "arrowhead": 0,
           "arrowwidth": 1
          },
          "autotypenumbers": "strict",
          "coloraxis": {
           "colorbar": {
            "outlinewidth": 0,
            "ticks": ""
           }
          },
          "colorscale": {
           "diverging": [
            [
             0,
             "#8e0152"
            ],
            [
             0.1,
             "#c51b7d"
            ],
            [
             0.2,
             "#de77ae"
            ],
            [
             0.3,
             "#f1b6da"
            ],
            [
             0.4,
             "#fde0ef"
            ],
            [
             0.5,
             "#f7f7f7"
            ],
            [
             0.6,
             "#e6f5d0"
            ],
            [
             0.7,
             "#b8e186"
            ],
            [
             0.8,
             "#7fbc41"
            ],
            [
             0.9,
             "#4d9221"
            ],
            [
             1,
             "#276419"
            ]
           ],
           "sequential": [
            [
             0,
             "#0d0887"
            ],
            [
             0.1111111111111111,
             "#46039f"
            ],
            [
             0.2222222222222222,
             "#7201a8"
            ],
            [
             0.3333333333333333,
             "#9c179e"
            ],
            [
             0.4444444444444444,
             "#bd3786"
            ],
            [
             0.5555555555555556,
             "#d8576b"
            ],
            [
             0.6666666666666666,
             "#ed7953"
            ],
            [
             0.7777777777777778,
             "#fb9f3a"
            ],
            [
             0.8888888888888888,
             "#fdca26"
            ],
            [
             1,
             "#f0f921"
            ]
           ],
           "sequentialminus": [
            [
             0,
             "#0d0887"
            ],
            [
             0.1111111111111111,
             "#46039f"
            ],
            [
             0.2222222222222222,
             "#7201a8"
            ],
            [
             0.3333333333333333,
             "#9c179e"
            ],
            [
             0.4444444444444444,
             "#bd3786"
            ],
            [
             0.5555555555555556,
             "#d8576b"
            ],
            [
             0.6666666666666666,
             "#ed7953"
            ],
            [
             0.7777777777777778,
             "#fb9f3a"
            ],
            [
             0.8888888888888888,
             "#fdca26"
            ],
            [
             1,
             "#f0f921"
            ]
           ]
          },
          "colorway": [
           "#636efa",
           "#EF553B",
           "#00cc96",
           "#ab63fa",
           "#FFA15A",
           "#19d3f3",
           "#FF6692",
           "#B6E880",
           "#FF97FF",
           "#FECB52"
          ],
          "font": {
           "color": "#2a3f5f"
          },
          "geo": {
           "bgcolor": "white",
           "lakecolor": "white",
           "landcolor": "#E5ECF6",
           "showlakes": true,
           "showland": true,
           "subunitcolor": "white"
          },
          "hoverlabel": {
           "align": "left"
          },
          "hovermode": "closest",
          "mapbox": {
           "style": "light"
          },
          "paper_bgcolor": "white",
          "plot_bgcolor": "#E5ECF6",
          "polar": {
           "angularaxis": {
            "gridcolor": "white",
            "linecolor": "white",
            "ticks": ""
           },
           "bgcolor": "#E5ECF6",
           "radialaxis": {
            "gridcolor": "white",
            "linecolor": "white",
            "ticks": ""
           }
          },
          "scene": {
           "xaxis": {
            "backgroundcolor": "#E5ECF6",
            "gridcolor": "white",
            "gridwidth": 2,
            "linecolor": "white",
            "showbackground": true,
            "ticks": "",
            "zerolinecolor": "white"
           },
           "yaxis": {
            "backgroundcolor": "#E5ECF6",
            "gridcolor": "white",
            "gridwidth": 2,
            "linecolor": "white",
            "showbackground": true,
            "ticks": "",
            "zerolinecolor": "white"
           },
           "zaxis": {
            "backgroundcolor": "#E5ECF6",
            "gridcolor": "white",
            "gridwidth": 2,
            "linecolor": "white",
            "showbackground": true,
            "ticks": "",
            "zerolinecolor": "white"
           }
          },
          "shapedefaults": {
           "line": {
            "color": "#2a3f5f"
           }
          },
          "ternary": {
           "aaxis": {
            "gridcolor": "white",
            "linecolor": "white",
            "ticks": ""
           },
           "baxis": {
            "gridcolor": "white",
            "linecolor": "white",
            "ticks": ""
           },
           "bgcolor": "#E5ECF6",
           "caxis": {
            "gridcolor": "white",
            "linecolor": "white",
            "ticks": ""
           }
          },
          "title": {
           "x": 0.05
          },
          "xaxis": {
           "automargin": true,
           "gridcolor": "white",
           "linecolor": "white",
           "ticks": "",
           "title": {
            "standoff": 15
           },
           "zerolinecolor": "white",
           "zerolinewidth": 2
          },
          "yaxis": {
           "automargin": true,
           "gridcolor": "white",
           "linecolor": "white",
           "ticks": "",
           "title": {
            "standoff": 15
           },
           "zerolinecolor": "white",
           "zerolinewidth": 2
          }
         }
        },
        "title": {
         "text": "Time series of the channels involved in climate change"
        },
        "width": 1200,
        "xaxis": {
         "title": {
          "text": "Date"
         }
        },
        "yaxis": {
         "title": {
          "text": "Value"
         }
        }
       }
      }
     },
     "metadata": {},
     "output_type": "display_data"
    }
   ],
   "source": [
    "ch_cc_df_second.sort_values(by='proportion_cc_vids', ascending=False, inplace=True)\n",
    "ch_list_second = ch_cc_df_second.channel.unique()\n",
    "ch_list_df_second = [timeseries_cc_df[timeseries_cc_df['channel'] == channel].copy() for channel in ch_list_second]\n",
    "\n",
    "fig = go.Figure()\n",
    "\n",
    "for ch, color in zip(ch_list_df_second, colors):\n",
    "    ch['datetime'] = pd.to_datetime(ch['datetime'])\n",
    "    ch.set_index('datetime', inplace=True)\n",
    "    fig.add_trace(go.Scatter(x=ch.index, y=ch['delta_views'],\n",
    "                             mode='lines',\n",
    "                             name=ch['name'].iloc[0],\n",
    "                             line=dict(width=2, color=f'rgba{tuple(int(255 * c) for c in color[:3])}')))\n",
    "\n",
    "for y in range(200000, 2000000, 200000):\n",
    "    for event_date in climate_events.loc['2016':'2019-10'].index:\n",
    "        fig.add_trace(go.Scatter(x=[event_date, event_date], y=[0, y],\n",
    "                                 mode='lines',\n",
    "                                 line=dict(color='indianred', width=2),\n",
    "                                 hoverinfo='text',\n",
    "                                 text=f'Event: {climate_events.loc[event_date][\"name\"]}',\n",
    "                                 showlegend=False)) \n",
    "\n",
    "fig.update_layout(\n",
    "    xaxis=dict(title='Date'),\n",
    "    yaxis=dict(title='Value'),\n",
    "    title='Time series of the channels involved in climate change',\n",
    "    showlegend=True,\n",
    "    legend=dict(x=1.01, y=0.5, traceorder='normal', orientation='v'),\n",
    "    autosize=False,\n",
    "    width=1200,\n",
    "    height=600,\n",
    "    margin=dict(l=5, r=0, t=50, b=5)\n",
    ")\n",
    "\n",
    "fig.show()\n"
   ]
  },
  {
   "cell_type": "code",
   "execution_count": 89,
   "id": "aa7e9d5d",
   "metadata": {},
   "outputs": [
    {
     "data": {
      "text/html": [
       "<div>\n",
       "<style scoped>\n",
       "    .dataframe tbody tr th:only-of-type {\n",
       "        vertical-align: middle;\n",
       "    }\n",
       "\n",
       "    .dataframe tbody tr th {\n",
       "        vertical-align: top;\n",
       "    }\n",
       "\n",
       "    .dataframe thead th {\n",
       "        text-align: right;\n",
       "    }\n",
       "</style>\n",
       "<table border=\"1\" class=\"dataframe\">\n",
       "  <thead>\n",
       "    <tr style=\"text-align: right;\">\n",
       "      <th></th>\n",
       "      <th>name</th>\n",
       "      <th>upload_date</th>\n",
       "      <th>title</th>\n",
       "      <th>description</th>\n",
       "      <th>tags</th>\n",
       "      <th>view_count</th>\n",
       "    </tr>\n",
       "    <tr>\n",
       "      <th>display_id</th>\n",
       "      <th></th>\n",
       "      <th></th>\n",
       "      <th></th>\n",
       "      <th></th>\n",
       "      <th></th>\n",
       "      <th></th>\n",
       "    </tr>\n",
       "  </thead>\n",
       "  <tbody>\n",
       "    <tr>\n",
       "      <th>brvhCnYvxQQ</th>\n",
       "      <td>The YEARS Project</td>\n",
       "      <td>2014-04-06 00:00:00</td>\n",
       "      <td>Years of Living Dangerously Premiere Full Episode</td>\n",
       "      <td>Hollywood celebrities and respected journalist...</td>\n",
       "      <td>Don Cheadle,Harrison Ford,Global Warming,Years...</td>\n",
       "      <td>1045350</td>\n",
       "    </tr>\n",
       "    <tr>\n",
       "      <th>Rn2Cd3Dwwnk</th>\n",
       "      <td>The YEARS Project</td>\n",
       "      <td>2014-03-14 00:00:00</td>\n",
       "      <td>Years of Living Dangerously Trailer #2</td>\n",
       "      <td>Don't miss the documentary series premiere of ...</td>\n",
       "      <td>Years of Living Dangerously,James Cameron,Don ...</td>\n",
       "      <td>280232</td>\n",
       "    </tr>\n",
       "    <tr>\n",
       "      <th>o5X2PuICmyI</th>\n",
       "      <td>The YEARS Project</td>\n",
       "      <td>2014-05-01 00:00:00</td>\n",
       "      <td>Years of Living Dangerously Season 1: Why I Ca...</td>\n",
       "      <td>Ian Somerhalder talks about why he cares about...</td>\n",
       "      <td>Global Warming,Years Of Living Dangerously,Ian...</td>\n",
       "      <td>118126</td>\n",
       "    </tr>\n",
       "    <tr>\n",
       "      <th>_aK_p_jw_OY</th>\n",
       "      <td>The YEARS Project</td>\n",
       "      <td>2018-11-15 00:00:00</td>\n",
       "      <td>California's Wildfires Are The New Abnormal</td>\n",
       "      <td>The wildfire ravaging California is now the de...</td>\n",
       "      <td>#ClimateFacts,California,Wildfires,Abnormal,cl...</td>\n",
       "      <td>115902</td>\n",
       "    </tr>\n",
       "    <tr>\n",
       "      <th>1DtRVEgixzk</th>\n",
       "      <td>The YEARS Project</td>\n",
       "      <td>2014-04-11 00:00:00</td>\n",
       "      <td>Years of Living Dangerously Season 1: Why I Ca...</td>\n",
       "      <td>Harrison Ford talks about why he cares about c...</td>\n",
       "      <td>Harrison Ford,climate change,#YEARSproject,Yea...</td>\n",
       "      <td>73077</td>\n",
       "    </tr>\n",
       "    <tr>\n",
       "      <th>...</th>\n",
       "      <td>...</td>\n",
       "      <td>...</td>\n",
       "      <td>...</td>\n",
       "      <td>...</td>\n",
       "      <td>...</td>\n",
       "      <td>...</td>\n",
       "    </tr>\n",
       "    <tr>\n",
       "      <th>F2JqoWjxxVw</th>\n",
       "      <td>The YEARS Project</td>\n",
       "      <td>2017-03-17 00:00:00</td>\n",
       "      <td>Gina McCarthy on Optimism</td>\n",
       "      <td>A CONVERSATION WITH GINA MCCARTHY: MAKING AMER...</td>\n",
       "      <td>YEARSproject,Gina McCarthy,Make American Green...</td>\n",
       "      <td>125</td>\n",
       "    </tr>\n",
       "    <tr>\n",
       "      <th>BrZU_FQcYjQ</th>\n",
       "      <td>The YEARS Project</td>\n",
       "      <td>2018-10-02 00:00:00</td>\n",
       "      <td>Tracee Bird: I'm A Climate Voter</td>\n",
       "      <td>When wildfires tore through Tracee's home she ...</td>\n",
       "      <td>wildfires,climate change,global warming,voter,...</td>\n",
       "      <td>124</td>\n",
       "    </tr>\n",
       "    <tr>\n",
       "      <th>6h2L0faYR_U</th>\n",
       "      <td>The YEARS Project</td>\n",
       "      <td>2017-10-06 00:00:00</td>\n",
       "      <td>The NRA &amp; Climate</td>\n",
       "      <td>What can the gun issue teach us about climate ...</td>\n",
       "      <td>NRA,guns,climate,congress,climate change</td>\n",
       "      <td>113</td>\n",
       "    </tr>\n",
       "    <tr>\n",
       "      <th>QX0DY0LjUrw</th>\n",
       "      <td>The YEARS Project</td>\n",
       "      <td>2017-11-01 00:00:00</td>\n",
       "      <td>After Hurricane Sandy</td>\n",
       "      <td>Five years after Hurricane Sandy, some areas o...</td>\n",
       "      <td>Chris Hayes,Hurricane Sandy,Michael Grimm,New ...</td>\n",
       "      <td>107</td>\n",
       "    </tr>\n",
       "    <tr>\n",
       "      <th>UOqke7cEj38</th>\n",
       "      <td>The YEARS Project</td>\n",
       "      <td>2018-10-17 00:00:00</td>\n",
       "      <td>The Most Important Thing</td>\n",
       "      <td>There are a million little things you can do t...</td>\n",
       "      <td>climate change,voter,vote,elections,time to vo...</td>\n",
       "      <td>103</td>\n",
       "    </tr>\n",
       "  </tbody>\n",
       "</table>\n",
       "<p>338 rows × 6 columns</p>\n",
       "</div>"
      ],
      "text/plain": [
       "                          name          upload_date  \\\n",
       "display_id                                            \n",
       "brvhCnYvxQQ  The YEARS Project  2014-04-06 00:00:00   \n",
       "Rn2Cd3Dwwnk  The YEARS Project  2014-03-14 00:00:00   \n",
       "o5X2PuICmyI  The YEARS Project  2014-05-01 00:00:00   \n",
       "_aK_p_jw_OY  The YEARS Project  2018-11-15 00:00:00   \n",
       "1DtRVEgixzk  The YEARS Project  2014-04-11 00:00:00   \n",
       "...                        ...                  ...   \n",
       "F2JqoWjxxVw  The YEARS Project  2017-03-17 00:00:00   \n",
       "BrZU_FQcYjQ  The YEARS Project  2018-10-02 00:00:00   \n",
       "6h2L0faYR_U  The YEARS Project  2017-10-06 00:00:00   \n",
       "QX0DY0LjUrw  The YEARS Project  2017-11-01 00:00:00   \n",
       "UOqke7cEj38  The YEARS Project  2018-10-17 00:00:00   \n",
       "\n",
       "                                                         title  \\\n",
       "display_id                                                       \n",
       "brvhCnYvxQQ  Years of Living Dangerously Premiere Full Episode   \n",
       "Rn2Cd3Dwwnk             Years of Living Dangerously Trailer #2   \n",
       "o5X2PuICmyI  Years of Living Dangerously Season 1: Why I Ca...   \n",
       "_aK_p_jw_OY        California's Wildfires Are The New Abnormal   \n",
       "1DtRVEgixzk  Years of Living Dangerously Season 1: Why I Ca...   \n",
       "...                                                        ...   \n",
       "F2JqoWjxxVw                          Gina McCarthy on Optimism   \n",
       "BrZU_FQcYjQ                   Tracee Bird: I'm A Climate Voter   \n",
       "6h2L0faYR_U                                  The NRA & Climate   \n",
       "QX0DY0LjUrw                              After Hurricane Sandy   \n",
       "UOqke7cEj38                           The Most Important Thing   \n",
       "\n",
       "                                                   description  \\\n",
       "display_id                                                       \n",
       "brvhCnYvxQQ  Hollywood celebrities and respected journalist...   \n",
       "Rn2Cd3Dwwnk  Don't miss the documentary series premiere of ...   \n",
       "o5X2PuICmyI  Ian Somerhalder talks about why he cares about...   \n",
       "_aK_p_jw_OY  The wildfire ravaging California is now the de...   \n",
       "1DtRVEgixzk  Harrison Ford talks about why he cares about c...   \n",
       "...                                                        ...   \n",
       "F2JqoWjxxVw  A CONVERSATION WITH GINA MCCARTHY: MAKING AMER...   \n",
       "BrZU_FQcYjQ  When wildfires tore through Tracee's home she ...   \n",
       "6h2L0faYR_U  What can the gun issue teach us about climate ...   \n",
       "QX0DY0LjUrw  Five years after Hurricane Sandy, some areas o...   \n",
       "UOqke7cEj38  There are a million little things you can do t...   \n",
       "\n",
       "                                                          tags  view_count  \n",
       "display_id                                                                  \n",
       "brvhCnYvxQQ  Don Cheadle,Harrison Ford,Global Warming,Years...     1045350  \n",
       "Rn2Cd3Dwwnk  Years of Living Dangerously,James Cameron,Don ...      280232  \n",
       "o5X2PuICmyI  Global Warming,Years Of Living Dangerously,Ian...      118126  \n",
       "_aK_p_jw_OY  #ClimateFacts,California,Wildfires,Abnormal,cl...      115902  \n",
       "1DtRVEgixzk  Harrison Ford,climate change,#YEARSproject,Yea...       73077  \n",
       "...                                                        ...         ...  \n",
       "F2JqoWjxxVw  YEARSproject,Gina McCarthy,Make American Green...         125  \n",
       "BrZU_FQcYjQ  wildfires,climate change,global warming,voter,...         124  \n",
       "6h2L0faYR_U           NRA,guns,climate,congress,climate change         113  \n",
       "QX0DY0LjUrw  Chris Hayes,Hurricane Sandy,Michael Grimm,New ...         107  \n",
       "UOqke7cEj38  climate change,voter,vote,elections,time to vo...         103  \n",
       "\n",
       "[338 rows x 6 columns]"
      ]
     },
     "metadata": {},
     "output_type": "display_data"
    }
   ],
   "source": [
    "cch_vids_date_df = cch_vids_df[['name', 'upload_date', 'title', 'description', 'tags', 'view_count']]\n",
    "display(cch_vids_date_df.loc[cch_vids_date_df['name'] == 'The YEARS Project'].sort_values(by='view_count', ascending=False))"
   ]
  },
  {
   "cell_type": "markdown",
   "id": "f91cf0a4",
   "metadata": {},
   "source": [
    "Most of the videos of the channels that are involved with climate change do not make videos about specific events and when they do, it is months after the event and they usually don't have many views. Therefore, that explains why we don't observe pics of views on those channels after an climate event."
   ]
  }
 ],
 "metadata": {
  "kernelspec": {
   "display_name": "Python 3",
   "language": "python",
   "name": "python3"
  },
  "language_info": {
   "codemirror_mode": {
    "name": "ipython",
    "version": 3
   },
   "file_extension": ".py",
   "mimetype": "text/x-python",
   "name": "python",
   "nbconvert_exporter": "python",
   "pygments_lexer": "ipython3",
   "version": "3.10.13"
  }
 },
 "nbformat": 4,
 "nbformat_minor": 5
}

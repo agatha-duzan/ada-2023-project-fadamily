{
 "cells": [
  {
   "cell_type": "code",
   "execution_count": 1,
   "metadata": {},
   "outputs": [],
   "source": [
    "import matplotlib.pyplot as plt\n",
    "import pandas as pd\n",
    "import json\n",
    "import jsonlines\n",
    "import re\n",
    "import string\n",
    "import shutil\n",
    "import os\n",
    "from pyspark import SparkContext\n",
    "from pyspark.sql import SparkSession\n",
    "from pyspark.sql import functions as F\n",
    "from pyspark.sql.types import StructType, StructField, StringType"
   ]
  },
  {
   "cell_type": "markdown",
   "metadata": {},
   "source": [
    "First of all we wnat to filter channels that do not have much subscribers, to make the datasets smaller. Let us study the ditributuion of number of subscribers per channel."
   ]
  },
  {
   "cell_type": "code",
   "execution_count": 2,
   "metadata": {},
   "outputs": [
    {
     "data": {
      "image/png": "[encoded data removed]",
      "text/plain": [
       "<Figure size 640x480 with 1 Axes>"
      ]
     },
     "metadata": {},
     "output_type": "display_data"
    }
   ],
   "source": [
    "#histogram of number of subscribers per channels\n",
    "\n",
    "all_channels = pd.read_csv(\"data/df_channels_en.tsv\", sep = \"\\t\")\n",
    "plt.hist(all_channels['subscribers_cc'], log=True, bins= 50)\n",
    "plt.show()\n"
   ]
  },
  {
   "cell_type": "code",
   "execution_count": 3,
   "metadata": {},
   "outputs": [
    {
     "name": "stdout",
     "output_type": "stream",
     "text": [
      "Percentage of channels with less than 100000 subsrcribers: 69.18663442514838%\n"
     ]
    }
   ],
   "source": [
    "threshold = 100000\n",
    "percentage = (all_channels['subscribers_cc'] < threshold).mean() * 100 \n",
    "print(f\"Percentage of channels with less than {threshold} subsrcribers: {percentage}%\")"
   ]
  },
  {
   "cell_type": "markdown",
   "metadata": {},
   "source": [
    "We filter out channels that have lest than this threshold subscribers and create a new datasets."
   ]
  },
  {
   "cell_type": "code",
   "execution_count": 4,
   "metadata": {},
   "outputs": [],
   "source": [
    "filtered_channels = all_channels.query(f'subscribers_cc >= {threshold}')\n",
    "filtered_channels.to_csv('data/df_filtered_channels.tsv', index= False)"
   ]
  },
  {
   "cell_type": "markdown",
   "metadata": {},
   "source": [
    "Now we have to select videos which only belongs to these channels."
   ]
  },
  {
   "cell_type": "markdown",
   "metadata": {},
   "source": [
    "TEST SQL efficiency ?"
   ]
  },
  {
   "cell_type": "code",
   "execution_count": null,
   "metadata": {},
   "outputs": [
    {
     "name": "stderr",
     "output_type": "stream",
     "text": [
      "23/11/12 13:11:19 WARN Utils: Your hostname, MacBook-Pro-de-Paul-2.local resolves to a loopback address: 127.0.0.1; using 192.168.1.33 instead (on interface en0)\n",
      "23/11/12 13:11:19 WARN Utils: Set SPARK_LOCAL_IP if you need to bind to another address\n",
      "Setting default log level to \"WARN\".\n",
      "To adjust logging level use sc.setLogLevel(newLevel). For SparkR, use setLogLevel(newLevel).\n",
      "23/11/12 13:11:20 WARN NativeCodeLoader: Unable to load native-hadoop library for your platform... using builtin-java classes where applicable\n"
     ]
    }
   ],
   "source": [
    "sc = SparkContext()\n",
    "spark = SparkSession.builder.appName(\"yourAppName\").getOrCreate()"
   ]
  },
  {
   "cell_type": "code",
   "execution_count": null,
   "metadata": {},
   "outputs": [
    {
     "name": "stderr",
     "output_type": "stream",
     "text": [
      "                                                                                \r"
     ]
    },
    {
     "ename": "AnalysisException",
     "evalue": "[UNRESOLVED_COLUMN.WITH_SUGGESTION] A column or function parameter with name `channel` cannot be resolved. Did you mean one of the following? [`category_cc,join_date,channel,name_cc,subscribers_cc,videos_cc,subscriber_rank_sb,weights`].; line 1 pos 48;\n'Project [*]\n+- 'Filter channel_id#0 IN (list#21 [])\n   :  +- 'Project ['channel]\n   :     +- SubqueryAlias channels\n   :        +- View (`channels`, [category_cc,join_date,channel,name_cc,subscribers_cc,videos_cc,subscriber_rank_sb,weights#19])\n   :           +- Relation [category_cc,join_date,channel,name_cc,subscribers_cc,videos_cc,subscriber_rank_sb,weights#19] csv\n   +- SubqueryAlias video\n      +- View (`video`, [channel_id#0])\n         +- LogicalRDD [channel_id#0], false\n",
     "output_type": "error",
     "traceback": [
      "\u001b[0;31m---------------------------------------------------------------------------\u001b[0m",
      "\u001b[0;31mAnalysisException\u001b[0m                         Traceback (most recent call last)",
      "\u001b[1;32m/Users/paul/Desktop/ADA/ada-2023-project-fadamily/new_idea.ipynb Cellule 9\u001b[0m line \u001b[0;36m2\n\u001b[1;32m     <a href='vscode-notebook-cell:/Users/paul/Desktop/ADA/ada-2023-project-fadamily/new_idea.ipynb#X43sZmlsZQ%3D%3D?line=16'>17</a>\u001b[0m channels_df\u001b[39m.\u001b[39mcreateOrReplaceTempView(\u001b[39m\"\u001b[39m\u001b[39mchannels\u001b[39m\u001b[39m\"\u001b[39m)\n\u001b[1;32m     <a href='vscode-notebook-cell:/Users/paul/Desktop/ADA/ada-2023-project-fadamily/new_idea.ipynb#X43sZmlsZQ%3D%3D?line=18'>19</a>\u001b[0m \u001b[39m# Use Spark SQL for filtering\u001b[39;00m\n\u001b[0;32m---> <a href='vscode-notebook-cell:/Users/paul/Desktop/ADA/ada-2023-project-fadamily/new_idea.ipynb#X43sZmlsZQ%3D%3D?line=19'>20</a>\u001b[0m filtered_videos \u001b[39m=\u001b[39m spark\u001b[39m.\u001b[39;49msql(\u001b[39m\"\u001b[39;49m\u001b[39mSELECT * FROM video WHERE channel_id IN (SELECT channel FROM channels)\u001b[39;49m\u001b[39m\"\u001b[39;49m)\n\u001b[1;32m     <a href='vscode-notebook-cell:/Users/paul/Desktop/ADA/ada-2023-project-fadamily/new_idea.ipynb#X43sZmlsZQ%3D%3D?line=21'>22</a>\u001b[0m filtered_videos_path \u001b[39m=\u001b[39m \u001b[39m\"\u001b[39m\u001b[39mdata/df_filtered_videos.jsonl\u001b[39m\u001b[39m\"\u001b[39m\n\u001b[1;32m     <a href='vscode-notebook-cell:/Users/paul/Desktop/ADA/ada-2023-project-fadamily/new_idea.ipynb#X43sZmlsZQ%3D%3D?line=22'>23</a>\u001b[0m json_data \u001b[39m=\u001b[39m filtered_videos\u001b[39m.\u001b[39mrdd\u001b[39m.\u001b[39mcollect()\n",
      "File \u001b[0;32m~/anaconda3/envs/ADAenv/lib/python3.11/site-packages/pyspark/sql/session.py:1631\u001b[0m, in \u001b[0;36mSparkSession.sql\u001b[0;34m(self, sqlQuery, args, **kwargs)\u001b[0m\n\u001b[1;32m   1627\u001b[0m         \u001b[39massert\u001b[39;00m \u001b[39mself\u001b[39m\u001b[39m.\u001b[39m_jvm \u001b[39mis\u001b[39;00m \u001b[39mnot\u001b[39;00m \u001b[39mNone\u001b[39;00m\n\u001b[1;32m   1628\u001b[0m         litArgs \u001b[39m=\u001b[39m \u001b[39mself\u001b[39m\u001b[39m.\u001b[39m_jvm\u001b[39m.\u001b[39mPythonUtils\u001b[39m.\u001b[39mtoArray(\n\u001b[1;32m   1629\u001b[0m             [_to_java_column(lit(v)) \u001b[39mfor\u001b[39;00m v \u001b[39min\u001b[39;00m (args \u001b[39mor\u001b[39;00m [])]\n\u001b[1;32m   1630\u001b[0m         )\n\u001b[0;32m-> 1631\u001b[0m     \u001b[39mreturn\u001b[39;00m DataFrame(\u001b[39mself\u001b[39;49m\u001b[39m.\u001b[39;49m_jsparkSession\u001b[39m.\u001b[39;49msql(sqlQuery, litArgs), \u001b[39mself\u001b[39m)\n\u001b[1;32m   1632\u001b[0m \u001b[39mfinally\u001b[39;00m:\n\u001b[1;32m   1633\u001b[0m     \u001b[39mif\u001b[39;00m \u001b[39mlen\u001b[39m(kwargs) \u001b[39m>\u001b[39m \u001b[39m0\u001b[39m:\n",
      "File \u001b[0;32m~/anaconda3/envs/ADAenv/lib/python3.11/site-packages/py4j/java_gateway.py:1322\u001b[0m, in \u001b[0;36mJavaMember.__call__\u001b[0;34m(self, *args)\u001b[0m\n\u001b[1;32m   1316\u001b[0m command \u001b[39m=\u001b[39m proto\u001b[39m.\u001b[39mCALL_COMMAND_NAME \u001b[39m+\u001b[39m\\\n\u001b[1;32m   1317\u001b[0m     \u001b[39mself\u001b[39m\u001b[39m.\u001b[39mcommand_header \u001b[39m+\u001b[39m\\\n\u001b[1;32m   1318\u001b[0m     args_command \u001b[39m+\u001b[39m\\\n\u001b[1;32m   1319\u001b[0m     proto\u001b[39m.\u001b[39mEND_COMMAND_PART\n\u001b[1;32m   1321\u001b[0m answer \u001b[39m=\u001b[39m \u001b[39mself\u001b[39m\u001b[39m.\u001b[39mgateway_client\u001b[39m.\u001b[39msend_command(command)\n\u001b[0;32m-> 1322\u001b[0m return_value \u001b[39m=\u001b[39m get_return_value(\n\u001b[1;32m   1323\u001b[0m     answer, \u001b[39mself\u001b[39;49m\u001b[39m.\u001b[39;49mgateway_client, \u001b[39mself\u001b[39;49m\u001b[39m.\u001b[39;49mtarget_id, \u001b[39mself\u001b[39;49m\u001b[39m.\u001b[39;49mname)\n\u001b[1;32m   1325\u001b[0m \u001b[39mfor\u001b[39;00m temp_arg \u001b[39min\u001b[39;00m temp_args:\n\u001b[1;32m   1326\u001b[0m     \u001b[39mif\u001b[39;00m \u001b[39mhasattr\u001b[39m(temp_arg, \u001b[39m\"\u001b[39m\u001b[39m_detach\u001b[39m\u001b[39m\"\u001b[39m):\n",
      "File \u001b[0;32m~/anaconda3/envs/ADAenv/lib/python3.11/site-packages/pyspark/errors/exceptions/captured.py:185\u001b[0m, in \u001b[0;36mcapture_sql_exception.<locals>.deco\u001b[0;34m(*a, **kw)\u001b[0m\n\u001b[1;32m    181\u001b[0m converted \u001b[39m=\u001b[39m convert_exception(e\u001b[39m.\u001b[39mjava_exception)\n\u001b[1;32m    182\u001b[0m \u001b[39mif\u001b[39;00m \u001b[39mnot\u001b[39;00m \u001b[39misinstance\u001b[39m(converted, UnknownException):\n\u001b[1;32m    183\u001b[0m     \u001b[39m# Hide where the exception came from that shows a non-Pythonic\u001b[39;00m\n\u001b[1;32m    184\u001b[0m     \u001b[39m# JVM exception message.\u001b[39;00m\n\u001b[0;32m--> 185\u001b[0m     \u001b[39mraise\u001b[39;00m converted \u001b[39mfrom\u001b[39;00m \u001b[39mNone\u001b[39;00m\n\u001b[1;32m    186\u001b[0m \u001b[39melse\u001b[39;00m:\n\u001b[1;32m    187\u001b[0m     \u001b[39mraise\u001b[39;00m\n",
      "\u001b[0;31mAnalysisException\u001b[0m: [UNRESOLVED_COLUMN.WITH_SUGGESTION] A column or function parameter with name `channel` cannot be resolved. Did you mean one of the following? [`category_cc,join_date,channel,name_cc,subscribers_cc,videos_cc,subscriber_rank_sb,weights`].; line 1 pos 48;\n'Project [*]\n+- 'Filter channel_id#0 IN (list#21 [])\n   :  +- 'Project ['channel]\n   :     +- SubqueryAlias channels\n   :        +- View (`channels`, [category_cc,join_date,channel,name_cc,subscribers_cc,videos_cc,subscriber_rank_sb,weights#19])\n   :           +- Relation [category_cc,join_date,channel,name_cc,subscribers_cc,videos_cc,subscriber_rank_sb,weights#19] csv\n   +- SubqueryAlias video\n      +- View (`video`, [channel_id#0])\n         +- LogicalRDD [channel_id#0], false\n"
     ]
    }
   ],
   "source": [
    "#test spark sql\n",
    "video_schema = StructType([\n",
    "    StructField(\"channel_id\", StringType(), True),\n",
    "])\n",
    "\n",
    "video_file_path = 'data/sampled_dataset.jsonl'\n",
    "video_raw_data = sc.textFile(video_file_path)\n",
    "video_json_data = video_raw_data.map(lambda x: json.loads(x))\n",
    "video_df = spark.createDataFrame(video_json_data, schema=video_schema)\n",
    "\n",
    "channels_file_path = 'data/df_filtered_channels.tsv'\n",
    "channels_df = spark.read.option(\"delimiter\", \"\\t\").csv(channels_file_path, header=True, inferSchema=True)\n",
    "\n",
    "video_df.createOrReplaceTempView(\"video\")\n",
    "channels_df.createOrReplaceTempView(\"channels\")\n",
    "\n",
    "filtered_videos = spark.sql(\"SELECT * FROM video WHERE channel_id IN (SELECT channel FROM channels)\")\n",
    "\n",
    "filtered_videos_path = \"data/df_filtered_videos.jsonl\"\n",
    "json_data = filtered_videos.rdd.collect()\n",
    "\n",
    "with jsonlines.open(filtered_videos_path, \"w\") as jsonl_file:\n",
    "    jsonl_file.write_all(json_data)"
   ]
  },
  {
   "cell_type": "code",
   "execution_count": null,
   "metadata": {},
   "outputs": [
    {
     "name": "stderr",
     "output_type": "stream",
     "text": [
      "23/11/12 11:30:54 WARN Utils: Your hostname, MacBook-Pro-de-Paul-2.local resolves to a loopback address: 127.0.0.1; using 192.168.1.33 instead (on interface en0)\n",
      "23/11/12 11:30:54 WARN Utils: Set SPARK_LOCAL_IP if you need to bind to another address\n",
      "Setting default log level to \"WARN\".\n",
      "To adjust logging level use sc.setLogLevel(newLevel). For SparkR, use setLogLevel(newLevel).\n",
      "23/11/12 11:30:55 WARN NativeCodeLoader: Unable to load native-hadoop library for your platform... using builtin-java classes where applicable\n",
      "                                                                                \r"
     ]
    }
   ],
   "source": [
    "sc = SparkContext()\n",
    "\n",
    "video_file_path = 'data/sampled_dataset.jsonl' #\"/Volumes/Maxtor/DATA/yt_metadata_en.jsonl\"\n",
    "video_raw_data = sc.textFile(video_file_path)\n",
    "video_dataset = video_raw_data.map(lambda x: json.loads(x))\n",
    "\n",
    "channels_file_path = 'data/df_filtered_channels.tsv'\n",
    "channels_dataset = pd.read_csv(channels_file_path)\n",
    "\n",
    "filtered_videos = video_dataset.filter(\n",
    "                               lambda x : x['channel_id'] in channels_dataset['channel'].tolist())\n",
    "\n",
    "\n",
    "filtered_videos_path = \"data/df_filtered_videos.jsonl\"\n",
    "\n",
    "json_data = filtered_videos.collect()\n",
    "\n",
    "with jsonlines.open(filtered_videos_path, \"w\") as jsonl_file:\n",
    "    jsonl_file.write_all(json_data)\n"
   ]
  }
 ],
 "metadata": {
  "kernelspec": {
   "display_name": "ADAenv",
   "language": "python",
   "name": "python3"
  },
  "language_info": {
   "codemirror_mode": {
    "name": "ipython",
    "version": 3
   },
   "file_extension": ".py",
   "mimetype": "text/x-python",
   "name": "python",
   "nbconvert_exporter": "python",
   "pygments_lexer": "ipython3",
   "version": "3.11.5"
  }
 },
 "nbformat": 4,
 "nbformat_minor": 2
}

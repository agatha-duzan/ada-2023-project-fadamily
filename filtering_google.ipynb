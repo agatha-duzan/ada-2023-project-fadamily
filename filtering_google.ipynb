{
 "cells": [
  {
   "cell_type": "code",
   "execution_count": 2,
   "metadata": {},
   "outputs": [],
   "source": [
    "import pandas as pd\n",
    "import os"
   ]
  },
  {
   "cell_type": "code",
   "execution_count": 29,
   "metadata": {},
   "outputs": [],
   "source": [
    "classified_videos_path = 'data/climate_videos_classified.jsonl'\n",
    "climate_videos_classified_df = pd.read_json(classified_videos_path, lines=True)\n",
    "\n",
    "refined_filtered_videos_path = 'data/refine_filtered_videos.jsonl'\n",
    "climate_videos_refined_filtered_df = pd.read_json(refined_filtered_videos_path, lines=True)"
   ]
  },
  {
   "cell_type": "code",
   "execution_count": null,
   "metadata": {},
   "outputs": [],
   "source": [
    "climate_videos_classified_df['classification_categories_list'] = climate_videos_classified_df['classification_categories'].apply(lambda x: x.key())"
   ]
  },
  {
   "cell_type": "code",
   "execution_count": 31,
   "metadata": {},
   "outputs": [],
   "source": [
    "\n",
    "climate_videos_refined_filtered_df = climate_videos_refined_filtered_df.merge(climate_videos_classified_df[['display_id', 'classification_categories']], on='display_id', how='left')\n"
   ]
  }
 ],
 "metadata": {
  "kernelspec": {
   "display_name": "ADAenv",
   "language": "python",
   "name": "python3"
  },
  "language_info": {
   "codemirror_mode": {
    "name": "ipython",
    "version": 3
   },
   "file_extension": ".py",
   "mimetype": "text/x-python",
   "name": "python",
   "nbconvert_exporter": "python",
   "pygments_lexer": "ipython3",
   "version": "3.11.5"
  }
 },
 "nbformat": 4,
 "nbformat_minor": 2
}

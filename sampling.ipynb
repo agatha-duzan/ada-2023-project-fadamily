{
 "cells": [
  {
   "cell_type": "code",
   "execution_count": 1,
   "metadata": {},
   "outputs": [],
   "source": [
    "import matplotlib.pyplot as plt\n",
    "import pandas as pd\n",
    "import random\n",
    "import json\n",
    "import jsonlines\n",
    "import re\n",
    "import string\n",
    "import shutil\n",
    "import os"
   ]
  },
  {
   "cell_type": "markdown",
   "metadata": {},
   "source": [
    "FILTERING VIDEOS"
   ]
  },
  {
   "cell_type": "code",
   "execution_count": 2,
   "metadata": {},
   "outputs": [],
   "source": [
    "keywords = {\n",
    "    'climate change', 'global warming', 'greenhouse gases', 'rising sea levels',\n",
    "    'extreme weather', 'temperature increase', 'climate action', \n",
    "    'carbon emissions', 'renewable energy', 'sustainable living',\n",
    "    'climate science', 'climate crisis', 'climate adaptation',\n",
    "    'natural disaster', 'extreme heat', 'melting ice cap', 'sea level rise',\n",
    "    'biodiversity loss', 'deforestation', 'ocean acidification', 'climate policy', \n",
    "    'environmental policy',\n",
    "    'disaster recovery', 'climate refugees',\n",
    "    'carbon footprint', 'sustainable development', 'green technology',\n",
    "    'renewable resource', 'eco-friendly',\n",
    "    'ecosystem disruption', 'impact on climate',\n",
    "    'paris agreement', 'climate awareness',\n",
    "    'environmental justice', 'clean energy', 'zero carbon',\n",
    "    'green infrastructure', 'ozone layer',\n",
    "    'pollution', 'water scarcity', 'climate education'\n",
    "}"
   ]
  },
  {
   "cell_type": "code",
   "execution_count": 3,
   "metadata": {},
   "outputs": [],
   "source": [
    "#check if text or tags contain climate keywords:\n",
    "def idiot_filter(video):\n",
    "    return video['upload_date'] > '2015'\n",
    "\n",
    "\n",
    "def about_climate(tags):\n",
    "    tags_set = set(tags)\n",
    "    return any(tag.strip().lower() in keywords for tag in tags_set)\n",
    "\n",
    "def climate_text(text):\n",
    "    lowercase_text = text.lower()\n",
    "    return any(keyword in lowercase_text for keyword in keywords)\n",
    "\n",
    "def climate_related(video):\n",
    "    return idiot_filter(video) and (climate_text(video['title']) or about_climate(video['tags']) or climate_text(video['description']))"
   ]
  },
  {
   "cell_type": "code",
   "execution_count": 4,
   "metadata": {},
   "outputs": [
    {
     "name": "stderr",
     "output_type": "stream",
     "text": [
      "Setting default log level to \"WARN\".\n",
      "To adjust logging level use sc.setLogLevel(newLevel). For SparkR, use setLogLevel(newLevel).\n",
      "23/11/13 19:23:19 WARN NativeCodeLoader: Unable to load native-hadoop library for your platform... using builtin-java classes where applicable\n"
     ]
    }
   ],
   "source": [
    "from pyspark import SparkContext\n",
    "sc = SparkContext()"
   ]
  },
  {
   "cell_type": "code",
   "execution_count": 5,
   "metadata": {},
   "outputs": [],
   "source": [
    "file_path = '/Volumes/Maxtor/yt_metadata_en.jsonl'\n",
    "\n",
    "raw_data = sc.textFile(file_path)\n",
    "dataset = raw_data.map(lambda x: json.loads(x))"
   ]
  },
  {
   "cell_type": "code",
   "execution_count": 6,
   "metadata": {},
   "outputs": [
    {
     "name": "stdout",
     "output_type": "stream",
     "text": [
      "Filter recent video\n"
     ]
    }
   ],
   "source": [
    "recent_videos = dataset.filter(idiot_filter)\n",
    "print(\"Filter recent video\")\n",
    "climate_videos = recent_videos.filter(climate_related)"
   ]
  },
  {
   "cell_type": "code",
   "execution_count": 7,
   "metadata": {},
   "outputs": [
    {
     "name": "stderr",
     "output_type": "stream",
     "text": [
      "                                                                                \r"
     ]
    },
    {
     "data": {
      "text/plain": [
       "[{'categories': 'Science & Technology',\n",
       "  'channel_id': 'UCzWQYUVCpZqtN93H8RR44Qw',\n",
       "  'crawl_date': '2019-11-03 22:21:31.549534',\n",
       "  'description': 'Climate change threatens to make dry regions even drier, so scientists at UC Berkeley created a device to make water out of thin air.\\n» Subscribe to Seeker! http://bit.ly/subscribeseeker\\n» Watch more Elements! http://bit.ly/ElementsPlaylist\\n\\nAt least one hundred million people live in desert regions around the world according to the UN, and they survive off of less than 25 cm of rainfall each year, and for many, even that minuscule water supply is under threat as the climate crisis is making dry areas even drier.\\n\\nSo scientists at UC Berkeley have been experimenting with materials that can pull drinking water out of thin air.\\n\\nThat’s right, right out of thin air.\\n\\nA chemist at the University of California, Berkeley reported that he and his colleagues have created a solar-powered device that could provide water to millions living in water-stressed regions.\\n\\nAt the device’s heart is a porous crystalline material, known as a metal-organic framework (MOF), that acts like a sponge: It sucks water vapor out of air, even in the desert, and then releases it as liquid water.\\n\\nA single gram of an MOF can have the surface area of a football field, and depending on the metal and organic molecules they’re made of, MOFs can be tailored to capture various different things in their pores. For example, an MOF could have the ability to capture CO2 and turn it into the fuel methanol, or neutralizing nerve agents like sarin gas. The function the Berkeley scientists used their MOF for was extracting water vapor that’s present in the air.\\n\\nThe lead researcher behind the device started a private company called Water Harvesting.\\n\\nThe company’s plan is to launch a microwave-sized device that can supply 2 adults with enough water for their daily hydration and cooking needs. Eventually the research team envisions a harvester device big enough to supply a small village. If the devices end up being affordable, safe, and reliable enough, these metal-organic frameworks have the potential to turn even the driest desert into an oasis.\\n\\nLearn more about this technology and what it could do for even the driest regions of the world on this episode of Elements.\\n\\n#Water #Desert #Technology #Seeker #Science #Elements\\n\\nLead Poisoning Is Still a Huge Problem, But There Could Be a Quick Fix\\nhttps://youtu.be/QHC4fAAwT4I\\n\\nRead More:\\nWater harvester makes it easy to drink water from thin air\\nhttps://www.universityofcalifornia.edu/news/water-harvester-makes-it-easy-drink-water-thin-air\\n\"During field tests over three days in California’s arid Mojave Desert, the harvester reliably produced 0.7 liters per kilogram of absorber per day — nearly three cups of clean, pure H2O. That’s 10 times better than the previous version of the harvester. The harvester cycles 24/7, powered by solar panels and a battery.\"\\n\\nCrystalline nets harvest water from desert air, turn carbon dioxide into liquid fuel\\nhttps://www.sciencemag.org/news/2019/09/crystalline-nets-harvest-water-desert-air-turn-carbon-dioxide-liquid-fuel\\n\"At its heart is a porous crystalline material, known as a metal-organic framework (MOF), that acts like a sponge: It sucks water vapor out of air, even in the desert, and then releases it as liquid water.\"\\n\\nHow does climate change affect precipitation?\\nhttps://pmm.nasa.gov/resources/faq/how-does-climate-change-affect-precipitation\\n\"Rising temperatures will intensify the Earth’s water cycle, increasing evaporation.  Increased evaporation will result in more storms, but also contribute to drying over some land areas. As a result, storm-affected areas are likely to experience increases in precipitation and increased risk of flooding, while areas located far away from storm tracks are likely to experience less precipitation and increased risk of drought.\"\\n\\n____________________\\n\\nElements is more than just a science show. It’s your science-loving best friend, tasked with keeping you updated and interested on all the compelling, innovative and groundbreaking science happening all around us. Join our passionate hosts as they help break down and present fascinating science, from quarks to quantum theory and beyond.\\n\\nSeeker empowers the curious to understand the science shaping our world. We tell award-winning stories about the natural forces and groundbreaking innovations that impact our lives, our planet, and our universe.\\n\\nVisit the Seeker website https://www.seeker.com/videos\\n\\nElements on Facebook  https://www.facebook.com/SeekerElements/\\n\\nSubscribe now! http://www.youtube.com/subscription_center?add_user=dnewschannel\\n\\nSeeker on Twitter http://twitter.com/seeker\\n\\nSeeker on Facebook https://www.facebook.com/SeekerMedia/\\n\\nSeeker http://www.seeker.com/',\n",
       "  'dislike_count': 503.0,\n",
       "  'display_id': 'XPSYzLZ7xKU',\n",
       "  'duration': 200,\n",
       "  'like_count': 15328.0,\n",
       "  'tags': 'seeker,science,curiosity,education,explain,learn,teach,Climate change,climate crisis,water crisis,water,evaporation,dry regions,uc berkeley,California,UN,United Nations,scientists,drinking water,air,carbon dioxide,CO2,solar power,solar-powered device,material,MOF,sponge,vapor,water vapor,liquid,compound,technology,new tech,accessibility,organic,molecules,atoms,metal atoms,Water Harvesting,elements,host,explainer,news,innovative,discovery,science videos,inspiration',\n",
       "  'title': 'Transforming Air Into Pure Drinking Water Is Finally Possible, Here’s How',\n",
       "  'upload_date': '2019-10-03 00:00:00',\n",
       "  'view_count': 357909.0}]"
      ]
     },
     "execution_count": 7,
     "metadata": {},
     "output_type": "execute_result"
    }
   ],
   "source": [
    "climate_videos.take(1)\n",
    "\n",
    "#count = climate_videos.count()\n",
    "#print(\"Number of rows after filtering:\", count)"
   ]
  },
  {
   "cell_type": "code",
   "execution_count": 8,
   "metadata": {},
   "outputs": [
    {
     "name": "stderr",
     "output_type": "stream",
     "text": [
      "                                                                                \r"
     ]
    }
   ],
   "source": [
    "climate_videos_path = \"data/climate_videos.jsonl\"\n",
    "\n",
    "with jsonlines.open(climate_videos_path, \"w\") as jsonl_file:\n",
    "    jsonl_file.write_all(climate_videos.collect())\n",
    "\n",
    "#sc.stop()\n",
    "#climate_videos.saveAsTextFile()\n",
    "#climate_videos.saveAsTextFile('data/climate_videos.csv')\"\"\""
   ]
  },
  {
   "cell_type": "code",
   "execution_count": null,
   "metadata": {},
   "outputs": [],
   "source": [
    "climate_video_df = pd.read_csv(climate_videos_path)"
   ]
  },
  {
   "cell_type": "markdown",
   "metadata": {},
   "source": [
    "SAMPLING"
   ]
  },
  {
   "cell_type": "code",
   "execution_count": null,
   "metadata": {},
   "outputs": [],
   "source": [
    "#file_path = '/Volumes/Maxtor/youtube_comments.tsv'\n",
    "#sample_size = 10000"
   ]
  },
  {
   "cell_type": "code",
   "execution_count": null,
   "metadata": {},
   "outputs": [],
   "source": [
    "#df = pd.read_csv(file_path, sep='\\t', header=0, nrows=sample_size)"
   ]
  },
  {
   "cell_type": "code",
   "execution_count": null,
   "metadata": {},
   "outputs": [],
   "source": [
    "#df.to_csv('data/comments_sample.csv', index=False)"
   ]
  }
 ],
 "metadata": {
  "kernelspec": {
   "display_name": "ADAenv",
   "language": "python",
   "name": "python3"
  },
  "language_info": {
   "codemirror_mode": {
    "name": "ipython",
    "version": 3
   },
   "file_extension": ".py",
   "mimetype": "text/x-python",
   "name": "python",
   "nbconvert_exporter": "python",
   "pygments_lexer": "ipython3",
   "version": "3.11.5"
  }
 },
 "nbformat": 4,
 "nbformat_minor": 2
}

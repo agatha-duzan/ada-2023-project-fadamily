{
 "cells": [
  {
   "cell_type": "code",
   "execution_count": 1,
   "metadata": {},
   "outputs": [],
   "source": [
    "import pandas as pd\n",
    "import os"
   ]
  },
  {
   "cell_type": "code",
   "execution_count": 2,
   "metadata": {},
   "outputs": [],
   "source": [
    "classified_videos_path = 'data/climate_videos_classified.jsonl'\n",
    "climate_videos_classified_df = pd.read_json(classified_videos_path, lines=True)\n",
    "\n",
    "refined_filtered_videos_path = 'data/refine_filtered_videos.jsonl'\n",
    "climate_videos_refined_filtered_df = pd.read_json(refined_filtered_videos_path, lines=True)"
   ]
  },
  {
   "cell_type": "code",
   "execution_count": 3,
   "metadata": {},
   "outputs": [],
   "source": [
    "climate_videos_classified_df['classification_categories_list'] = climate_videos_classified_df['classification_categories'].apply(lambda x: x.keys())"
   ]
  },
  {
   "cell_type": "code",
   "execution_count": 4,
   "metadata": {},
   "outputs": [],
   "source": [
    "\n",
    "climate_videos_refined_filtered_df = climate_videos_refined_filtered_df.merge(climate_videos_classified_df[['display_id', 'classification_categories']], on='display_id', how='left')"
   ]
  },
  {
   "cell_type": "markdown",
   "metadata": {},
   "source": [
    "## Get unique categories, filter them"
   ]
  },
  {
   "cell_type": "code",
   "execution_count": 23,
   "metadata": {},
   "outputs": [
    {
     "name": "stdout",
     "output_type": "stream",
     "text": [
      "1065\n"
     ]
    }
   ],
   "source": [
    "most_common_categories = climate_videos_classified_df['classification_categories'].explode().unique()\n",
    "print(len(most_common_categories))"
   ]
  },
  {
   "cell_type": "code",
   "execution_count": 37,
   "metadata": {},
   "outputs": [
    {
     "name": "stdout",
     "output_type": "stream",
     "text": [
      "1063\n"
     ]
    }
   ],
   "source": [
    "# remove nan and non category values\n",
    "most_common_categories = [category for category in most_common_categories \n",
    "                          if isinstance(category, str) and category.startswith('/')]\n",
    "print(len(most_common_categories))"
   ]
  },
  {
   "cell_type": "code",
   "execution_count": 38,
   "metadata": {},
   "outputs": [],
   "source": [
    "# save in txt file\n",
    "with open('categories.txt', 'w') as file:\n",
    "    for category in most_common_categories:\n",
    "        file.write(str(category) + '\\n')"
   ]
  },
  {
   "cell_type": "code",
   "execution_count": 54,
   "metadata": {},
   "outputs": [
    {
     "data": {
      "text/plain": [
       "['/People & Society/Social Issues & Advocacy/Green Living & Environmental Issues',\n",
       " '/Science/Ecology & Environment/Other',\n",
       " '/Science/Ecology & Environment/Climate Change & Global Warming',\n",
       " '/Business & Industrial/Energy & Utilities/Renewable & Alternative Energy',\n",
       " '/Shopping/Green & Eco-Friendly Shopping',\n",
       " '/News/Business News/Economy News',\n",
       " '/People & Society/Social Sciences/Economics',\n",
       " '/Travel & Transportation/Specialty Travel/Ecotourism',\n",
       " '/Health/Health Conditions/Allergies/Environmental Allergies']"
      ]
     },
     "execution_count": 54,
     "metadata": {},
     "output_type": "execute_result"
    }
   ],
   "source": [
    "climate_related_categories = []\n",
    "\n",
    "# Keywords related to climate change and environmental issues\n",
    "keywords = [\"Climate Change\", \"Global Warming\", \"Renewable Energy\", \"Environment\", \"Ecology\",\n",
    "            \"Green Living\", \"Sustainability\", \"Energy Efficiency\", \"Alternative Energy\",\n",
    "            \"Emissions\", \"Carbon\", \"Solar\", \"Wind Power\", \"Hydroelectric\", \"Geothermal\", \"Bioenergy\",\n",
    "            \"Environmental Conservation\", \"Air Quality\", \"Pollution\", \"Recycling\",\n",
    "            \"Water Conservation\", \"Deforestation\", \"Biodiversity\", \"Ocean Conservation\", \"Greenhouse\", \"Eco\"]\n",
    "\n",
    "# Read the file and filter categories\n",
    "for cat in most_common_categories:\n",
    "    if any(keyword in cat for keyword in keywords):\n",
    "        climate_related_categories.append(cat)\n",
    "\n",
    "climate_related_categories\n"
   ]
  },
  {
   "cell_type": "markdown",
   "metadata": {},
   "source": [
    "Manuelly remove non relevant ones:"
   ]
  },
  {
   "cell_type": "code",
   "execution_count": 55,
   "metadata": {},
   "outputs": [],
   "source": [
    "climate_related_categories.remove('/News/Business News/Economy News')\n",
    "climate_related_categories.remove('/People & Society/Social Sciences/Economics')\n",
    "climate_related_categories.remove('/Health/Health Conditions/Allergies/Environmental Allergies')\n"
   ]
  },
  {
   "cell_type": "code",
   "execution_count": 56,
   "metadata": {},
   "outputs": [
    {
     "data": {
      "text/plain": [
       "['/People & Society/Social Issues & Advocacy/Green Living & Environmental Issues',\n",
       " '/Science/Ecology & Environment/Other',\n",
       " '/Science/Ecology & Environment/Climate Change & Global Warming',\n",
       " '/Business & Industrial/Energy & Utilities/Renewable & Alternative Energy',\n",
       " '/Shopping/Green & Eco-Friendly Shopping',\n",
       " '/Travel & Transportation/Specialty Travel/Ecotourism']"
      ]
     },
     "execution_count": 56,
     "metadata": {},
     "output_type": "execute_result"
    }
   ],
   "source": [
    "climate_related_categories"
   ]
  },
  {
   "cell_type": "markdown",
   "metadata": {},
   "source": [
    "## Create & export dataframe with double filtered videos"
   ]
  },
  {
   "cell_type": "code",
   "execution_count": 66,
   "metadata": {},
   "outputs": [
    {
     "data": {
      "text/plain": [
       "70231"
      ]
     },
     "execution_count": 66,
     "metadata": {},
     "output_type": "execute_result"
    }
   ],
   "source": [
    "df = climate_videos_refined_filtered_df[climate_videos_refined_filtered_df['classification_categories']\n",
    "                                        .apply(lambda x: any(category in x.keys() for category in climate_related_categories))]\n",
    "len(df)"
   ]
  },
  {
   "cell_type": "code",
   "execution_count": 67,
   "metadata": {},
   "outputs": [],
   "source": [
    "df.to_json('climate_videos_v3.jsonl', orient='records', lines=True)"
   ]
  },
  {
   "cell_type": "markdown",
   "metadata": {},
   "source": [
    "## Visu Categories"
   ]
  },
  {
   "cell_type": "code",
   "execution_count": null,
   "metadata": {},
   "outputs": [],
   "source": [
    "top_30_categories = pd.Series(most_common_categories).head(30)\n",
    "top_30_categories.plot(kind='barh', figsize=(10, 10), title='Top 30 Categories')\n"
   ]
  },
  {
   "cell_type": "code",
   "execution_count": null,
   "metadata": {},
   "outputs": [],
   "source": [
    "climate_change_df = climate_videos_refined_filtered_df[climate_videos_refined_filtered_df['classification_categories'].apply(lambda x: any('Climate Change & Global Warming' in category for category in x.keys()))]\n"
   ]
  },
  {
   "cell_type": "markdown",
   "metadata": {},
   "source": [
    "look for videos where the 'classification_categories' list contains a string containing 'Renewable & Alternative' but that is not in df"
   ]
  },
  {
   "cell_type": "code",
   "execution_count": null,
   "metadata": {},
   "outputs": [],
   "source": [
    "df = climate_videos_refined_filtered_df[\n",
    "    (climate_videos_refined_filtered_df['classification_categories'].apply(lambda x: any('Green Living' in category for category in x.keys()))) |\n",
    "    (climate_videos_refined_filtered_df['classification_categories'].apply(lambda x: any('Climate Change & Global Warming' in category for category in x.keys())))\n",
    "]\n",
    "\n",
    "\n"
   ]
  },
  {
   "cell_type": "code",
   "execution_count": null,
   "metadata": {},
   "outputs": [],
   "source": [
    "renewable_alternative_videos = climate_videos_refined_filtered_df[\n",
    "    (climate_videos_refined_filtered_df['classification_categories'].apply(lambda x: any('Accidents & Disasters' in category for category in x.keys()))) &\n",
    "    ~(climate_videos_refined_filtered_df['display_id'].isin(df['display_id']))\n",
    "]"
   ]
  },
  {
   "cell_type": "code",
   "execution_count": null,
   "metadata": {},
   "outputs": [
    {
     "data": {
      "text/plain": [
       "3620"
      ]
     },
     "execution_count": 36,
     "metadata": {},
     "output_type": "execute_result"
    }
   ],
   "source": [
    "len(renewable_alternative_videos)"
   ]
  },
  {
   "cell_type": "code",
   "execution_count": null,
   "metadata": {},
   "outputs": [
    {
     "data": {
      "text/plain": [
       "\"http://www.Suspicious0bservers.org\\xa0\\nhttp://www.SpaceWeatherNews.com\\nhttp://www.MagneticReversal.org\\nhttp://www.ObservatoryProject.com\\nhttp://www.EarthChanges.org\\n\\nSolar Alerts on Twitter: https://twitter.com/TheRealS0s\\nTHE DISASTER PREDICTION APP: http://kck.st/1RO4K82\\n\\nGood Videos/Articles:\\nThe Sun is Going to Sleep: http://www.youtube.com/watch?v=7whL9jvdL5s\\nTop 6 Climate Change Problems: http://www.youtube.com/watch?v=4Ew05sRDAcU\\nPause on Pausing the Pause: http://www.youtube.com/watch?v=CZH46p7MUlw\\nSun Series: http://www.youtube.com/playlist?list=PLHSoxioQtwZcJj_9clLz7Bggso7qg2PDj\\nIPCC History: http://www.suspicious0bservers.org/selections-from-the-1st-ipcc-full-report-wg1/\\n\\nToday's Featured Links:\\nLa Nina? https://weather.com/news/climate/news/la-nina-noaa-update-september\\n\\nOriginal music by NEMES1S\\n\\nWORLD WEATHER:\\nTY WindMap: https://www.windyty.com\\nEarth WindMap: http://earth.nullschool.net/#current/wind/isobaric/850hPa/orthographic=-345.32,51.43,481\\nGlobal Maps: http://www.atmos.albany.edu/student/kgriffin/maps/\\nNDBC Buoys: http://www.ndbc.noaa.gov/\\nHurricaneZone Satellite Images: http://www.hurricanezone.net/westpacific/animations.html\\nNOAA Environmental Visualization Laboratory: http://www.nnvl.noaa.gov/Default.php\\nSatellite Maps: http://www.woweather.com/cgi-app/satellite?LANG=us&CONT=namk\\nForecast Maps: http://www.woweather.com/weather/maps/forecastmaps?LANG=us&CONT=usus\\nTORCON: http://www.weather.com/news/tornado-torcon-index [Tornado Forecast for the day]\\nHURRICANE TRACKER: http://www.weather.com/weather/hurricanecentral/tracker\\nGOES Satellites: http://rsd.gsfc.nasa.gov/goes/\\nTHE US WINDMAP: http://hint.fm/wind/\\nSevere Weather Threats: http://www.weather.com/news/weather-severe/severe-weather-tracker\\nCanada Weather Office Satellite Composites: http://www.weatheroffice.gc.ca/satellite/index_e.html\\nTemperature Delta: http://www.intellicast.com/National/Temperature/Delta.aspx\\nRecords/Extremes: http://www.ncdc.noaa.gov/extremes/records/\\n\\nSOHO Solar Wind: http://umtof.umd.edu/pm/\\nPlanetary Orbital Diagram - Ceres1 JPL: http://ssd.jpl.nasa.gov/sbdb.cgi?sstr=ceres;orb=1;cov=0;log=0;cad=0#orb\\nSDO: http://sdo.gsfc.nasa.gov/data/\\nHelioviewer: http://www.helioviewer.org/\\nSOHO: http://sohodata.nascom.nasa.gov/cgi-bin/soho_movie_theater\\nStereo: http://stereo.gsfc.nasa.gov/cgi-bin/images\\niSWA: http://iswa.gsfc.nasa.gov/iswa/iSWA.html\\nNASA ENLIL SPIRAL: http://iswa.gsfc.nasa.gov:8080/IswaSystemWebApp/iSWACygnetStreamer?timestamp=2038-01-23+00%3A44%3A00&window=-1&cygnetId=261\\nGamma Ray Bursts: http://grb.sonoma.edu/\\nBARTOL Cosmic Rays: http://neutronm.bartol.udel.edu//spaceweather/welcome.html\\nISWA: http://iswa.ccmc.gsfc.nasa.gov:8080/IswaSystemWebApp/\\nGONG: http://gong2.nso.edu/dailyimages/\\nGONG Magnetic Maps: http://gong.nso.edu/data/magmap/ondemand.html\\n\\nMISC Links:\\nOLR: http://www.esrl.noaa.gov/psd/map/clim/olr.shtml\\nJAPAN Radiation Map: http://jciv.iidj.net/map/\\nRADIATION Network: http://radiationnetwork.com/\\nLISS: http://earthquake.usgs.gov/monitoring/operations/heliplots_gsn.php\\nQUAKES LIST FULL: http://www.emsc-csem.org/Earthquake/seismologist.php\\nRSOE: http://hisz.rsoe.hu/alertmap/index2.php [That cool alert map we use]\\nMoon: http://www.fourmilab.ch/earthview/pacalc.html\""
      ]
     },
     "execution_count": 49,
     "metadata": {},
     "output_type": "execute_result"
    }
   ],
   "source": [
    "renewable_alternative_videos.loc[45179, 'description']\n"
   ]
  },
  {
   "cell_type": "code",
   "execution_count": null,
   "metadata": {},
   "outputs": [
    {
     "data": {
      "text/plain": [
       "73213    Drone footage shows panorama of Shenzhen lands...\n",
       "35063                Sharks Discovered Living In A Volcano\n",
       "82282     Snow Storm Disrupts Travel, Makes Life Difficult\n",
       "94379                   The Aftermath of Natural Disasters\n",
       "31478                 Flooding in Texas view from airplane\n",
       "42978    Rush Limbaugh EVACUATES Florida After Calling ...\n",
       "80637    Rasamayi Balakishan Vs Ponnam Prabhakar | One ...\n",
       "74132    This day in history May 17th: natural disaster...\n",
       "45179    Volcanos, Quakes, Typhoon MagStorm Watch | S0 ...\n",
       "60614               Floods in western India kill 20 people\n",
       "Name: title, dtype: object"
      ]
     },
     "execution_count": 44,
     "metadata": {},
     "output_type": "execute_result"
    }
   ],
   "source": [
    "renewable_alternative_videos.sample(10).title"
   ]
  }
 ],
 "metadata": {
  "kernelspec": {
   "display_name": "ADAenv",
   "language": "python",
   "name": "python3"
  },
  "language_info": {
   "codemirror_mode": {
    "name": "ipython",
    "version": 3
   },
   "file_extension": ".py",
   "mimetype": "text/x-python",
   "name": "python",
   "nbconvert_exporter": "python",
   "pygments_lexer": "ipython3",
   "version": "3.11.5"
  }
 },
 "nbformat": 4,
 "nbformat_minor": 2
}
